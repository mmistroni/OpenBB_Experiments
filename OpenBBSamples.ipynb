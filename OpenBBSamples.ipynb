{
  "nbformat": 4,
  "nbformat_minor": 0,
  "metadata": {
    "colab": {
      "provenance": [],
      "include_colab_link": true
    },
    "kernelspec": {
      "name": "python3",
      "display_name": "Python 3"
    },
    "language_info": {
      "name": "python"
    }
  },
  "cells": [
    {
      "cell_type": "markdown",
      "metadata": {
        "id": "view-in-github",
        "colab_type": "text"
      },
      "source": [
        "<a href=\"https://colab.research.google.com/github/mmistroni/OpenBB_Experiments/blob/main/OpenBBSamples.ipynb\" target=\"_parent\"><img src=\"https://colab.research.google.com/assets/colab-badge.svg\" alt=\"Open In Colab\"/></a>"
      ]
    },
    {
      "cell_type": "markdown",
      "source": [
        "# Installing the OpenBB Platform in Google Colab\n",
        "\n",
        "This notebook will install the OpenBB Platform, fetch some data and prepare it for display as a bar chart.\n",
        "\n",
        "Sign up for a free account here: https://my.openbb.co"
      ],
      "metadata": {
        "id": "xIOXTKkqBReO"
      }
    },
    {
      "cell_type": "code",
      "execution_count": 1,
      "metadata": {
        "id": "xvU65bhqKNns",
        "outputId": "6e41c9ef-fb40-46b3-8cd2-20486509e2dd",
        "colab": {
          "base_uri": "https://localhost:8080/"
        }
      },
      "outputs": [
        {
          "output_type": "stream",
          "name": "stdout",
          "text": [
            "Requirement already satisfied: openbb in /usr/local/lib/python3.11/dist-packages (4.4.3)\n",
            "Requirement already satisfied: openbb-benzinga<2.0.0,>=1.4.0 in /usr/local/lib/python3.11/dist-packages (from openbb) (1.4.0)\n",
            "Requirement already satisfied: openbb-bls<2.0.0,>=1.1.1 in /usr/local/lib/python3.11/dist-packages (from openbb) (1.1.1)\n",
            "Requirement already satisfied: openbb-cftc<2.0.0,>=1.1.0 in /usr/local/lib/python3.11/dist-packages (from openbb) (1.1.0)\n",
            "Requirement already satisfied: openbb-commodity<2.0.0,>=1.3.0 in /usr/local/lib/python3.11/dist-packages (from openbb) (1.3.0)\n",
            "Requirement already satisfied: openbb-core<2.0.0,>=1.4.3 in /usr/local/lib/python3.11/dist-packages (from openbb) (1.4.4)\n",
            "Requirement already satisfied: openbb-crypto<2.0.0,>=1.4.0 in /usr/local/lib/python3.11/dist-packages (from openbb) (1.4.0)\n",
            "Requirement already satisfied: openbb-currency<2.0.0,>=1.4.0 in /usr/local/lib/python3.11/dist-packages (from openbb) (1.4.0)\n",
            "Requirement already satisfied: openbb-derivatives<2.0.0,>=1.4.0 in /usr/local/lib/python3.11/dist-packages (from openbb) (1.4.0)\n",
            "Requirement already satisfied: openbb-econdb<2.0.0,>=1.3.0 in /usr/local/lib/python3.11/dist-packages (from openbb) (1.3.0)\n",
            "Requirement already satisfied: openbb-economy<2.0.0,>=1.4.1 in /usr/local/lib/python3.11/dist-packages (from openbb) (1.4.1)\n",
            "Requirement already satisfied: openbb-equity<2.0.0,>=1.4.0 in /usr/local/lib/python3.11/dist-packages (from openbb) (1.4.0)\n",
            "Requirement already satisfied: openbb-etf<2.0.0,>=1.4.0 in /usr/local/lib/python3.11/dist-packages (from openbb) (1.4.0)\n",
            "Requirement already satisfied: openbb-federal-reserve<2.0.0,>=1.4.1 in /usr/local/lib/python3.11/dist-packages (from openbb) (1.4.1)\n",
            "Requirement already satisfied: openbb-fixedincome<2.0.0,>=1.4.2 in /usr/local/lib/python3.11/dist-packages (from openbb) (1.4.2)\n",
            "Requirement already satisfied: openbb-fmp<2.0.0,>=1.4.1 in /usr/local/lib/python3.11/dist-packages (from openbb) (1.4.1)\n",
            "Requirement already satisfied: openbb-fred<2.0.0,>=1.4.3 in /usr/local/lib/python3.11/dist-packages (from openbb) (1.4.3)\n",
            "Requirement already satisfied: openbb-imf<2.0.0,>=1.1.0 in /usr/local/lib/python3.11/dist-packages (from openbb) (1.1.0)\n",
            "Requirement already satisfied: openbb-index<2.0.0,>=1.4.0 in /usr/local/lib/python3.11/dist-packages (from openbb) (1.4.0)\n",
            "Requirement already satisfied: openbb-intrinio<2.0.0,>=1.4.0 in /usr/local/lib/python3.11/dist-packages (from openbb) (1.4.0)\n",
            "Requirement already satisfied: openbb-news<2.0.0,>=1.4.0 in /usr/local/lib/python3.11/dist-packages (from openbb) (1.4.0)\n",
            "Requirement already satisfied: openbb-oecd<2.0.0,>=1.4.0 in /usr/local/lib/python3.11/dist-packages (from openbb) (1.4.0)\n",
            "Requirement already satisfied: openbb-platform-api<2.0.0,>=1.1.5 in /usr/local/lib/python3.11/dist-packages (from openbb) (1.1.5)\n",
            "Requirement already satisfied: openbb-polygon<2.0.0,>=1.4.0 in /usr/local/lib/python3.11/dist-packages (from openbb) (1.4.0)\n",
            "Requirement already satisfied: openbb-regulators<2.0.0,>=1.4.1 in /usr/local/lib/python3.11/dist-packages (from openbb) (1.4.1)\n",
            "Requirement already satisfied: openbb-sec<2.0.0,>=1.4.2 in /usr/local/lib/python3.11/dist-packages (from openbb) (1.4.2)\n",
            "Requirement already satisfied: openbb-tiingo<2.0.0,>=1.4.0 in /usr/local/lib/python3.11/dist-packages (from openbb) (1.4.0)\n",
            "Requirement already satisfied: openbb-tradingeconomics<2.0.0,>=1.4.0 in /usr/local/lib/python3.11/dist-packages (from openbb) (1.4.0)\n",
            "Requirement already satisfied: openbb-us-eia<2.0.0,>=1.1.0 in /usr/local/lib/python3.11/dist-packages (from openbb) (1.1.0)\n",
            "Requirement already satisfied: openbb-yfinance<2.0.0,>=1.4.2 in /usr/local/lib/python3.11/dist-packages (from openbb) (1.4.2)\n",
            "Requirement already satisfied: aiohttp<4.0.0,>=3.11.11 in /usr/local/lib/python3.11/dist-packages (from openbb-core<2.0.0,>=1.4.3->openbb) (3.11.15)\n",
            "Requirement already satisfied: fastapi<0.116,>=0.115 in /usr/local/lib/python3.11/dist-packages (from openbb-core<2.0.0,>=1.4.3->openbb) (0.115.12)\n",
            "Requirement already satisfied: html5lib<2.0,>=1.1 in /usr/local/lib/python3.11/dist-packages (from openbb-core<2.0.0,>=1.4.3->openbb) (1.1)\n",
            "Requirement already satisfied: importlib-metadata>=6.8.0 in /usr/local/lib/python3.11/dist-packages (from openbb-core<2.0.0,>=1.4.3->openbb) (8.6.1)\n",
            "Requirement already satisfied: pandas>=1.5.3 in /usr/local/lib/python3.11/dist-packages (from openbb-core<2.0.0,>=1.4.3->openbb) (2.2.2)\n",
            "Requirement already satisfied: posthog<4.0.0,>=3.3.1 in /usr/local/lib/python3.11/dist-packages (from openbb-core<2.0.0,>=1.4.3->openbb) (3.24.1)\n",
            "Requirement already satisfied: pydantic<3.0.0,>=2.5.1 in /usr/local/lib/python3.11/dist-packages (from openbb-core<2.0.0,>=1.4.3->openbb) (2.11.2)\n",
            "Requirement already satisfied: pyjwt<3.0.0,>=2.10.1 in /usr/local/lib/python3.11/dist-packages (from openbb-core<2.0.0,>=1.4.3->openbb) (2.10.1)\n",
            "Requirement already satisfied: python-dotenv<2.0.0,>=1.0.0 in /usr/local/lib/python3.11/dist-packages (from openbb-core<2.0.0,>=1.4.3->openbb) (1.1.0)\n",
            "Requirement already satisfied: python-multipart<0.0.21,>=0.0.20 in /usr/local/lib/python3.11/dist-packages (from openbb-core<2.0.0,>=1.4.3->openbb) (0.0.20)\n",
            "Requirement already satisfied: requests<3.0.0,>=2.32.1 in /usr/local/lib/python3.11/dist-packages (from openbb-core<2.0.0,>=1.4.3->openbb) (2.32.3)\n",
            "Requirement already satisfied: ruff<0.8,>=0.7 in /usr/local/lib/python3.11/dist-packages (from openbb-core<2.0.0,>=1.4.3->openbb) (0.7.4)\n",
            "Requirement already satisfied: uuid7<0.2.0,>=0.1.0 in /usr/local/lib/python3.11/dist-packages (from openbb-core<2.0.0,>=1.4.3->openbb) (0.1.0)\n",
            "Requirement already satisfied: uvicorn<0.35.0,>=0.34.0 in /usr/local/lib/python3.11/dist-packages (from openbb-core<2.0.0,>=1.4.3->openbb) (0.34.1)\n",
            "Requirement already satisfied: websockets<16.0,>=15.0 in /usr/local/lib/python3.11/dist-packages (from openbb-core<2.0.0,>=1.4.3->openbb) (15.0.1)\n",
            "Requirement already satisfied: aiohttp-client-cache<0.12.0,>=0.11.0 in /usr/local/lib/python3.11/dist-packages (from openbb-econdb<2.0.0,>=1.3.0->openbb) (0.11.1)\n",
            "Requirement already satisfied: aiosqlite<0.21.0,>=0.20.0 in /usr/local/lib/python3.11/dist-packages (from openbb-econdb<2.0.0,>=1.3.0->openbb) (0.20.0)\n",
            "Requirement already satisfied: requests-cache<2.0.0,>=1.1.0 in /usr/local/lib/python3.11/dist-packages (from openbb-intrinio<2.0.0,>=1.4.0->openbb) (1.2.1)\n",
            "Requirement already satisfied: defusedxml<0.9.0,>=0.8.0rc2 in /usr/local/lib/python3.11/dist-packages (from openbb-oecd<2.0.0,>=1.4.0->openbb) (0.8.0rc2)\n",
            "Requirement already satisfied: urllib3>1.26.16 in /usr/local/lib/python3.11/dist-packages (from openbb-oecd<2.0.0,>=1.4.0->openbb) (2.3.0)\n",
            "Requirement already satisfied: deepdiff in /usr/local/lib/python3.11/dist-packages (from openbb-platform-api<2.0.0,>=1.1.5->openbb) (8.4.2)\n",
            "Requirement already satisfied: beautifulsoup4<5.0,>=4.12 in /usr/local/lib/python3.11/dist-packages (from openbb-sec<2.0.0,>=1.4.2->openbb) (4.13.3)\n",
            "Requirement already satisfied: inscriptis<3.0.0,>=2.5.3 in /usr/local/lib/python3.11/dist-packages (from openbb-sec<2.0.0,>=1.4.2->openbb) (2.6.0)\n",
            "Requirement already satisfied: lxml<6.0.0,>=5.2.1 in /usr/local/lib/python3.11/dist-packages (from openbb-sec<2.0.0,>=1.4.2->openbb) (5.3.1)\n",
            "Requirement already satisfied: trafilatura<3.0,>=2.0 in /usr/local/lib/python3.11/dist-packages (from openbb-sec<2.0.0,>=1.4.2->openbb) (2.0.0)\n",
            "Requirement already satisfied: xmltodict<0.14.0,>=0.13.0 in /usr/local/lib/python3.11/dist-packages (from openbb-sec<2.0.0,>=1.4.2->openbb) (0.13.0)\n",
            "Requirement already satisfied: async-lru<3.0.0,>=2.0.4 in /usr/local/lib/python3.11/dist-packages (from openbb-us-eia<2.0.0,>=1.1.0->openbb) (2.0.5)\n",
            "Requirement already satisfied: openpyxl<4.0.0,>=3.1.5 in /usr/local/lib/python3.11/dist-packages (from openbb-us-eia<2.0.0,>=1.1.0->openbb) (3.1.5)\n",
            "Requirement already satisfied: xlrd<3.0.0,>=2.0.1 in /usr/local/lib/python3.11/dist-packages (from openbb-us-eia<2.0.0,>=1.1.0->openbb) (2.0.1)\n",
            "Requirement already satisfied: yfinance<0.3.0,>=0.2.55 in /usr/local/lib/python3.11/dist-packages (from openbb-yfinance<2.0.0,>=1.4.2->openbb) (0.2.55)\n",
            "Requirement already satisfied: aiohappyeyeballs>=2.3.0 in /usr/local/lib/python3.11/dist-packages (from aiohttp<4.0.0,>=3.11.11->openbb-core<2.0.0,>=1.4.3->openbb) (2.6.1)\n",
            "Requirement already satisfied: aiosignal>=1.1.2 in /usr/local/lib/python3.11/dist-packages (from aiohttp<4.0.0,>=3.11.11->openbb-core<2.0.0,>=1.4.3->openbb) (1.3.2)\n",
            "Requirement already satisfied: attrs>=17.3.0 in /usr/local/lib/python3.11/dist-packages (from aiohttp<4.0.0,>=3.11.11->openbb-core<2.0.0,>=1.4.3->openbb) (25.3.0)\n",
            "Requirement already satisfied: frozenlist>=1.1.1 in /usr/local/lib/python3.11/dist-packages (from aiohttp<4.0.0,>=3.11.11->openbb-core<2.0.0,>=1.4.3->openbb) (1.5.0)\n",
            "Requirement already satisfied: multidict<7.0,>=4.5 in /usr/local/lib/python3.11/dist-packages (from aiohttp<4.0.0,>=3.11.11->openbb-core<2.0.0,>=1.4.3->openbb) (6.3.2)\n",
            "Requirement already satisfied: propcache>=0.2.0 in /usr/local/lib/python3.11/dist-packages (from aiohttp<4.0.0,>=3.11.11->openbb-core<2.0.0,>=1.4.3->openbb) (0.3.1)\n",
            "Requirement already satisfied: yarl<2.0,>=1.17.0 in /usr/local/lib/python3.11/dist-packages (from aiohttp<4.0.0,>=3.11.11->openbb-core<2.0.0,>=1.4.3->openbb) (1.18.3)\n",
            "Requirement already satisfied: itsdangerous>=2.0 in /usr/local/lib/python3.11/dist-packages (from aiohttp-client-cache<0.12.0,>=0.11.0->openbb-econdb<2.0.0,>=1.3.0->openbb) (2.2.0)\n",
            "Requirement already satisfied: url-normalize<2.0,>=1.4 in /usr/local/lib/python3.11/dist-packages (from aiohttp-client-cache<0.12.0,>=0.11.0->openbb-econdb<2.0.0,>=1.3.0->openbb) (1.4.3)\n",
            "Requirement already satisfied: typing_extensions>=4.0 in /usr/local/lib/python3.11/dist-packages (from aiosqlite<0.21.0,>=0.20.0->openbb-econdb<2.0.0,>=1.3.0->openbb) (4.13.1)\n",
            "Requirement already satisfied: soupsieve>1.2 in /usr/local/lib/python3.11/dist-packages (from beautifulsoup4<5.0,>=4.12->openbb-sec<2.0.0,>=1.4.2->openbb) (2.6)\n",
            "Requirement already satisfied: starlette<0.47.0,>=0.40.0 in /usr/local/lib/python3.11/dist-packages (from fastapi<0.116,>=0.115->openbb-core<2.0.0,>=1.4.3->openbb) (0.46.2)\n",
            "Requirement already satisfied: six>=1.9 in /usr/local/lib/python3.11/dist-packages (from html5lib<2.0,>=1.1->openbb-core<2.0.0,>=1.4.3->openbb) (1.17.0)\n",
            "Requirement already satisfied: webencodings in /usr/local/lib/python3.11/dist-packages (from html5lib<2.0,>=1.1->openbb-core<2.0.0,>=1.4.3->openbb) (0.5.1)\n",
            "Requirement already satisfied: zipp>=3.20 in /usr/local/lib/python3.11/dist-packages (from importlib-metadata>=6.8.0->openbb-core<2.0.0,>=1.4.3->openbb) (3.21.0)\n",
            "Requirement already satisfied: et-xmlfile in /usr/local/lib/python3.11/dist-packages (from openpyxl<4.0.0,>=3.1.5->openbb-us-eia<2.0.0,>=1.1.0->openbb) (2.0.0)\n",
            "Requirement already satisfied: numpy>=1.23.2 in /usr/local/lib/python3.11/dist-packages (from pandas>=1.5.3->openbb-core<2.0.0,>=1.4.3->openbb) (2.0.2)\n",
            "Requirement already satisfied: python-dateutil>=2.8.2 in /usr/local/lib/python3.11/dist-packages (from pandas>=1.5.3->openbb-core<2.0.0,>=1.4.3->openbb) (2.9.0.post0)\n",
            "Requirement already satisfied: pytz>=2020.1 in /usr/local/lib/python3.11/dist-packages (from pandas>=1.5.3->openbb-core<2.0.0,>=1.4.3->openbb) (2025.2)\n",
            "Requirement already satisfied: tzdata>=2022.7 in /usr/local/lib/python3.11/dist-packages (from pandas>=1.5.3->openbb-core<2.0.0,>=1.4.3->openbb) (2025.2)\n",
            "Requirement already satisfied: monotonic>=1.5 in /usr/local/lib/python3.11/dist-packages (from posthog<4.0.0,>=3.3.1->openbb-core<2.0.0,>=1.4.3->openbb) (1.6)\n",
            "Requirement already satisfied: backoff>=1.10.0 in /usr/local/lib/python3.11/dist-packages (from posthog<4.0.0,>=3.3.1->openbb-core<2.0.0,>=1.4.3->openbb) (2.2.1)\n",
            "Requirement already satisfied: distro>=1.5.0 in /usr/local/lib/python3.11/dist-packages (from posthog<4.0.0,>=3.3.1->openbb-core<2.0.0,>=1.4.3->openbb) (1.9.0)\n",
            "Requirement already satisfied: annotated-types>=0.6.0 in /usr/local/lib/python3.11/dist-packages (from pydantic<3.0.0,>=2.5.1->openbb-core<2.0.0,>=1.4.3->openbb) (0.7.0)\n",
            "Requirement already satisfied: pydantic-core==2.33.1 in /usr/local/lib/python3.11/dist-packages (from pydantic<3.0.0,>=2.5.1->openbb-core<2.0.0,>=1.4.3->openbb) (2.33.1)\n",
            "Requirement already satisfied: typing-inspection>=0.4.0 in /usr/local/lib/python3.11/dist-packages (from pydantic<3.0.0,>=2.5.1->openbb-core<2.0.0,>=1.4.3->openbb) (0.4.0)\n",
            "Requirement already satisfied: charset-normalizer<4,>=2 in /usr/local/lib/python3.11/dist-packages (from requests<3.0.0,>=2.32.1->openbb-core<2.0.0,>=1.4.3->openbb) (3.4.1)\n",
            "Requirement already satisfied: idna<4,>=2.5 in /usr/local/lib/python3.11/dist-packages (from requests<3.0.0,>=2.32.1->openbb-core<2.0.0,>=1.4.3->openbb) (3.10)\n",
            "Requirement already satisfied: certifi>=2017.4.17 in /usr/local/lib/python3.11/dist-packages (from requests<3.0.0,>=2.32.1->openbb-core<2.0.0,>=1.4.3->openbb) (2025.1.31)\n",
            "Requirement already satisfied: cattrs>=22.2 in /usr/local/lib/python3.11/dist-packages (from requests-cache<2.0.0,>=1.1.0->openbb-intrinio<2.0.0,>=1.4.0->openbb) (24.1.3)\n",
            "Requirement already satisfied: platformdirs>=2.5 in /usr/local/lib/python3.11/dist-packages (from requests-cache<2.0.0,>=1.1.0->openbb-intrinio<2.0.0,>=1.4.0->openbb) (4.3.7)\n",
            "Requirement already satisfied: courlan>=1.3.2 in /usr/local/lib/python3.11/dist-packages (from trafilatura<3.0,>=2.0->openbb-sec<2.0.0,>=1.4.2->openbb) (1.3.2)\n",
            "Requirement already satisfied: htmldate>=1.9.2 in /usr/local/lib/python3.11/dist-packages (from trafilatura<3.0,>=2.0->openbb-sec<2.0.0,>=1.4.2->openbb) (1.9.3)\n",
            "Requirement already satisfied: justext>=3.0.1 in /usr/local/lib/python3.11/dist-packages (from trafilatura<3.0,>=2.0->openbb-sec<2.0.0,>=1.4.2->openbb) (3.0.2)\n",
            "Requirement already satisfied: click>=7.0 in /usr/local/lib/python3.11/dist-packages (from uvicorn<0.35.0,>=0.34.0->openbb-core<2.0.0,>=1.4.3->openbb) (8.1.8)\n",
            "Requirement already satisfied: h11>=0.8 in /usr/local/lib/python3.11/dist-packages (from uvicorn<0.35.0,>=0.34.0->openbb-core<2.0.0,>=1.4.3->openbb) (0.14.0)\n",
            "Requirement already satisfied: multitasking>=0.0.7 in /usr/local/lib/python3.11/dist-packages (from yfinance<0.3.0,>=0.2.55->openbb-yfinance<2.0.0,>=1.4.2->openbb) (0.0.11)\n",
            "Requirement already satisfied: frozendict>=2.3.4 in /usr/local/lib/python3.11/dist-packages (from yfinance<0.3.0,>=0.2.55->openbb-yfinance<2.0.0,>=1.4.2->openbb) (2.4.6)\n",
            "Requirement already satisfied: peewee>=3.16.2 in /usr/local/lib/python3.11/dist-packages (from yfinance<0.3.0,>=0.2.55->openbb-yfinance<2.0.0,>=1.4.2->openbb) (3.17.9)\n",
            "Requirement already satisfied: orderly-set<6,>=5.3.0 in /usr/local/lib/python3.11/dist-packages (from deepdiff->openbb-platform-api<2.0.0,>=1.1.5->openbb) (5.4.0)\n",
            "Requirement already satisfied: babel>=2.16.0 in /usr/local/lib/python3.11/dist-packages (from courlan>=1.3.2->trafilatura<3.0,>=2.0->openbb-sec<2.0.0,>=1.4.2->openbb) (2.17.0)\n",
            "Requirement already satisfied: tld>=0.13 in /usr/local/lib/python3.11/dist-packages (from courlan>=1.3.2->trafilatura<3.0,>=2.0->openbb-sec<2.0.0,>=1.4.2->openbb) (0.13)\n",
            "Requirement already satisfied: dateparser>=1.1.2 in /usr/local/lib/python3.11/dist-packages (from htmldate>=1.9.2->trafilatura<3.0,>=2.0->openbb-sec<2.0.0,>=1.4.2->openbb) (1.2.1)\n",
            "Requirement already satisfied: anyio<5,>=3.6.2 in /usr/local/lib/python3.11/dist-packages (from starlette<0.47.0,>=0.40.0->fastapi<0.116,>=0.115->openbb-core<2.0.0,>=1.4.3->openbb) (4.9.0)\n",
            "Requirement already satisfied: sniffio>=1.1 in /usr/local/lib/python3.11/dist-packages (from anyio<5,>=3.6.2->starlette<0.47.0,>=0.40.0->fastapi<0.116,>=0.115->openbb-core<2.0.0,>=1.4.3->openbb) (1.3.1)\n",
            "Requirement already satisfied: regex!=2019.02.19,!=2021.8.27,>=2015.06.24 in /usr/local/lib/python3.11/dist-packages (from dateparser>=1.1.2->htmldate>=1.9.2->trafilatura<3.0,>=2.0->openbb-sec<2.0.0,>=1.4.2->openbb) (2024.11.6)\n",
            "Requirement already satisfied: tzlocal>=0.2 in /usr/local/lib/python3.11/dist-packages (from dateparser>=1.1.2->htmldate>=1.9.2->trafilatura<3.0,>=2.0->openbb-sec<2.0.0,>=1.4.2->openbb) (5.3.1)\n",
            "Requirement already satisfied: lxml_html_clean in /usr/local/lib/python3.11/dist-packages (from lxml[html_clean]>=4.4.2->justext>=3.0.1->trafilatura<3.0,>=2.0->openbb-sec<2.0.0,>=1.4.2->openbb) (0.4.2)\n",
            "Collecting pandas_ta\n",
            "  Using cached pandas_ta-0.3.14b0-py3-none-any.whl\n",
            "Requirement already satisfied: pandas in /usr/local/lib/python3.11/dist-packages (from pandas_ta) (2.2.2)\n",
            "Requirement already satisfied: numpy>=1.23.2 in /usr/local/lib/python3.11/dist-packages (from pandas->pandas_ta) (2.0.2)\n",
            "Requirement already satisfied: python-dateutil>=2.8.2 in /usr/local/lib/python3.11/dist-packages (from pandas->pandas_ta) (2.9.0.post0)\n",
            "Requirement already satisfied: pytz>=2020.1 in /usr/local/lib/python3.11/dist-packages (from pandas->pandas_ta) (2025.2)\n",
            "Requirement already satisfied: tzdata>=2022.7 in /usr/local/lib/python3.11/dist-packages (from pandas->pandas_ta) (2025.2)\n",
            "Requirement already satisfied: six>=1.5 in /usr/local/lib/python3.11/dist-packages (from python-dateutil>=2.8.2->pandas->pandas_ta) (1.17.0)\n",
            "Installing collected packages: pandas_ta\n",
            "Successfully installed pandas_ta-0.3.14b0\n",
            "Collecting openbb-charting\n",
            "  Downloading openbb_charting-2.3.2-py3-none-any.whl.metadata (6.7 kB)\n",
            "Requirement already satisfied: nbformat<6.0.0,>=5.10.0 in /usr/local/lib/python3.11/dist-packages (from openbb-charting) (5.10.4)\n",
            "Requirement already satisfied: openbb-core<2.0.0,>=1.4.0 in /usr/local/lib/python3.11/dist-packages (from openbb-charting) (1.4.4)\n",
            "Collecting pandas-ta-openbb<0.5.0,>=0.4.20 (from openbb-charting)\n",
            "  Downloading pandas_ta_openbb-0.4.21-py3-none-any.whl.metadata (8.7 kB)\n",
            "Requirement already satisfied: plotly<6.0.0,>=5.24.1 in /usr/local/lib/python3.11/dist-packages (from openbb-charting) (5.24.1)\n",
            "Requirement already satisfied: fastjsonschema>=2.15 in /usr/local/lib/python3.11/dist-packages (from nbformat<6.0.0,>=5.10.0->openbb-charting) (2.21.1)\n",
            "Requirement already satisfied: jsonschema>=2.6 in /usr/local/lib/python3.11/dist-packages (from nbformat<6.0.0,>=5.10.0->openbb-charting) (4.23.0)\n",
            "Requirement already satisfied: jupyter-core!=5.0.*,>=4.12 in /usr/local/lib/python3.11/dist-packages (from nbformat<6.0.0,>=5.10.0->openbb-charting) (5.7.2)\n",
            "Requirement already satisfied: traitlets>=5.1 in /usr/local/lib/python3.11/dist-packages (from nbformat<6.0.0,>=5.10.0->openbb-charting) (5.7.1)\n",
            "Requirement already satisfied: aiohttp<4.0.0,>=3.11.11 in /usr/local/lib/python3.11/dist-packages (from openbb-core<2.0.0,>=1.4.0->openbb-charting) (3.11.15)\n",
            "Requirement already satisfied: fastapi<0.116,>=0.115 in /usr/local/lib/python3.11/dist-packages (from openbb-core<2.0.0,>=1.4.0->openbb-charting) (0.115.12)\n",
            "Requirement already satisfied: html5lib<2.0,>=1.1 in /usr/local/lib/python3.11/dist-packages (from openbb-core<2.0.0,>=1.4.0->openbb-charting) (1.1)\n",
            "Requirement already satisfied: importlib-metadata>=6.8.0 in /usr/local/lib/python3.11/dist-packages (from openbb-core<2.0.0,>=1.4.0->openbb-charting) (8.6.1)\n",
            "Requirement already satisfied: pandas>=1.5.3 in /usr/local/lib/python3.11/dist-packages (from openbb-core<2.0.0,>=1.4.0->openbb-charting) (2.2.2)\n",
            "Requirement already satisfied: posthog<4.0.0,>=3.3.1 in /usr/local/lib/python3.11/dist-packages (from openbb-core<2.0.0,>=1.4.0->openbb-charting) (3.24.1)\n",
            "Requirement already satisfied: pydantic<3.0.0,>=2.5.1 in /usr/local/lib/python3.11/dist-packages (from openbb-core<2.0.0,>=1.4.0->openbb-charting) (2.11.2)\n",
            "Requirement already satisfied: pyjwt<3.0.0,>=2.10.1 in /usr/local/lib/python3.11/dist-packages (from openbb-core<2.0.0,>=1.4.0->openbb-charting) (2.10.1)\n",
            "Requirement already satisfied: python-dotenv<2.0.0,>=1.0.0 in /usr/local/lib/python3.11/dist-packages (from openbb-core<2.0.0,>=1.4.0->openbb-charting) (1.1.0)\n",
            "Requirement already satisfied: python-multipart<0.0.21,>=0.0.20 in /usr/local/lib/python3.11/dist-packages (from openbb-core<2.0.0,>=1.4.0->openbb-charting) (0.0.20)\n",
            "Requirement already satisfied: requests<3.0.0,>=2.32.1 in /usr/local/lib/python3.11/dist-packages (from openbb-core<2.0.0,>=1.4.0->openbb-charting) (2.32.3)\n",
            "Requirement already satisfied: ruff<0.8,>=0.7 in /usr/local/lib/python3.11/dist-packages (from openbb-core<2.0.0,>=1.4.0->openbb-charting) (0.7.4)\n",
            "Requirement already satisfied: uuid7<0.2.0,>=0.1.0 in /usr/local/lib/python3.11/dist-packages (from openbb-core<2.0.0,>=1.4.0->openbb-charting) (0.1.0)\n",
            "Requirement already satisfied: uvicorn<0.35.0,>=0.34.0 in /usr/local/lib/python3.11/dist-packages (from openbb-core<2.0.0,>=1.4.0->openbb-charting) (0.34.1)\n",
            "Requirement already satisfied: websockets<16.0,>=15.0 in /usr/local/lib/python3.11/dist-packages (from openbb-core<2.0.0,>=1.4.0->openbb-charting) (15.0.1)\n",
            "Requirement already satisfied: numba>=0.59.0 in /usr/local/lib/python3.11/dist-packages (from pandas-ta-openbb<0.5.0,>=0.4.20->openbb-charting) (0.60.0)\n",
            "Requirement already satisfied: numpy>=1.26.4 in /usr/local/lib/python3.11/dist-packages (from pandas-ta-openbb<0.5.0,>=0.4.20->openbb-charting) (2.0.2)\n",
            "Requirement already satisfied: scipy>=1.13 in /usr/local/lib/python3.11/dist-packages (from pandas-ta-openbb<0.5.0,>=0.4.20->openbb-charting) (1.14.1)\n",
            "Requirement already satisfied: statsmodels<0.15.0,>=0.14.0 in /usr/local/lib/python3.11/dist-packages (from pandas-ta-openbb<0.5.0,>=0.4.20->openbb-charting) (0.14.4)\n",
            "Requirement already satisfied: tenacity>=6.2.0 in /usr/local/lib/python3.11/dist-packages (from plotly<6.0.0,>=5.24.1->openbb-charting) (9.1.2)\n",
            "Requirement already satisfied: packaging in /usr/local/lib/python3.11/dist-packages (from plotly<6.0.0,>=5.24.1->openbb-charting) (24.2)\n",
            "Requirement already satisfied: aiohappyeyeballs>=2.3.0 in /usr/local/lib/python3.11/dist-packages (from aiohttp<4.0.0,>=3.11.11->openbb-core<2.0.0,>=1.4.0->openbb-charting) (2.6.1)\n",
            "Requirement already satisfied: aiosignal>=1.1.2 in /usr/local/lib/python3.11/dist-packages (from aiohttp<4.0.0,>=3.11.11->openbb-core<2.0.0,>=1.4.0->openbb-charting) (1.3.2)\n",
            "Requirement already satisfied: attrs>=17.3.0 in /usr/local/lib/python3.11/dist-packages (from aiohttp<4.0.0,>=3.11.11->openbb-core<2.0.0,>=1.4.0->openbb-charting) (25.3.0)\n",
            "Requirement already satisfied: frozenlist>=1.1.1 in /usr/local/lib/python3.11/dist-packages (from aiohttp<4.0.0,>=3.11.11->openbb-core<2.0.0,>=1.4.0->openbb-charting) (1.5.0)\n",
            "Requirement already satisfied: multidict<7.0,>=4.5 in /usr/local/lib/python3.11/dist-packages (from aiohttp<4.0.0,>=3.11.11->openbb-core<2.0.0,>=1.4.0->openbb-charting) (6.3.2)\n",
            "Requirement already satisfied: propcache>=0.2.0 in /usr/local/lib/python3.11/dist-packages (from aiohttp<4.0.0,>=3.11.11->openbb-core<2.0.0,>=1.4.0->openbb-charting) (0.3.1)\n",
            "Requirement already satisfied: yarl<2.0,>=1.17.0 in /usr/local/lib/python3.11/dist-packages (from aiohttp<4.0.0,>=3.11.11->openbb-core<2.0.0,>=1.4.0->openbb-charting) (1.18.3)\n",
            "Requirement already satisfied: starlette<0.47.0,>=0.40.0 in /usr/local/lib/python3.11/dist-packages (from fastapi<0.116,>=0.115->openbb-core<2.0.0,>=1.4.0->openbb-charting) (0.46.2)\n",
            "Requirement already satisfied: typing-extensions>=4.8.0 in /usr/local/lib/python3.11/dist-packages (from fastapi<0.116,>=0.115->openbb-core<2.0.0,>=1.4.0->openbb-charting) (4.13.1)\n",
            "Requirement already satisfied: six>=1.9 in /usr/local/lib/python3.11/dist-packages (from html5lib<2.0,>=1.1->openbb-core<2.0.0,>=1.4.0->openbb-charting) (1.17.0)\n",
            "Requirement already satisfied: webencodings in /usr/local/lib/python3.11/dist-packages (from html5lib<2.0,>=1.1->openbb-core<2.0.0,>=1.4.0->openbb-charting) (0.5.1)\n",
            "Requirement already satisfied: zipp>=3.20 in /usr/local/lib/python3.11/dist-packages (from importlib-metadata>=6.8.0->openbb-core<2.0.0,>=1.4.0->openbb-charting) (3.21.0)\n",
            "Requirement already satisfied: jsonschema-specifications>=2023.03.6 in /usr/local/lib/python3.11/dist-packages (from jsonschema>=2.6->nbformat<6.0.0,>=5.10.0->openbb-charting) (2024.10.1)\n",
            "Requirement already satisfied: referencing>=0.28.4 in /usr/local/lib/python3.11/dist-packages (from jsonschema>=2.6->nbformat<6.0.0,>=5.10.0->openbb-charting) (0.36.2)\n",
            "Requirement already satisfied: rpds-py>=0.7.1 in /usr/local/lib/python3.11/dist-packages (from jsonschema>=2.6->nbformat<6.0.0,>=5.10.0->openbb-charting) (0.24.0)\n",
            "Requirement already satisfied: platformdirs>=2.5 in /usr/local/lib/python3.11/dist-packages (from jupyter-core!=5.0.*,>=4.12->nbformat<6.0.0,>=5.10.0->openbb-charting) (4.3.7)\n",
            "Requirement already satisfied: llvmlite<0.44,>=0.43.0dev0 in /usr/local/lib/python3.11/dist-packages (from numba>=0.59.0->pandas-ta-openbb<0.5.0,>=0.4.20->openbb-charting) (0.43.0)\n",
            "Requirement already satisfied: python-dateutil>=2.8.2 in /usr/local/lib/python3.11/dist-packages (from pandas>=1.5.3->openbb-core<2.0.0,>=1.4.0->openbb-charting) (2.9.0.post0)\n",
            "Requirement already satisfied: pytz>=2020.1 in /usr/local/lib/python3.11/dist-packages (from pandas>=1.5.3->openbb-core<2.0.0,>=1.4.0->openbb-charting) (2025.2)\n",
            "Requirement already satisfied: tzdata>=2022.7 in /usr/local/lib/python3.11/dist-packages (from pandas>=1.5.3->openbb-core<2.0.0,>=1.4.0->openbb-charting) (2025.2)\n",
            "Requirement already satisfied: monotonic>=1.5 in /usr/local/lib/python3.11/dist-packages (from posthog<4.0.0,>=3.3.1->openbb-core<2.0.0,>=1.4.0->openbb-charting) (1.6)\n",
            "Requirement already satisfied: backoff>=1.10.0 in /usr/local/lib/python3.11/dist-packages (from posthog<4.0.0,>=3.3.1->openbb-core<2.0.0,>=1.4.0->openbb-charting) (2.2.1)\n",
            "Requirement already satisfied: distro>=1.5.0 in /usr/local/lib/python3.11/dist-packages (from posthog<4.0.0,>=3.3.1->openbb-core<2.0.0,>=1.4.0->openbb-charting) (1.9.0)\n",
            "Requirement already satisfied: annotated-types>=0.6.0 in /usr/local/lib/python3.11/dist-packages (from pydantic<3.0.0,>=2.5.1->openbb-core<2.0.0,>=1.4.0->openbb-charting) (0.7.0)\n",
            "Requirement already satisfied: pydantic-core==2.33.1 in /usr/local/lib/python3.11/dist-packages (from pydantic<3.0.0,>=2.5.1->openbb-core<2.0.0,>=1.4.0->openbb-charting) (2.33.1)\n",
            "Requirement already satisfied: typing-inspection>=0.4.0 in /usr/local/lib/python3.11/dist-packages (from pydantic<3.0.0,>=2.5.1->openbb-core<2.0.0,>=1.4.0->openbb-charting) (0.4.0)\n",
            "Requirement already satisfied: charset-normalizer<4,>=2 in /usr/local/lib/python3.11/dist-packages (from requests<3.0.0,>=2.32.1->openbb-core<2.0.0,>=1.4.0->openbb-charting) (3.4.1)\n",
            "Requirement already satisfied: idna<4,>=2.5 in /usr/local/lib/python3.11/dist-packages (from requests<3.0.0,>=2.32.1->openbb-core<2.0.0,>=1.4.0->openbb-charting) (3.10)\n",
            "Requirement already satisfied: urllib3<3,>=1.21.1 in /usr/local/lib/python3.11/dist-packages (from requests<3.0.0,>=2.32.1->openbb-core<2.0.0,>=1.4.0->openbb-charting) (2.3.0)\n",
            "Requirement already satisfied: certifi>=2017.4.17 in /usr/local/lib/python3.11/dist-packages (from requests<3.0.0,>=2.32.1->openbb-core<2.0.0,>=1.4.0->openbb-charting) (2025.1.31)\n",
            "Requirement already satisfied: patsy>=0.5.6 in /usr/local/lib/python3.11/dist-packages (from statsmodels<0.15.0,>=0.14.0->pandas-ta-openbb<0.5.0,>=0.4.20->openbb-charting) (1.0.1)\n",
            "Requirement already satisfied: click>=7.0 in /usr/local/lib/python3.11/dist-packages (from uvicorn<0.35.0,>=0.34.0->openbb-core<2.0.0,>=1.4.0->openbb-charting) (8.1.8)\n",
            "Requirement already satisfied: h11>=0.8 in /usr/local/lib/python3.11/dist-packages (from uvicorn<0.35.0,>=0.34.0->openbb-core<2.0.0,>=1.4.0->openbb-charting) (0.14.0)\n",
            "Requirement already satisfied: anyio<5,>=3.6.2 in /usr/local/lib/python3.11/dist-packages (from starlette<0.47.0,>=0.40.0->fastapi<0.116,>=0.115->openbb-core<2.0.0,>=1.4.0->openbb-charting) (4.9.0)\n",
            "Requirement already satisfied: sniffio>=1.1 in /usr/local/lib/python3.11/dist-packages (from anyio<5,>=3.6.2->starlette<0.47.0,>=0.40.0->fastapi<0.116,>=0.115->openbb-core<2.0.0,>=1.4.0->openbb-charting) (1.3.1)\n",
            "Downloading openbb_charting-2.3.2-py3-none-any.whl (3.6 MB)\n",
            "\u001b[2K   \u001b[90m━━━━━━━━━━━━━━━━━━━━━━━━━━━━━━━━━━━━━━━━\u001b[0m \u001b[32m3.6/3.6 MB\u001b[0m \u001b[31m26.2 MB/s\u001b[0m eta \u001b[36m0:00:00\u001b[0m\n",
            "\u001b[?25hDownloading pandas_ta_openbb-0.4.21-py3-none-any.whl (259 kB)\n",
            "\u001b[2K   \u001b[90m━━━━━━━━━━━━━━━━━━━━━━━━━━━━━━━━━━━━━━━━\u001b[0m \u001b[32m259.4/259.4 kB\u001b[0m \u001b[31m26.0 MB/s\u001b[0m eta \u001b[36m0:00:00\u001b[0m\n",
            "\u001b[?25hInstalling collected packages: pandas-ta-openbb, openbb-charting\n",
            "Successfully installed openbb-charting-2.3.2 pandas-ta-openbb-0.4.21\n"
          ]
        }
      ],
      "source": [
        "# Install the OpenBB Platform with all available extensions.\n",
        "# Messages indicating package version conflicts at the end of installation can be safely ignored.\n",
        "\n",
        "!pip install openbb\n",
        "!pip install pandas_ta\n",
        "!pip install openbb-charting\n",
        "# There is also a nightly distribution available, openbb-nightly"
      ]
    },
    {
      "cell_type": "code",
      "source": [
        "!pip install openbb-finviz"
      ],
      "metadata": {
        "id": "orsZO6_yE7xn",
        "outputId": "822812d5-b924-473d-acfb-6a15f9a19666",
        "colab": {
          "base_uri": "https://localhost:8080/"
        }
      },
      "execution_count": 5,
      "outputs": [
        {
          "output_type": "stream",
          "name": "stdout",
          "text": [
            "Collecting openbb-finviz\n",
            "  Downloading openbb_finviz-1.3.0-py3-none-any.whl.metadata (3.8 kB)\n",
            "Collecting finvizfinance<2.0.0,>=1.1.0 (from openbb-finviz)\n",
            "  Downloading finvizfinance-1.1.0-py3-none-any.whl.metadata (5.0 kB)\n",
            "Requirement already satisfied: openbb-core<2.0.0,>=1.4.0 in /usr/local/lib/python3.11/dist-packages (from openbb-finviz) (1.4.4)\n",
            "Requirement already satisfied: pandas in /usr/local/lib/python3.11/dist-packages (from finvizfinance<2.0.0,>=1.1.0->openbb-finviz) (2.2.2)\n",
            "Requirement already satisfied: requests in /usr/local/lib/python3.11/dist-packages (from finvizfinance<2.0.0,>=1.1.0->openbb-finviz) (2.32.3)\n",
            "Requirement already satisfied: beautifulsoup4 in /usr/local/lib/python3.11/dist-packages (from finvizfinance<2.0.0,>=1.1.0->openbb-finviz) (4.13.3)\n",
            "Requirement already satisfied: lxml in /usr/local/lib/python3.11/dist-packages (from finvizfinance<2.0.0,>=1.1.0->openbb-finviz) (5.3.1)\n",
            "Requirement already satisfied: aiohttp<4.0.0,>=3.11.11 in /usr/local/lib/python3.11/dist-packages (from openbb-core<2.0.0,>=1.4.0->openbb-finviz) (3.11.15)\n",
            "Requirement already satisfied: fastapi<0.116,>=0.115 in /usr/local/lib/python3.11/dist-packages (from openbb-core<2.0.0,>=1.4.0->openbb-finviz) (0.115.12)\n",
            "Requirement already satisfied: html5lib<2.0,>=1.1 in /usr/local/lib/python3.11/dist-packages (from openbb-core<2.0.0,>=1.4.0->openbb-finviz) (1.1)\n",
            "Requirement already satisfied: importlib-metadata>=6.8.0 in /usr/local/lib/python3.11/dist-packages (from openbb-core<2.0.0,>=1.4.0->openbb-finviz) (8.6.1)\n",
            "Requirement already satisfied: posthog<4.0.0,>=3.3.1 in /usr/local/lib/python3.11/dist-packages (from openbb-core<2.0.0,>=1.4.0->openbb-finviz) (3.24.1)\n",
            "Requirement already satisfied: pydantic<3.0.0,>=2.5.1 in /usr/local/lib/python3.11/dist-packages (from openbb-core<2.0.0,>=1.4.0->openbb-finviz) (2.11.2)\n",
            "Requirement already satisfied: pyjwt<3.0.0,>=2.10.1 in /usr/local/lib/python3.11/dist-packages (from openbb-core<2.0.0,>=1.4.0->openbb-finviz) (2.10.1)\n",
            "Requirement already satisfied: python-dotenv<2.0.0,>=1.0.0 in /usr/local/lib/python3.11/dist-packages (from openbb-core<2.0.0,>=1.4.0->openbb-finviz) (1.1.0)\n",
            "Requirement already satisfied: python-multipart<0.0.21,>=0.0.20 in /usr/local/lib/python3.11/dist-packages (from openbb-core<2.0.0,>=1.4.0->openbb-finviz) (0.0.20)\n",
            "Requirement already satisfied: ruff<0.8,>=0.7 in /usr/local/lib/python3.11/dist-packages (from openbb-core<2.0.0,>=1.4.0->openbb-finviz) (0.7.4)\n",
            "Requirement already satisfied: uuid7<0.2.0,>=0.1.0 in /usr/local/lib/python3.11/dist-packages (from openbb-core<2.0.0,>=1.4.0->openbb-finviz) (0.1.0)\n",
            "Requirement already satisfied: uvicorn<0.35.0,>=0.34.0 in /usr/local/lib/python3.11/dist-packages (from openbb-core<2.0.0,>=1.4.0->openbb-finviz) (0.34.1)\n",
            "Requirement already satisfied: websockets<16.0,>=15.0 in /usr/local/lib/python3.11/dist-packages (from openbb-core<2.0.0,>=1.4.0->openbb-finviz) (15.0.1)\n",
            "Requirement already satisfied: aiohappyeyeballs>=2.3.0 in /usr/local/lib/python3.11/dist-packages (from aiohttp<4.0.0,>=3.11.11->openbb-core<2.0.0,>=1.4.0->openbb-finviz) (2.6.1)\n",
            "Requirement already satisfied: aiosignal>=1.1.2 in /usr/local/lib/python3.11/dist-packages (from aiohttp<4.0.0,>=3.11.11->openbb-core<2.0.0,>=1.4.0->openbb-finviz) (1.3.2)\n",
            "Requirement already satisfied: attrs>=17.3.0 in /usr/local/lib/python3.11/dist-packages (from aiohttp<4.0.0,>=3.11.11->openbb-core<2.0.0,>=1.4.0->openbb-finviz) (25.3.0)\n",
            "Requirement already satisfied: frozenlist>=1.1.1 in /usr/local/lib/python3.11/dist-packages (from aiohttp<4.0.0,>=3.11.11->openbb-core<2.0.0,>=1.4.0->openbb-finviz) (1.5.0)\n",
            "Requirement already satisfied: multidict<7.0,>=4.5 in /usr/local/lib/python3.11/dist-packages (from aiohttp<4.0.0,>=3.11.11->openbb-core<2.0.0,>=1.4.0->openbb-finviz) (6.3.2)\n",
            "Requirement already satisfied: propcache>=0.2.0 in /usr/local/lib/python3.11/dist-packages (from aiohttp<4.0.0,>=3.11.11->openbb-core<2.0.0,>=1.4.0->openbb-finviz) (0.3.1)\n",
            "Requirement already satisfied: yarl<2.0,>=1.17.0 in /usr/local/lib/python3.11/dist-packages (from aiohttp<4.0.0,>=3.11.11->openbb-core<2.0.0,>=1.4.0->openbb-finviz) (1.18.3)\n",
            "Requirement already satisfied: starlette<0.47.0,>=0.40.0 in /usr/local/lib/python3.11/dist-packages (from fastapi<0.116,>=0.115->openbb-core<2.0.0,>=1.4.0->openbb-finviz) (0.46.2)\n",
            "Requirement already satisfied: typing-extensions>=4.8.0 in /usr/local/lib/python3.11/dist-packages (from fastapi<0.116,>=0.115->openbb-core<2.0.0,>=1.4.0->openbb-finviz) (4.13.1)\n",
            "Requirement already satisfied: six>=1.9 in /usr/local/lib/python3.11/dist-packages (from html5lib<2.0,>=1.1->openbb-core<2.0.0,>=1.4.0->openbb-finviz) (1.17.0)\n",
            "Requirement already satisfied: webencodings in /usr/local/lib/python3.11/dist-packages (from html5lib<2.0,>=1.1->openbb-core<2.0.0,>=1.4.0->openbb-finviz) (0.5.1)\n",
            "Requirement already satisfied: zipp>=3.20 in /usr/local/lib/python3.11/dist-packages (from importlib-metadata>=6.8.0->openbb-core<2.0.0,>=1.4.0->openbb-finviz) (3.21.0)\n",
            "Requirement already satisfied: numpy>=1.23.2 in /usr/local/lib/python3.11/dist-packages (from pandas->finvizfinance<2.0.0,>=1.1.0->openbb-finviz) (2.0.2)\n",
            "Requirement already satisfied: python-dateutil>=2.8.2 in /usr/local/lib/python3.11/dist-packages (from pandas->finvizfinance<2.0.0,>=1.1.0->openbb-finviz) (2.9.0.post0)\n",
            "Requirement already satisfied: pytz>=2020.1 in /usr/local/lib/python3.11/dist-packages (from pandas->finvizfinance<2.0.0,>=1.1.0->openbb-finviz) (2025.2)\n",
            "Requirement already satisfied: tzdata>=2022.7 in /usr/local/lib/python3.11/dist-packages (from pandas->finvizfinance<2.0.0,>=1.1.0->openbb-finviz) (2025.2)\n",
            "Requirement already satisfied: monotonic>=1.5 in /usr/local/lib/python3.11/dist-packages (from posthog<4.0.0,>=3.3.1->openbb-core<2.0.0,>=1.4.0->openbb-finviz) (1.6)\n",
            "Requirement already satisfied: backoff>=1.10.0 in /usr/local/lib/python3.11/dist-packages (from posthog<4.0.0,>=3.3.1->openbb-core<2.0.0,>=1.4.0->openbb-finviz) (2.2.1)\n",
            "Requirement already satisfied: distro>=1.5.0 in /usr/local/lib/python3.11/dist-packages (from posthog<4.0.0,>=3.3.1->openbb-core<2.0.0,>=1.4.0->openbb-finviz) (1.9.0)\n",
            "Requirement already satisfied: annotated-types>=0.6.0 in /usr/local/lib/python3.11/dist-packages (from pydantic<3.0.0,>=2.5.1->openbb-core<2.0.0,>=1.4.0->openbb-finviz) (0.7.0)\n",
            "Requirement already satisfied: pydantic-core==2.33.1 in /usr/local/lib/python3.11/dist-packages (from pydantic<3.0.0,>=2.5.1->openbb-core<2.0.0,>=1.4.0->openbb-finviz) (2.33.1)\n",
            "Requirement already satisfied: typing-inspection>=0.4.0 in /usr/local/lib/python3.11/dist-packages (from pydantic<3.0.0,>=2.5.1->openbb-core<2.0.0,>=1.4.0->openbb-finviz) (0.4.0)\n",
            "Requirement already satisfied: charset-normalizer<4,>=2 in /usr/local/lib/python3.11/dist-packages (from requests->finvizfinance<2.0.0,>=1.1.0->openbb-finviz) (3.4.1)\n",
            "Requirement already satisfied: idna<4,>=2.5 in /usr/local/lib/python3.11/dist-packages (from requests->finvizfinance<2.0.0,>=1.1.0->openbb-finviz) (3.10)\n",
            "Requirement already satisfied: urllib3<3,>=1.21.1 in /usr/local/lib/python3.11/dist-packages (from requests->finvizfinance<2.0.0,>=1.1.0->openbb-finviz) (2.3.0)\n",
            "Requirement already satisfied: certifi>=2017.4.17 in /usr/local/lib/python3.11/dist-packages (from requests->finvizfinance<2.0.0,>=1.1.0->openbb-finviz) (2025.1.31)\n",
            "Requirement already satisfied: click>=7.0 in /usr/local/lib/python3.11/dist-packages (from uvicorn<0.35.0,>=0.34.0->openbb-core<2.0.0,>=1.4.0->openbb-finviz) (8.1.8)\n",
            "Requirement already satisfied: h11>=0.8 in /usr/local/lib/python3.11/dist-packages (from uvicorn<0.35.0,>=0.34.0->openbb-core<2.0.0,>=1.4.0->openbb-finviz) (0.14.0)\n",
            "Requirement already satisfied: soupsieve>1.2 in /usr/local/lib/python3.11/dist-packages (from beautifulsoup4->finvizfinance<2.0.0,>=1.1.0->openbb-finviz) (2.6)\n",
            "Requirement already satisfied: anyio<5,>=3.6.2 in /usr/local/lib/python3.11/dist-packages (from starlette<0.47.0,>=0.40.0->fastapi<0.116,>=0.115->openbb-core<2.0.0,>=1.4.0->openbb-finviz) (4.9.0)\n",
            "Requirement already satisfied: sniffio>=1.1 in /usr/local/lib/python3.11/dist-packages (from anyio<5,>=3.6.2->starlette<0.47.0,>=0.40.0->fastapi<0.116,>=0.115->openbb-core<2.0.0,>=1.4.0->openbb-finviz) (1.3.1)\n",
            "Downloading openbb_finviz-1.3.0-py3-none-any.whl (46 kB)\n",
            "\u001b[2K   \u001b[90m━━━━━━━━━━━━━━━━━━━━━━━━━━━━━━━━━━━━━━━━\u001b[0m \u001b[32m47.0/47.0 kB\u001b[0m \u001b[31m3.2 MB/s\u001b[0m eta \u001b[36m0:00:00\u001b[0m\n",
            "\u001b[?25hDownloading finvizfinance-1.1.0-py3-none-any.whl (44 kB)\n",
            "\u001b[2K   \u001b[90m━━━━━━━━━━━━━━━━━━━━━━━━━━━━━━━━━━━━━━━━\u001b[0m \u001b[32m44.3/44.3 kB\u001b[0m \u001b[31m3.0 MB/s\u001b[0m eta \u001b[36m0:00:00\u001b[0m\n",
            "\u001b[?25hInstalling collected packages: finvizfinance, openbb-finviz\n",
            "Successfully installed finvizfinance-1.1.0 openbb-finviz-1.3.0\n"
          ]
        }
      ]
    },
    {
      "cell_type": "code",
      "source": [
        "# Before running this cell, restart the runtime by selecting, \"Restart runtime\", from the \"Runtime\" menu.\n",
        "\n",
        "# Import statements - for many scenarios, the only import needed will be `from openbb import obb`\n",
        "from typing import Literal\n",
        "from IPython.display import display\n",
        "from IPython.display import clear_output\n",
        "import ipywidgets as widgets\n",
        "import pandas as pd\n",
        "import pandas_ta as ta\n",
        "from datetime import datetime , date\n",
        "from plotly import graph_objects as go\n",
        "\n",
        "from openbb import obb"
      ],
      "metadata": {
        "id": "_69FIu9YKRhI",
        "outputId": "c2094df6-63db-4ecc-bd0a-7080f6c62b45",
        "colab": {
          "base_uri": "https://localhost:8080/"
        }
      },
      "execution_count": 1,
      "outputs": [
        {
          "output_type": "stream",
          "name": "stdout",
          "text": [
            "Extensions to add: finviz@1.3.0\n",
            "\n",
            "Building...\n"
          ]
        }
      ]
    },
    {
      "cell_type": "markdown",
      "source": [
        "Logging in to OBB"
      ],
      "metadata": {
        "id": "sjaQ2s8BzYtg"
      }
    },
    {
      "cell_type": "code",
      "source": [
        "# Login to OpenBB Hub to retrieve stored API keys.\n",
        "# https://my.openbb.co/app/platform/pat\n",
        "# https://my.openbb.co/app/platform/api-keys\n",
        "from google.colab import userdata\n",
        "\n",
        "MY_PAT = userdata.get('PAT_KEY')\n",
        "\n",
        "\n",
        "obb.account.login(pat=MY_PAT)\n",
        "# Setting preferences to always return a dataframe\n",
        "obb.user.preferences.output_type = \"dataframe\""
      ],
      "metadata": {
        "id": "1OLsZHDYMBSS"
      },
      "execution_count": 2,
      "outputs": []
    },
    {
      "cell_type": "markdown",
      "source": [
        "### Defining Tickers for Analysis\n"
      ],
      "metadata": {
        "id": "tujIxtiQUKiP"
      }
    },
    {
      "cell_type": "code",
      "source": [
        "# Set the output preference, if desired. The examples below use Pandas DataFrames.\n",
        "from datetime import timedelta\n",
        "from dateutil.relativedelta import relativedelta\n",
        "TICKER = 'DIS'\n",
        "TICKER2 = '^GSPC' # S&P500\n",
        "SECTOR_TICKER = 'XLY'\n",
        "INDUSTRY_TICKER = 'XME'\n",
        "startDate = date.today() - relativedelta(years=5)"
      ],
      "metadata": {
        "id": "27JtqRAQ2HTb"
      },
      "execution_count": 3,
      "outputs": []
    },
    {
      "cell_type": "markdown",
      "source": [
        "### Return Comparison"
      ],
      "metadata": {
        "id": "7pVsQO7Mcf7p"
      }
    },
    {
      "cell_type": "code",
      "source": [
        "desc_filters = {\n",
        "        'Market Cap.': '+Small (over $300mln)',\n",
        "        'Average Volume': 'Over 200K',\n",
        "        #'Relative Volume': 'Over 1',\n",
        "    }\n",
        "fund_filters = {\n",
        "    'Return on Equity': 'Positive (>0%)',\n",
        "    'InstitutionalOwnership': 'Under 60%',\n",
        "    'Current Ratio' :  'Over 1.5',\n",
        "    'Debt/Equity'   : 'Over 0.3'\n",
        "}\n",
        "\n",
        "desc_filters.update(fund_filters)\n",
        "\n",
        "obb.equity.screener(provider='finviz', industry='semiconductors',\n",
        "                    filters_dict=desc_filters\n",
        "                    )"
      ],
      "metadata": {
        "id": "Yo2wrsZ_El7b",
        "outputId": "baec11fd-434d-4320-9a0c-0f648456469a",
        "colab": {
          "base_uri": "https://localhost:8080/",
          "height": 81
        }
      },
      "execution_count": 26,
      "outputs": [
        {
          "output_type": "execute_result",
          "data": {
            "text/plain": [
              "  symbol                    name country      sector        industry  \\\n",
              "0   HIMX  Himax Technologies ADR  Taiwan  Technology  Semiconductors   \n",
              "\n",
              "     market_cap  price  change_percent   volume  price_to_earnings  \n",
              "0  1.080000e+09   6.32          0.0276  1127546              13.82  "
            ],
            "text/html": [
              "\n",
              "  <div id=\"df-450204f9-1940-40ea-a271-e47a0fda72ea\" class=\"colab-df-container\">\n",
              "    <div>\n",
              "<style scoped>\n",
              "    .dataframe tbody tr th:only-of-type {\n",
              "        vertical-align: middle;\n",
              "    }\n",
              "\n",
              "    .dataframe tbody tr th {\n",
              "        vertical-align: top;\n",
              "    }\n",
              "\n",
              "    .dataframe thead th {\n",
              "        text-align: right;\n",
              "    }\n",
              "</style>\n",
              "<table border=\"1\" class=\"dataframe\">\n",
              "  <thead>\n",
              "    <tr style=\"text-align: right;\">\n",
              "      <th></th>\n",
              "      <th>symbol</th>\n",
              "      <th>name</th>\n",
              "      <th>country</th>\n",
              "      <th>sector</th>\n",
              "      <th>industry</th>\n",
              "      <th>market_cap</th>\n",
              "      <th>price</th>\n",
              "      <th>change_percent</th>\n",
              "      <th>volume</th>\n",
              "      <th>price_to_earnings</th>\n",
              "    </tr>\n",
              "  </thead>\n",
              "  <tbody>\n",
              "    <tr>\n",
              "      <th>0</th>\n",
              "      <td>HIMX</td>\n",
              "      <td>Himax Technologies ADR</td>\n",
              "      <td>Taiwan</td>\n",
              "      <td>Technology</td>\n",
              "      <td>Semiconductors</td>\n",
              "      <td>1.080000e+09</td>\n",
              "      <td>6.32</td>\n",
              "      <td>0.0276</td>\n",
              "      <td>1127546</td>\n",
              "      <td>13.82</td>\n",
              "    </tr>\n",
              "  </tbody>\n",
              "</table>\n",
              "</div>\n",
              "    <div class=\"colab-df-buttons\">\n",
              "\n",
              "  <div class=\"colab-df-container\">\n",
              "    <button class=\"colab-df-convert\" onclick=\"convertToInteractive('df-450204f9-1940-40ea-a271-e47a0fda72ea')\"\n",
              "            title=\"Convert this dataframe to an interactive table.\"\n",
              "            style=\"display:none;\">\n",
              "\n",
              "  <svg xmlns=\"http://www.w3.org/2000/svg\" height=\"24px\" viewBox=\"0 -960 960 960\">\n",
              "    <path d=\"M120-120v-720h720v720H120Zm60-500h600v-160H180v160Zm220 220h160v-160H400v160Zm0 220h160v-160H400v160ZM180-400h160v-160H180v160Zm440 0h160v-160H620v160ZM180-180h160v-160H180v160Zm440 0h160v-160H620v160Z\"/>\n",
              "  </svg>\n",
              "    </button>\n",
              "\n",
              "  <style>\n",
              "    .colab-df-container {\n",
              "      display:flex;\n",
              "      gap: 12px;\n",
              "    }\n",
              "\n",
              "    .colab-df-convert {\n",
              "      background-color: #E8F0FE;\n",
              "      border: none;\n",
              "      border-radius: 50%;\n",
              "      cursor: pointer;\n",
              "      display: none;\n",
              "      fill: #1967D2;\n",
              "      height: 32px;\n",
              "      padding: 0 0 0 0;\n",
              "      width: 32px;\n",
              "    }\n",
              "\n",
              "    .colab-df-convert:hover {\n",
              "      background-color: #E2EBFA;\n",
              "      box-shadow: 0px 1px 2px rgba(60, 64, 67, 0.3), 0px 1px 3px 1px rgba(60, 64, 67, 0.15);\n",
              "      fill: #174EA6;\n",
              "    }\n",
              "\n",
              "    .colab-df-buttons div {\n",
              "      margin-bottom: 4px;\n",
              "    }\n",
              "\n",
              "    [theme=dark] .colab-df-convert {\n",
              "      background-color: #3B4455;\n",
              "      fill: #D2E3FC;\n",
              "    }\n",
              "\n",
              "    [theme=dark] .colab-df-convert:hover {\n",
              "      background-color: #434B5C;\n",
              "      box-shadow: 0px 1px 3px 1px rgba(0, 0, 0, 0.15);\n",
              "      filter: drop-shadow(0px 1px 2px rgba(0, 0, 0, 0.3));\n",
              "      fill: #FFFFFF;\n",
              "    }\n",
              "  </style>\n",
              "\n",
              "    <script>\n",
              "      const buttonEl =\n",
              "        document.querySelector('#df-450204f9-1940-40ea-a271-e47a0fda72ea button.colab-df-convert');\n",
              "      buttonEl.style.display =\n",
              "        google.colab.kernel.accessAllowed ? 'block' : 'none';\n",
              "\n",
              "      async function convertToInteractive(key) {\n",
              "        const element = document.querySelector('#df-450204f9-1940-40ea-a271-e47a0fda72ea');\n",
              "        const dataTable =\n",
              "          await google.colab.kernel.invokeFunction('convertToInteractive',\n",
              "                                                    [key], {});\n",
              "        if (!dataTable) return;\n",
              "\n",
              "        const docLinkHtml = 'Like what you see? Visit the ' +\n",
              "          '<a target=\"_blank\" href=https://colab.research.google.com/notebooks/data_table.ipynb>data table notebook</a>'\n",
              "          + ' to learn more about interactive tables.';\n",
              "        element.innerHTML = '';\n",
              "        dataTable['output_type'] = 'display_data';\n",
              "        await google.colab.output.renderOutput(dataTable, element);\n",
              "        const docLink = document.createElement('div');\n",
              "        docLink.innerHTML = docLinkHtml;\n",
              "        element.appendChild(docLink);\n",
              "      }\n",
              "    </script>\n",
              "  </div>\n",
              "\n",
              "\n",
              "    </div>\n",
              "  </div>\n"
            ],
            "application/vnd.google.colaboratory.intrinsic+json": {
              "type": "dataframe",
              "summary": "{\n  \"name\": \"                    )\",\n  \"rows\": 1,\n  \"fields\": [\n    {\n      \"column\": \"symbol\",\n      \"properties\": {\n        \"dtype\": \"string\",\n        \"num_unique_values\": 1,\n        \"samples\": [\n          \"HIMX\"\n        ],\n        \"semantic_type\": \"\",\n        \"description\": \"\"\n      }\n    },\n    {\n      \"column\": \"name\",\n      \"properties\": {\n        \"dtype\": \"string\",\n        \"num_unique_values\": 1,\n        \"samples\": [\n          \"Himax Technologies ADR\"\n        ],\n        \"semantic_type\": \"\",\n        \"description\": \"\"\n      }\n    },\n    {\n      \"column\": \"country\",\n      \"properties\": {\n        \"dtype\": \"string\",\n        \"num_unique_values\": 1,\n        \"samples\": [\n          \"Taiwan\"\n        ],\n        \"semantic_type\": \"\",\n        \"description\": \"\"\n      }\n    },\n    {\n      \"column\": \"sector\",\n      \"properties\": {\n        \"dtype\": \"string\",\n        \"num_unique_values\": 1,\n        \"samples\": [\n          \"Technology\"\n        ],\n        \"semantic_type\": \"\",\n        \"description\": \"\"\n      }\n    },\n    {\n      \"column\": \"industry\",\n      \"properties\": {\n        \"dtype\": \"string\",\n        \"num_unique_values\": 1,\n        \"samples\": [\n          \"Semiconductors\"\n        ],\n        \"semantic_type\": \"\",\n        \"description\": \"\"\n      }\n    },\n    {\n      \"column\": \"market_cap\",\n      \"properties\": {\n        \"dtype\": \"number\",\n        \"std\": null,\n        \"min\": 1080000000.0,\n        \"max\": 1080000000.0,\n        \"num_unique_values\": 1,\n        \"samples\": [\n          1080000000.0\n        ],\n        \"semantic_type\": \"\",\n        \"description\": \"\"\n      }\n    },\n    {\n      \"column\": \"price\",\n      \"properties\": {\n        \"dtype\": \"number\",\n        \"std\": null,\n        \"min\": 6.32,\n        \"max\": 6.32,\n        \"num_unique_values\": 1,\n        \"samples\": [\n          6.32\n        ],\n        \"semantic_type\": \"\",\n        \"description\": \"\"\n      }\n    },\n    {\n      \"column\": \"change_percent\",\n      \"properties\": {\n        \"dtype\": \"number\",\n        \"std\": null,\n        \"min\": 0.0276,\n        \"max\": 0.0276,\n        \"num_unique_values\": 1,\n        \"samples\": [\n          0.0276\n        ],\n        \"semantic_type\": \"\",\n        \"description\": \"\"\n      }\n    },\n    {\n      \"column\": \"volume\",\n      \"properties\": {\n        \"dtype\": \"number\",\n        \"std\": null,\n        \"min\": 1127546,\n        \"max\": 1127546,\n        \"num_unique_values\": 1,\n        \"samples\": [\n          1127546\n        ],\n        \"semantic_type\": \"\",\n        \"description\": \"\"\n      }\n    },\n    {\n      \"column\": \"price_to_earnings\",\n      \"properties\": {\n        \"dtype\": \"number\",\n        \"std\": null,\n        \"min\": 13.82,\n        \"max\": 13.82,\n        \"num_unique_values\": 1,\n        \"samples\": [\n          13.82\n        ],\n        \"semantic_type\": \"\",\n        \"description\": \"\"\n      }\n    }\n  ]\n}"
            }
          },
          "metadata": {},
          "execution_count": 26
        }
      ]
    },
    {
      "cell_type": "code",
      "source": [
        "44import matplotlib.pyplot as plt\n",
        "spy = obb.equity.price.historical(symbol = TICKER2, provider='fmp')[['close']].rename(columns={'close' : TICKER2})\n",
        "dis = obb.equity.price.historical(symbol = TICKER, provider='fmp')[['close']].rename(columns={'close' : TICKER})\n",
        "sector = obb.equity.price.historical(symbol = SECTOR_TICKER, provider='fmp')[['close']].rename(columns={'close' : SECTOR_TICKER})\n",
        "industry = obb.equity.price.historical(symbol = INDUSTRY_TICKER, provider='fmp')[['close']].rename(columns={'close' : INDUSTRY_TICKER})\n",
        "\n",
        "one = pd.merge(spy, dis, left_index=True, right_index=True)\n",
        "two = pd.merge(one, sector,left_index=True, right_index=True)\n",
        "result = pd.merge(two, industry,left_index=True, right_index=True)\n",
        "histpriceconcat = result/result.iloc[0]\n",
        "\n",
        "\n",
        "histpriceconcat\n",
        "\n",
        "for i, col in enumerate([TICKER2, TICKER, SECTOR_TICKER, INDUSTRY_TICKER]):\n",
        "    histpriceconcat[col].plot()\n",
        "\n",
        "plt.title('Price Evolution Comparison')\n",
        "plt.xticks(rotation=70)\n",
        "\n",
        "legendCols = [TICKER2, TICKER, f'{SECTOR_TICKER}(Sector)', f'{INDUSTRY_TICKER}(Industry)']\n",
        "\n",
        "plt.legend(legendCols)\n",
        "plt.show()\n",
        "\n"
      ],
      "metadata": {
        "id": "B1Z-lZkpanSg"
      },
      "execution_count": null,
      "outputs": []
    },
    {
      "cell_type": "markdown",
      "source": [
        "### Overview of the company"
      ],
      "metadata": {
        "id": "QuPNeWcT3S6y"
      }
    },
    {
      "cell_type": "code",
      "source": [
        "obb.equity.profile(symbol=TICKER, provider='fmp')"
      ],
      "metadata": {
        "id": "s_u4cWPWd4CJ"
      },
      "execution_count": null,
      "outputs": []
    },
    {
      "cell_type": "markdown",
      "source": [
        "### PEERS\n"
      ],
      "metadata": {
        "id": "9p7XKw030Q0h"
      }
    },
    {
      "cell_type": "code",
      "source": [
        "obb.equity.compare.peers(symbol=TICKER)"
      ],
      "metadata": {
        "id": "Uqs1-TYd0SKk"
      },
      "execution_count": null,
      "outputs": []
    },
    {
      "cell_type": "markdown",
      "source": [
        "### Fetching some ratios\n"
      ],
      "metadata": {
        "id": "MjbqscIYeqLG"
      }
    },
    {
      "cell_type": "markdown",
      "source": [
        "### Ratios Overview"
      ],
      "metadata": {
        "id": "j-2UQkTVe7R6"
      }
    },
    {
      "cell_type": "code",
      "source": [
        "liq_ratios = ['current_ratio', 'quick_ratio', 'operating_cash_flow_per_share',  'days_of_sales_outstanding' ]\n",
        "solvency_ratios = ['interest_coverage', 'debt_ratio',  'debt_equity_ratio'] #missing shareholder equity ratio\n",
        "profitability_ratios = ['gross_profit_margin', 'operating_profit_margin',\n",
        "                        'pretax_profit_margin',\n",
        "                        'net_profit_margin',\n",
        "                        'return_on_assets',\n",
        "                        'return_on_equity',\n",
        "                        'return_on_capital_employed',\n",
        "                         ]"
      ],
      "metadata": {
        "id": "SnI9N76se8Ku"
      },
      "execution_count": null,
      "outputs": []
    },
    {
      "cell_type": "markdown",
      "source": [
        "### Quarterly"
      ],
      "metadata": {
        "id": "iecJRoqE3e7a"
      }
    },
    {
      "cell_type": "markdown",
      "source": [],
      "metadata": {
        "id": "0A1VvX9X32UQ"
      }
    },
    {
      "cell_type": "code",
      "source": [
        "annual_ratios = obb.equity.fundamental.ratios(symbol=TICKER, period=\"annual\", limit=5)\n",
        "quarterly_ratios = obb.equity.fundamental.ratios(symbol=TICKER, period=\"quarter\", limit=12)\n",
        "quarterly_ratios['key'] = quarterly_ratios.apply(lambda row: f\"{row['fiscal_period']}_{row['fiscal_year']}\", axis=1)\n",
        "# Income statement. we need this for trajectory of fundamentals\n",
        "annual_income = obb.equity.fundamental.income(symbol=TICKER, period=\"annual\", limit=5)\n",
        "quarterly_income = obb.equity.fundamental.income(symbol=TICKER, period=\"quarter\", limit=12)\n",
        "quarterly_income['key'] = quarterly_ratios.apply(lambda row: f\"{row['fiscal_period']}_{row['fiscal_year']}\", axis=1)\n",
        "\n",
        "quarterly_income"
      ],
      "metadata": {
        "id": "zin8uTJp-cDm"
      },
      "execution_count": null,
      "outputs": []
    },
    {
      "cell_type": "markdown",
      "source": [
        "### Annually"
      ],
      "metadata": {
        "id": "Aa-WmAIA3hFJ"
      }
    },
    {
      "cell_type": "code",
      "source": [
        "annual_liquidity = annual_ratios[liq_ratios + ['fiscal_year'] ].set_index('fiscal_year')\n",
        "annual_solvency = annual_ratios[solvency_ratios + ['fiscal_year'] ].set_index('fiscal_year')\n",
        "annual_profitability = annual_ratios[profitability_ratios + ['fiscal_year'] ].set_index('fiscal_year')\n",
        "quarterly_liquidity = quarterly_ratios[liq_ratios + ['key'] ].set_index('key')\n",
        "quarterly_solvency = quarterly_ratios[solvency_ratios + ['key'] ].set_index('key')\n",
        "quarterly_profitability = quarterly_ratios[profitability_ratios + ['key'] ].set_index('key')\n",
        "\n",
        "#annual_income = annual_income.set_index('fiscal_year')\n",
        "#quarterly_income = quarterly_income.set_index('key')\n",
        "\n",
        "\n",
        "annual_liquidity"
      ],
      "metadata": {
        "id": "8CeLAL47-5a5"
      },
      "execution_count": null,
      "outputs": []
    },
    {
      "cell_type": "markdown",
      "source": [
        "### Some bar charts with OBB"
      ],
      "metadata": {
        "id": "9-KNvahochH5"
      }
    },
    {
      "cell_type": "code",
      "source": [
        "from openbb_charting.charts.generic_charts import bar_chart\n",
        "\n",
        "bar_chart([annual_liquidity], x='fiscal_year', y=liq_ratios, title='Liquidity Ratios annual', normalize=True).show()"
      ],
      "metadata": {
        "id": "d2J15k6R3qpg"
      },
      "execution_count": null,
      "outputs": []
    },
    {
      "cell_type": "markdown",
      "source": [
        "###Dividends Over Time"
      ],
      "metadata": {
        "id": "mhRVBXrEdDUw"
      }
    },
    {
      "cell_type": "code",
      "source": [
        "df = obb.equity.fundamental.dividends(TICKER)\n",
        "df['cob'] = pd.to_datetime(df.ex_dividend_date)\n",
        "df = df.set_index(df.cob)\n",
        "df[df.index > startDate.strftime('%Y-%m-%d')].plot(x='cob')\n"
      ],
      "metadata": {
        "id": "RvRrx7ip4X8B"
      },
      "execution_count": null,
      "outputs": []
    },
    {
      "cell_type": "markdown",
      "source": [
        "### Estimates"
      ],
      "metadata": {
        "id": "LTEw0HqCdWvt"
      }
    },
    {
      "cell_type": "code",
      "source": [
        "obb.equity.estimates.consensus(symbol=TICKER)"
      ],
      "metadata": {
        "id": "jmPcKjlPdQDk"
      },
      "execution_count": null,
      "outputs": []
    },
    {
      "cell_type": "markdown",
      "source": [
        "### Splits"
      ],
      "metadata": {
        "id": "0xp0tiNqAqTL"
      }
    },
    {
      "cell_type": "code",
      "source": [
        "obb.equity.fundamental.historical_splits(TICKER)"
      ],
      "metadata": {
        "id": "6kuJLShPRl1W"
      },
      "execution_count": null,
      "outputs": []
    },
    {
      "cell_type": "markdown",
      "source": [
        "### Financial Statement Growth"
      ],
      "metadata": {
        "id": "odvPoSOeEjD8"
      }
    },
    {
      "cell_type": "code",
      "source": [
        "obb.equity.fundamental.balance_growth(symbol=TICKER, limit=10)"
      ],
      "metadata": {
        "id": "GWLTTnevd9Dm"
      },
      "execution_count": null,
      "outputs": []
    },
    {
      "cell_type": "code",
      "source": [
        "obb.equity.fundamental.income_growth(symbol=TICKER, limit=10)"
      ],
      "metadata": {
        "id": "9wn-ytctAvwX"
      },
      "execution_count": null,
      "outputs": []
    },
    {
      "cell_type": "code",
      "source": [
        "obb.equity.fundamental.cash_growth(symbol=TICKER, limit=10)"
      ],
      "metadata": {
        "id": "YAXcOP26-HHs"
      },
      "execution_count": null,
      "outputs": []
    },
    {
      "cell_type": "markdown",
      "source": [
        "### Insider Tradings"
      ],
      "metadata": {
        "id": "nGZRQko1rEYK"
      }
    },
    {
      "cell_type": "code",
      "source": [
        "obb.equity.ownership.insider_trading(symbol=TICKER, limit=500)"
      ],
      "metadata": {
        "id": "NkVjNgJyrGxa"
      },
      "execution_count": null,
      "outputs": []
    },
    {
      "cell_type": "markdown",
      "source": [
        "### 13F  - not Disney related -"
      ],
      "metadata": {
        "id": "z0xXQYUgdAct"
      }
    },
    {
      "cell_type": "code",
      "source": [
        "obb.equity.discovery.filings(limit=100, form_type='13F')"
      ],
      "metadata": {
        "id": "6_mLULyNr4OV"
      },
      "execution_count": null,
      "outputs": []
    },
    {
      "cell_type": "markdown",
      "source": [
        "### Equity discovery"
      ],
      "metadata": {
        "id": "hIzFFPxyEePz"
      }
    },
    {
      "cell_type": "markdown",
      "source": [
        "### Most Active"
      ],
      "metadata": {
        "id": "wx9hLTGtEuPX"
      }
    },
    {
      "cell_type": "code",
      "source": [
        "obb.equity.discovery.active(sort=\"desc\")"
      ],
      "metadata": {
        "id": "Qf-gFGej_7Za"
      },
      "execution_count": null,
      "outputs": []
    },
    {
      "cell_type": "markdown",
      "source": [
        "### Gainers"
      ],
      "metadata": {
        "id": "CKajiwgFEzfY"
      }
    },
    {
      "cell_type": "code",
      "source": [
        "obb.equity.discovery.gainers(sort=\"desc\")"
      ],
      "metadata": {
        "id": "vEdrJXZKEi_-"
      },
      "execution_count": null,
      "outputs": []
    },
    {
      "cell_type": "markdown",
      "source": [
        "### Undervalued large caps"
      ],
      "metadata": {
        "id": "QIeOPC8KFCoU"
      }
    },
    {
      "cell_type": "code",
      "source": [
        "obb.equity.discovery.undervalued_large_caps(sort=\"desc\")"
      ],
      "metadata": {
        "id": "OliDDKgwFEOr"
      },
      "execution_count": null,
      "outputs": []
    },
    {
      "cell_type": "markdown",
      "source": [
        "### Gainers"
      ],
      "metadata": {
        "id": "P0DJEg2w4yJU"
      }
    },
    {
      "cell_type": "code",
      "source": [
        "obb.equity.discovery.gainers(limit=5)"
      ],
      "metadata": {
        "id": "RBMIOLO1FEj4"
      },
      "execution_count": null,
      "outputs": []
    },
    {
      "cell_type": "code",
      "source": [
        "obb.equity.discovery.undervalued_growth(sort=\"desc\")"
      ],
      "metadata": {
        "id": "HdqtdShxFTS2"
      },
      "execution_count": null,
      "outputs": []
    },
    {
      "cell_type": "code",
      "source": [],
      "metadata": {
        "id": "rfeGKDDyddlz"
      },
      "execution_count": null,
      "outputs": []
    }
  ]
}