{
  "nbformat": 4,
  "nbformat_minor": 0,
  "metadata": {
    "colab": {
      "provenance": [],
      "include_colab_link": true
    },
    "kernelspec": {
      "name": "python3",
      "display_name": "Python 3"
    },
    "language_info": {
      "name": "python"
    }
  },
  "cells": [
    {
      "cell_type": "markdown",
      "metadata": {
        "id": "view-in-github",
        "colab_type": "text"
      },
      "source": [
        "<a href=\"https://colab.research.google.com/github/mmistroni/OpenBB_Experiments/blob/main/OpenBBSample.ipynb\" target=\"_parent\"><img src=\"https://colab.research.google.com/assets/colab-badge.svg\" alt=\"Open In Colab\"/></a>"
      ]
    },
    {
      "cell_type": "markdown",
      "source": [
        "# Installing the OpenBB Platform in Google Colab\n",
        "\n",
        "This notebook will install the OpenBB Platform, fetch some data and prepare it for display as a bar chart.\n",
        "\n",
        "Sign up for a free account here: https://my.openbb.co"
      ],
      "metadata": {
        "id": "xIOXTKkqBReO"
      }
    },
    {
      "cell_type": "code",
      "execution_count": null,
      "metadata": {
        "id": "xvU65bhqKNns"
      },
      "outputs": [],
      "source": [
        "# Install the OpenBB Platform with all available extensions.\n",
        "# Messages indicating package version conflicts at the end of installation can be safely ignored.\n",
        "\n",
        "!pip install openbb\n",
        "!pip install pandas_ta\n",
        "!pip install openbb-charting\n",
        "# There is also a nightly distribution available, openbb-nightly"
      ]
    },
    {
      "cell_type": "code",
      "source": [
        "# Before running this cell, restart the runtime by selecting, \"Restart runtime\", from the \"Runtime\" menu.\n",
        "\n",
        "# Import statements - for many scenarios, the only import needed will be `from openbb import obb`\n",
        "from typing import Literal\n",
        "from IPython.display import display\n",
        "from IPython.display import clear_output\n",
        "import ipywidgets as widgets\n",
        "import pandas as pd\n",
        "import pandas_ta as ta\n",
        "from datetime import datetime , date\n",
        "from plotly import graph_objects as go\n",
        "\n",
        "from openbb import obb"
      ],
      "metadata": {
        "id": "_69FIu9YKRhI"
      },
      "execution_count": null,
      "outputs": []
    },
    {
      "cell_type": "code",
      "source": [
        "# Login to OpenBB Hub to retrieve stored API keys.\n",
        "# https://my.openbb.co/app/platform/pat\n",
        "# https://my.openbb.co/app/platform/api-keys\n",
        "\n",
        "MY_PAT = '<Add here your PAT key>'\n",
        "\n",
        "\n",
        "obb.account.login(pat=MY_PAT)\n",
        "# Setting preferences to always return a dataframe\n",
        "obb.user.preferences.output_type = \"dataframe\""
      ],
      "metadata": {
        "id": "1OLsZHDYMBSS"
      },
      "execution_count": null,
      "outputs": []
    },
    {
      "cell_type": "markdown",
      "source": [
        "### Defining Tickers for Analysis\n"
      ],
      "metadata": {
        "id": "tujIxtiQUKiP"
      }
    },
    {
      "cell_type": "code",
      "source": [
        "# Set the output preference, if desired. The examples below use Pandas DataFrames.\n",
        "from datetime import timedelta\n",
        "from dateutil.relativedelta import relativedelta\n",
        "TICKER = 'DIS'\n",
        "TICKER2 = '^GSPC' # S&P500\n",
        "SECTOR_TICKER = 'XLY'\n",
        "INDUSTRY_TICKER = 'XME'\n",
        "startDate = date.today() - relativedelta(years=5)"
      ],
      "metadata": {
        "id": "27JtqRAQ2HTb"
      },
      "execution_count": null,
      "outputs": []
    },
    {
      "cell_type": "markdown",
      "source": [
        "### Return Comparison"
      ],
      "metadata": {
        "id": "7pVsQO7Mcf7p"
      }
    },
    {
      "cell_type": "code",
      "source": [
        "import matplotlib.pyplot as plt\n",
        "spy = obb.equity.price.historical(symbol = TICKER2, provider='fmp')[['close']].rename(columns={'close' : TICKER2})\n",
        "dis = obb.equity.price.historical(symbol = TICKER, provider='fmp')[['close']].rename(columns={'close' : TICKER})\n",
        "sector = obb.equity.price.historical(symbol = SECTOR_TICKER, provider='fmp')[['close']].rename(columns={'close' : SECTOR_TICKER})\n",
        "industry = obb.equity.price.historical(symbol = INDUSTRY_TICKER, provider='fmp')[['close']].rename(columns={'close' : INDUSTRY_TICKER})\n",
        "\n",
        "one = pd.merge(spy, dis, left_index=True, right_index=True)\n",
        "two = pd.merge(one, sector,left_index=True, right_index=True)\n",
        "result = pd.merge(two, industry,left_index=True, right_index=True)\n",
        "histpriceconcat = result/result.iloc[0]\n",
        "\n",
        "\n",
        "histpriceconcat\n",
        "\n",
        "for i, col in enumerate([TICKER2, TICKER, SECTOR_TICKER, INDUSTRY_TICKER]):\n",
        "    histpriceconcat[col].plot()\n",
        "\n",
        "plt.title('Price Evolution Comparison')\n",
        "plt.xticks(rotation=70)\n",
        "\n",
        "legendCols = [TICKER2, TICKER, f'{SECTOR_TICKER}(Sector)', f'{INDUSTRY_TICKER}(Industry)']\n",
        "\n",
        "plt.legend(legendCols)\n",
        "plt.show()\n",
        "\n"
      ],
      "metadata": {
        "id": "B1Z-lZkpanSg"
      },
      "execution_count": null,
      "outputs": []
    },
    {
      "cell_type": "markdown",
      "source": [
        "### Overview of the company"
      ],
      "metadata": {
        "id": "QuPNeWcT3S6y"
      }
    },
    {
      "cell_type": "code",
      "source": [
        "obb.equity.fundamental.overview(symbol=TICKER)"
      ],
      "metadata": {
        "id": "s_u4cWPWd4CJ"
      },
      "execution_count": null,
      "outputs": []
    },
    {
      "cell_type": "markdown",
      "source": [
        "### Stock Peers"
      ],
      "metadata": {
        "id": "0qrKaJ_gemSl"
      }
    },
    {
      "cell_type": "code",
      "source": [
        "import os\n",
        "import requests\n",
        "\n",
        "def get_peers(ticker):\n",
        "    apiKey = getfmpkeys()\n",
        "    baseUrl = f'https://financialmodelingprep.com/api/v4/stock_peers?symbol={ticker}&apikey={apiKey}'\n",
        "    return requests.get(baseUrl).json()[0].get('peersList', [])\n",
        "\n",
        "full_tickers = obb.equity.compare.peers(symbol=TICKER)[1].values.tolist()[0]\n",
        "full_tickers"
      ],
      "metadata": {
        "id": "1jILdgDAd7vE"
      },
      "execution_count": null,
      "outputs": []
    },
    {
      "cell_type": "markdown",
      "source": [
        "### Fetching some ratios\n"
      ],
      "metadata": {
        "id": "MjbqscIYeqLG"
      }
    },
    {
      "cell_type": "markdown",
      "source": [
        "### Ratios Overview"
      ],
      "metadata": {
        "id": "j-2UQkTVe7R6"
      }
    },
    {
      "cell_type": "code",
      "source": [
        "liq_ratios = ['current_ratio', 'quick_ratio', 'operating_cash_flow_per_share',  'days_of_sales_outstanding' ]\n",
        "solvency_ratios = ['interest_coverage', 'debt_ratio',  'debt_equity_ratio'] #missing shareholder equity ratio\n",
        "profitability_ratios = ['gross_profit_margin', 'operating_profit_margin',\n",
        "                        'pretax_profit_margin',\n",
        "                        'net_profit_margin',\n",
        "                        'return_on_assets',\n",
        "                        'return_on_equity',\n",
        "                        'return_on_capital_employed',\n",
        "                         ]"
      ],
      "metadata": {
        "id": "SnI9N76se8Ku"
      },
      "execution_count": null,
      "outputs": []
    },
    {
      "cell_type": "markdown",
      "source": [
        "### Quarterly"
      ],
      "metadata": {
        "id": "iecJRoqE3e7a"
      }
    },
    {
      "cell_type": "markdown",
      "source": [],
      "metadata": {
        "id": "0A1VvX9X32UQ"
      }
    },
    {
      "cell_type": "code",
      "source": [
        "annual_ratios = obb.equity.fundamental.ratios(symbol=TICKER, period=\"annual\", limit=5)\n",
        "quarterly_ratios = obb.equity.fundamental.ratios(symbol=TICKER, period=\"quarter\", limit=12)\n",
        "quarterly_ratios['key'] = quarterly_ratios.apply(lambda row: f\"{row['fiscal_period']}_{row['fiscal_year']}\", axis=1)\n",
        "# Income statement. we need this for trajectory of fundamentals\n",
        "annual_income = obb.equity.fundamental.income(symbol=TICKER, period=\"annual\", limit=5)\n",
        "quarterly_income = obb.equity.fundamental.income(symbol=TICKER, period=\"quarter\", limit=12)\n",
        "quarterly_income['key'] = quarterly_ratios.apply(lambda row: f\"{row['fiscal_period']}_{row['fiscal_year']}\", axis=1)\n",
        "\n",
        "quarterly_income"
      ],
      "metadata": {
        "id": "zin8uTJp-cDm"
      },
      "execution_count": null,
      "outputs": []
    },
    {
      "cell_type": "markdown",
      "source": [
        "### Annually"
      ],
      "metadata": {
        "id": "Aa-WmAIA3hFJ"
      }
    },
    {
      "cell_type": "code",
      "source": [
        "annual_liquidity = annual_ratios[liq_ratios + ['fiscal_year'] ].set_index('fiscal_year')\n",
        "annual_solvency = annual_ratios[solvency_ratios + ['fiscal_year'] ].set_index('fiscal_year')\n",
        "annual_profitability = annual_ratios[profitability_ratios + ['fiscal_year'] ].set_index('fiscal_year')\n",
        "quarterly_liquidity = quarterly_ratios[liq_ratios + ['key'] ].set_index('key')\n",
        "quarterly_solvency = quarterly_ratios[solvency_ratios + ['key'] ].set_index('key')\n",
        "quarterly_profitability = quarterly_ratios[profitability_ratios + ['key'] ].set_index('key')\n",
        "\n",
        "#annual_income = annual_income.set_index('fiscal_year')\n",
        "#quarterly_income = quarterly_income.set_index('key')\n",
        "\n",
        "\n",
        "annual_liquidity"
      ],
      "metadata": {
        "id": "8CeLAL47-5a5"
      },
      "execution_count": null,
      "outputs": []
    },
    {
      "cell_type": "markdown",
      "source": [
        "### Some bar charts with OBB"
      ],
      "metadata": {
        "id": "9-KNvahochH5"
      }
    },
    {
      "cell_type": "code",
      "source": [
        "from openbb_charting.charts.generic_charts import bar_chart\n",
        "\n",
        "bar_chart([annual_liquidity], x='fiscal_year', y=liq_ratios, title='Liquidity Ratios annual', normalize=True).show()"
      ],
      "metadata": {
        "id": "d2J15k6R3qpg"
      },
      "execution_count": null,
      "outputs": []
    },
    {
      "cell_type": "markdown",
      "source": [
        "###Dividends Over Time"
      ],
      "metadata": {
        "id": "mhRVBXrEdDUw"
      }
    },
    {
      "cell_type": "code",
      "source": [
        "df = obb.equity.fundamental.dividends(TICKER)\n",
        "df['cob'] = pd.to_datetime(df.ex_dividend_date)\n",
        "df = df.set_index(df.cob)\n",
        "df[df.index > startDate.strftime('%Y-%m-%d')].plot(x='cob')\n"
      ],
      "metadata": {
        "id": "RvRrx7ip4X8B"
      },
      "execution_count": null,
      "outputs": []
    },
    {
      "cell_type": "markdown",
      "source": [
        "### Estimates"
      ],
      "metadata": {
        "id": "LTEw0HqCdWvt"
      }
    },
    {
      "cell_type": "code",
      "source": [
        "obb.equity.estimates.consensus(symbol=TICKER)"
      ],
      "metadata": {
        "id": "jmPcKjlPdQDk"
      },
      "execution_count": null,
      "outputs": []
    },
    {
      "cell_type": "markdown",
      "source": [
        "### Discounted cashflow"
      ],
      "metadata": {
        "id": "kRwRWLW7PRNB"
      }
    },
    {
      "cell_type": "code",
      "source": [
        "ov_df = obb.equity.fundamental.overview(symbol=TICKER)\n",
        "ov_df[ov_df[0].isin(['dcf', 'dcf_diff'])]"
      ],
      "metadata": {
        "id": "9hmZg4ycQ4G6"
      },
      "execution_count": null,
      "outputs": []
    },
    {
      "cell_type": "markdown",
      "source": [
        "### Splits"
      ],
      "metadata": {
        "id": "0xp0tiNqAqTL"
      }
    },
    {
      "cell_type": "code",
      "source": [
        "obb.equity.fundamental.historical_splits(TICKER)"
      ],
      "metadata": {
        "id": "6kuJLShPRl1W"
      },
      "execution_count": null,
      "outputs": []
    },
    {
      "cell_type": "markdown",
      "source": [
        "### Financial Statement Growth"
      ],
      "metadata": {
        "id": "odvPoSOeEjD8"
      }
    },
    {
      "cell_type": "code",
      "source": [
        "obb.equity.fundamental.balance_growth(symbol=TICKER, limit=10)"
      ],
      "metadata": {
        "id": "GWLTTnevd9Dm"
      },
      "execution_count": null,
      "outputs": []
    },
    {
      "cell_type": "code",
      "source": [
        "obb.equity.fundamental.income_growth(symbol=TICKER, limit=10)"
      ],
      "metadata": {
        "id": "9wn-ytctAvwX"
      },
      "execution_count": null,
      "outputs": []
    },
    {
      "cell_type": "code",
      "source": [
        "obb.equity.fundamental.cash_growth(symbol=TICKER, limit=10)"
      ],
      "metadata": {
        "id": "YAXcOP26-HHs"
      },
      "execution_count": null,
      "outputs": []
    },
    {
      "cell_type": "markdown",
      "source": [
        "### Insider Tradings"
      ],
      "metadata": {
        "id": "nGZRQko1rEYK"
      }
    },
    {
      "cell_type": "code",
      "source": [
        "obb.equity.ownership.insider_trading(symbol=TICKER, limit=500)"
      ],
      "metadata": {
        "id": "NkVjNgJyrGxa"
      },
      "execution_count": null,
      "outputs": []
    },
    {
      "cell_type": "markdown",
      "source": [
        "### 13F  - not Disney related -"
      ],
      "metadata": {
        "id": "z0xXQYUgdAct"
      }
    },
    {
      "cell_type": "code",
      "source": [
        "obb.equity.discovery.filings(limit=100, form_type='13F')"
      ],
      "metadata": {
        "id": "6_mLULyNr4OV"
      },
      "execution_count": null,
      "outputs": []
    },
    {
      "cell_type": "markdown",
      "source": [
        "### Equity discovery"
      ],
      "metadata": {
        "id": "hIzFFPxyEePz"
      }
    },
    {
      "cell_type": "markdown",
      "source": [
        "### Most Active"
      ],
      "metadata": {
        "id": "wx9hLTGtEuPX"
      }
    },
    {
      "cell_type": "code",
      "source": [
        "obb.equity.discovery.active(sort=\"desc\")"
      ],
      "metadata": {
        "id": "Qf-gFGej_7Za"
      },
      "execution_count": null,
      "outputs": []
    },
    {
      "cell_type": "markdown",
      "source": [
        "### Gainers"
      ],
      "metadata": {
        "id": "CKajiwgFEzfY"
      }
    },
    {
      "cell_type": "code",
      "source": [
        "obb.equity.discovery.gainers(sort=\"desc\")"
      ],
      "metadata": {
        "id": "vEdrJXZKEi_-"
      },
      "execution_count": null,
      "outputs": []
    },
    {
      "cell_type": "markdown",
      "source": [
        "### Undervalued large caps"
      ],
      "metadata": {
        "id": "QIeOPC8KFCoU"
      }
    },
    {
      "cell_type": "code",
      "source": [
        "obb.equity.discovery.undervalued_large_caps(sort=\"desc\")"
      ],
      "metadata": {
        "id": "OliDDKgwFEOr"
      },
      "execution_count": null,
      "outputs": []
    },
    {
      "cell_type": "code",
      "source": [
        "obb.equity.discovery.top_retail(limit=5)"
      ],
      "metadata": {
        "id": "RBMIOLO1FEj4"
      },
      "execution_count": null,
      "outputs": []
    },
    {
      "cell_type": "code",
      "source": [
        "obb.equity.discovery.undervalued_growth(sort=\"desc\")"
      ],
      "metadata": {
        "id": "HdqtdShxFTS2"
      },
      "execution_count": null,
      "outputs": []
    },
    {
      "cell_type": "markdown",
      "source": [
        "### Some Economic Indicators"
      ],
      "metadata": {
        "id": "eQmc2P2PdVrW"
      }
    },
    {
      "cell_type": "code",
      "source": [
        "df = obb.economy.available_indicators(provider='econdb')\n",
        "df[df.country.isin(['United States'])].description.values.tolist()"
      ],
      "metadata": {
        "id": "2hqKhZYnKOiX"
      },
      "execution_count": null,
      "outputs": []
    },
    {
      "cell_type": "code",
      "source": [],
      "metadata": {
        "id": "rfeGKDDyddlz"
      },
      "execution_count": null,
      "outputs": []
    }
  ]
}