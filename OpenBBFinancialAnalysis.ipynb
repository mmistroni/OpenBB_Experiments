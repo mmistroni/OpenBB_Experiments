{
  "nbformat": 4,
  "nbformat_minor": 0,
  "metadata": {
    "colab": {
      "provenance": [],
      "include_colab_link": true
    },
    "kernelspec": {
      "name": "python3",
      "display_name": "Python 3"
    },
    "language_info": {
      "name": "python"
    }
  },
  "cells": [
    {
      "cell_type": "markdown",
      "metadata": {
        "id": "view-in-github",
        "colab_type": "text"
      },
      "source": [
        "<a href=\"https://colab.research.google.com/github/mmistroni/OpenBB_Experiments/blob/main/OpenBBFinancialAnalysis.ipynb\" target=\"_parent\"><img src=\"https://colab.research.google.com/assets/colab-badge.svg\" alt=\"Open In Colab\"/></a>"
      ]
    },
    {
      "cell_type": "markdown",
      "source": [
        "# Installing the OpenBB Platform in Google Colab\n",
        "\n",
        "This notebook will install the OpenBB Platform, fetch some data and prepare it for display as a bar chart.\n",
        "\n",
        "Sign up for a free account here: https://my.openbb.co"
      ],
      "metadata": {
        "id": "xIOXTKkqBReO"
      }
    },
    {
      "cell_type": "code",
      "execution_count": null,
      "metadata": {
        "id": "xvU65bhqKNns"
      },
      "outputs": [],
      "source": [
        "# Install the OpenBB Platform with all available extensions.\n",
        "# Messages indicating package version conflicts at the end of installation can be safely ignored.\n",
        "\n",
        "!pip install openbb\n",
        "!pip install pandas_ta\n",
        "!pip install openbb-charting\n",
        "# There is also a nightly distribution available, openbb-nightly"
      ]
    },
    {
      "cell_type": "code",
      "source": [
        "# Before running this cell, restart the runtime by selecting, \"Restart runtime\", from the \"Runtime\" menu.\n",
        "\n",
        "# Import statements - for many scenarios, the only import needed will be `from openbb import obb`\n",
        "from typing import Literal\n",
        "from IPython.display import display\n",
        "from IPython.display import clear_output\n",
        "import ipywidgets as widgets\n",
        "import pandas as pd\n",
        "import pandas_ta as ta\n",
        "from datetime import datetime , date\n",
        "from plotly import graph_objects as go\n",
        "\n",
        "from openbb import obb"
      ],
      "metadata": {
        "id": "_69FIu9YKRhI"
      },
      "execution_count": null,
      "outputs": []
    },
    {
      "cell_type": "code",
      "source": [
        "from google.colab import drive\n",
        "drive.mount('/content/gdrive')\n",
        "\n",
        "def get_openbb_keys():\n",
        "  with open('gdrive/My Drive/passwords/openbb.keys') as f:\n",
        "    return f.readlines()[0]\n",
        "\n",
        "def get_benzinga_keys():\n",
        "  with open('gdrive/My Drive/passwords/benzinga.keys') as f:\n",
        "    return f.readlines()[0]\n",
        "\n",
        "def get_intrinio_keys():\n",
        "  with open('gdrive/My Drive/passwords/intrinio.keys') as f:\n",
        "    return f.readlines()[0]\n",
        "\n",
        "def getfmpkeys():\n",
        "  with open('gdrive/My Drive/passwords/fmprep.keys') as f:\n",
        "    return f.readlines()[0]\n",
        "def get_nasdaq_keys():\n",
        "  with open('gdrive/My Drive/passwords/nasdaq.keys') as f:\n",
        "    return f.readlines()[0]\n"
      ],
      "metadata": {
        "id": "S-tBTXvSTTEX"
      },
      "execution_count": null,
      "outputs": []
    },
    {
      "cell_type": "code",
      "source": [
        "# Login to OpenBB Hub to retrieve stored API keys.\n",
        "# https://my.openbb.co/app/platform/pat\n",
        "# https://my.openbb.co/app/platform/api-keys\n",
        "from google.colab import userdata\n",
        "\n",
        "obb.account.login(pat=userdata.get('PAT_KEY'))"
      ],
      "metadata": {
        "id": "1OLsZHDYMBSS"
      },
      "execution_count": null,
      "outputs": []
    },
    {
      "cell_type": "code",
      "source": [
        "obb.user.credentials.benzinga_api_key=get_benzinga_keys()\n",
        "obb.user.credentials.intrinio_api_key=get_intrinio_keys()\n",
        "#obb.user.credentials.nasdaq_api_key=get_nasdaq_keys()\n"
      ],
      "metadata": {
        "id": "idctNTV9L0Ti"
      },
      "execution_count": null,
      "outputs": []
    },
    {
      "cell_type": "code",
      "source": [
        "# Verify that the credentials from Hub were loaded successfully.\n",
        "\n",
        "\n",
        "obb.user.preferences.output_type = \"dataframe\"\n",
        "obb.user.credentials"
      ],
      "metadata": {
        "id": "gJ7FwTC6MTzv"
      },
      "execution_count": null,
      "outputs": []
    },
    {
      "cell_type": "code",
      "source": [
        "df = obb.equity.price.historical(symbol = 'SEZL', provider='fmp')[::-1]\n",
        "df\n",
        "#df[df['change_percent'] > 0.09]"
      ],
      "metadata": {
        "id": "TFXoQ05w5bol"
      },
      "execution_count": null,
      "outputs": []
    },
    {
      "cell_type": "code",
      "source": [
        "df = obb.economy.available_indicators(provider='econdb')\n",
        "df[df.country.isin(['United States'])].description.values.tolist()"
      ],
      "metadata": {
        "id": "3julO_KKse9U"
      },
      "execution_count": null,
      "outputs": []
    },
    {
      "cell_type": "markdown",
      "source": [
        "### Defining Tickers for Analysis\n"
      ],
      "metadata": {
        "id": "tujIxtiQUKiP"
      }
    },
    {
      "cell_type": "code",
      "source": [
        "# Set the output preference, if desired. The examples below use Pandas DataFrames.\n",
        "from datetime import timedelta\n",
        "from dateutil.relativedelta import relativedelta\n",
        "TICKER = 'DIS'\n",
        "TICKER2 = '^GSPC' # S&P500\n",
        "SECTOR_TICKER = 'XLY'\n",
        "INDUSTRY_TICKER = 'XME'\n",
        "startDate = date.today() - relativedelta(years=5)"
      ],
      "metadata": {
        "id": "27JtqRAQ2HTb"
      },
      "execution_count": null,
      "outputs": []
    },
    {
      "cell_type": "code",
      "source": [
        "from openbb_charting.charts.price_historical import price_historical\n",
        "from openbb_charting.charts.generic_charts import line_chart\n",
        "aapl = obb.equity.price.historical(symbol = 'AAPL', provider='fmp')\n",
        "res = line_chart(aapl)\n",
        "res.show()"
      ],
      "metadata": {
        "id": "x-Ku-Nh8wwJd"
      },
      "execution_count": null,
      "outputs": []
    },
    {
      "cell_type": "markdown",
      "source": [
        "### Return Comparison"
      ],
      "metadata": {
        "id": "7pVsQO7Mcf7p"
      }
    },
    {
      "cell_type": "code",
      "source": [
        "from openbb_charting.charts.generic_charts import line_chart\n",
        "\n",
        "spy = obb.equity.price.historical(symbol = TICKER2, provider='fmp')[['close']].rename(columns={'close' : TICKER2})\n",
        "dis = obb.equity.price.historical(symbol = TICKER, provider='fmp')[['close']].rename(columns={'close' : TICKER})\n",
        "sector = obb.equity.price.historical(symbol = SECTOR_TICKER, provider='fmp')[['close']].rename(columns={'close' : SECTOR_TICKER})\n",
        "industry = obb.equity.price.historical(symbol = INDUSTRY_TICKER, provider='fmp')[['close']].rename(columns={'close' : INDUSTRY_TICKER})\n",
        "\n",
        "one = pd.merge(spy, dis, left_index=True, right_index=True)\n",
        "two = pd.merge(one, sector,left_index=True, right_index=True)\n",
        "result = pd.merge(two, industry,left_index=True, right_index=True)\n",
        "histpriceconcat = result/result.iloc[0]\n",
        "\n",
        "\n",
        "for i, col in enumerate([TICKER2, TICKER, SECTOR_TICKER, INDUSTRY_TICKER]):\n",
        "    histpriceconcat[col].plot()\n",
        "'''\n",
        "plt.title('Price Evolution Comparison')\n",
        "plt.xticks(rotation=70)\n",
        "\n",
        "legendCols = [TICKER2, TICKER, f'{SECTOR_TICKER}(Sector)', f'{INDUSTRY_TICKER}(Industry)']\n",
        "\n",
        "plt.legend(legendCols)\n",
        "#plt.savefig('foo1.png', bbox_inches='tight')\n",
        "#\n",
        "#plt.show()\n",
        "\n",
        "res = line_chart(histpriceconcat, title='Price evolution')\n",
        "res.show()\n",
        "'''"
      ],
      "metadata": {
        "id": "B1Z-lZkpanSg"
      },
      "execution_count": null,
      "outputs": []
    },
    {
      "cell_type": "markdown",
      "source": [
        "### Overview"
      ],
      "metadata": {
        "id": "NLHZGPSod3Cb"
      }
    },
    {
      "cell_type": "code",
      "source": [
        "line_chart([spy, dis, sector, industry], xtitle='Price evolution',ytitle='Test' , normalize=True, same_axis=True).show()"
      ],
      "metadata": {
        "id": "3_mWMuJ-viXL"
      },
      "execution_count": null,
      "outputs": []
    },
    {
      "cell_type": "markdown",
      "source": [
        "### Overview of the company"
      ],
      "metadata": {
        "id": "QuPNeWcT3S6y"
      }
    },
    {
      "cell_type": "code",
      "source": [
        "obb.equity.fundamental.overview(symbol=TICKER)"
      ],
      "metadata": {
        "id": "s_u4cWPWd4CJ"
      },
      "execution_count": null,
      "outputs": []
    },
    {
      "cell_type": "markdown",
      "source": [
        "### Stock Peers"
      ],
      "metadata": {
        "id": "0qrKaJ_gemSl"
      }
    },
    {
      "cell_type": "code",
      "source": [
        "import os\n",
        "import requests\n",
        "\n",
        "def get_peers(ticker):\n",
        "    apiKey = getfmpkeys()\n",
        "    baseUrl = f'https://financialmodelingprep.com/api/v4/stock_peers?symbol={ticker}&apikey={apiKey}'\n",
        "    return requests.get(baseUrl).json()[0].get('peersList', [])\n",
        "\n",
        "full_tickers = obb.equity.compare.peers(symbol=TICKER)[1].values.tolist()[0]\n",
        "full_tickers"
      ],
      "metadata": {
        "id": "1jILdgDAd7vE"
      },
      "execution_count": null,
      "outputs": []
    },
    {
      "cell_type": "markdown",
      "source": [
        "### Fetching some ratios\n"
      ],
      "metadata": {
        "id": "MjbqscIYeqLG"
      }
    },
    {
      "cell_type": "markdown",
      "source": [
        "### Ratios Overview"
      ],
      "metadata": {
        "id": "j-2UQkTVe7R6"
      }
    },
    {
      "cell_type": "code",
      "source": [
        "liq_ratios = ['current_ratio', 'quick_ratio', 'operating_cash_flow_per_share',  'days_of_sales_outstanding' ]\n",
        "solvency_ratios = ['interest_coverage', 'debt_ratio',  'debt_equity_ratio'] #missing shareholder equity ratio\n",
        "profitability_ratios = ['gross_profit_margin', 'operating_profit_margin',\n",
        "                        #revenuePerShare\n",
        "                        'pretax_profit_margin',\n",
        "                        'net_profit_margin',\n",
        "                        #Cash flow margin\n",
        "                        'return_on_assets',\n",
        "                        'return_on_equity',\n",
        "                        'return_on_capital_employed',\n",
        "                         #'price_to_sales_ratio'\n",
        "                         ]"
      ],
      "metadata": {
        "id": "SnI9N76se8Ku"
      },
      "execution_count": null,
      "outputs": []
    },
    {
      "cell_type": "markdown",
      "source": [
        "### Quarterly"
      ],
      "metadata": {
        "id": "iecJRoqE3e7a"
      }
    },
    {
      "cell_type": "markdown",
      "source": [],
      "metadata": {
        "id": "0A1VvX9X32UQ"
      }
    },
    {
      "cell_type": "code",
      "source": [
        "annual_ratios = obb.equity.fundamental.ratios(symbol=TICKER, period=\"annual\", limit=5)\n",
        "quarterly_ratios = obb.equity.fundamental.ratios(symbol=TICKER, period=\"quarter\", limit=12)\n",
        "quarterly_ratios['key'] = quarterly_ratios.apply(lambda row: f\"{row['fiscal_period']}_{row['fiscal_year']}\", axis=1)\n",
        "# Income statement. we need this for trajectory of fundamentals\n",
        "annual_income = obb.equity.fundamental.income(symbol=TICKER, period=\"annual\", limit=5)\n",
        "quarterly_income = obb.equity.fundamental.income(symbol=TICKER, period=\"quarter\", limit=12)\n",
        "quarterly_income['key'] = quarterly_ratios.apply(lambda row: f\"{row['fiscal_period']}_{row['fiscal_year']}\", axis=1)\n",
        "\n"
      ],
      "metadata": {
        "id": "zin8uTJp-cDm"
      },
      "execution_count": null,
      "outputs": []
    },
    {
      "cell_type": "markdown",
      "source": [
        "### Annually"
      ],
      "metadata": {
        "id": "Aa-WmAIA3hFJ"
      }
    },
    {
      "cell_type": "code",
      "source": [
        "annual_liquidity = annual_ratios[liq_ratios + ['fiscal_year'] ].set_index('fiscal_year')\n",
        "annual_solvency = annual_ratios[solvency_ratios + ['fiscal_year'] ].set_index('fiscal_year')\n",
        "annual_profitability = annual_ratios[profitability_ratios + ['fiscal_year'] ].set_index('fiscal_year')\n",
        "quarterly_liquidity = quarterly_ratios[liq_ratios + ['key'] ].set_index('key')\n",
        "quarterly_solvency = quarterly_ratios[solvency_ratios + ['key'] ].set_index('key')\n",
        "quarterly_profitability = quarterly_ratios[profitability_ratios + ['key'] ].set_index('key')\n",
        "\n",
        "annual_income = annual_income.set_index('fiscal_year')\n",
        "quarterly_income = quarterly_income.set_index('key')\n"
      ],
      "metadata": {
        "id": "8CeLAL47-5a5"
      },
      "execution_count": null,
      "outputs": []
    },
    {
      "cell_type": "code",
      "source": [
        "annual_income.columns"
      ],
      "metadata": {
        "id": "D8iXv5I44az-"
      },
      "execution_count": null,
      "outputs": []
    },
    {
      "cell_type": "markdown",
      "source": [
        "### Charting....."
      ],
      "metadata": {
        "id": "8dtT78bFgTv-"
      }
    },
    {
      "cell_type": "code",
      "source": [
        "#annual_liquidity\n",
        "import matplotlib.pyplot as plt\n",
        "\n",
        "#define subplot layout\n",
        "fig, axes = plt.subplots(nrows=1, ncols=2)\n",
        "annual_liquidity.apply(pd.to_numeric).plot.bar(figsize=(10,8), title='Liquidity Ratios annual', ax=axes[0])\n",
        "quarterly_liquidity.apply(pd.to_numeric).plot.bar(figsize=(20,8), title='Liquidity Ratios qtr', ax=axes[1])"
      ],
      "metadata": {
        "id": "v5spM26dD7vg"
      },
      "execution_count": null,
      "outputs": []
    },
    {
      "cell_type": "code",
      "source": [
        "from openbb_charting.charts.generic_charts import bar_chart\n",
        "\n",
        "bar_chart([annual_liquidity], x='fiscal_year', y=liq_ratios, title='Liquidity Ratios annual', normalize=True).show()"
      ],
      "metadata": {
        "id": "d2J15k6R3qpg"
      },
      "execution_count": null,
      "outputs": []
    },
    {
      "cell_type": "markdown",
      "source": [
        "### Profitability"
      ],
      "metadata": {
        "id": "KJjIpDF-gZE2"
      }
    },
    {
      "cell_type": "code",
      "source": [
        "#annual_liquidity\n",
        "import matplotlib.pyplot as plt\n",
        "\n",
        "#define subplot layout\n",
        "fig, axes = plt.subplots(nrows=2, ncols=1)\n",
        "annual_profitability.apply(pd.to_numeric).plot.bar(figsize=(20, 10),title='Profitability Ratios annual', ax=axes[0])\n",
        "quarterly_profitability.apply(pd.to_numeric).plot.bar(figsize=(20,10), title='Profitability Ratios qtr', ax=axes[1])"
      ],
      "metadata": {
        "id": "PUV1vTVBgcAq"
      },
      "execution_count": null,
      "outputs": []
    },
    {
      "cell_type": "markdown",
      "source": [
        "### Solvency"
      ],
      "metadata": {
        "id": "OJNH4VjChOSB"
      }
    },
    {
      "cell_type": "code",
      "source": [
        "import matplotlib.pyplot as plt\n",
        "\n",
        "#define subplot layout\n",
        "fig, axes = plt.subplots(nrows=1, ncols=2)\n",
        "annual_solvency.apply(pd.to_numeric).plot.bar(figsize=(10,8), title='Solvency Ratios annual', ax=axes[0])\n",
        "quarterly_solvency.apply(pd.to_numeric).plot.bar(figsize=(20,8), title='Solvency Ratios qtr', ax=axes[1])"
      ],
      "metadata": {
        "id": "Av1lGCxshThD"
      },
      "execution_count": null,
      "outputs": []
    },
    {
      "cell_type": "markdown",
      "source": [
        "### Now we will resort to the old analysis with Management, Profitability etc that we were used to do in colab"
      ],
      "metadata": {
        "id": "ZBClYx9BA5eR"
      }
    },
    {
      "cell_type": "markdown",
      "source": [
        "## Now Using other measures before checking financial statements in details"
      ],
      "metadata": {
        "id": "dgRIACUfDeBO"
      }
    },
    {
      "cell_type": "markdown",
      "source": [
        "* Gross Profit Margin: Indicates how efficiently a company produces goods or\n",
        "\n",
        "services by measuring the difference between revenue and the cost of goods sold (COGS).\n",
        "* Net Profit Margin: Measures a company’s overall profitability by calculating the percentage of net income relative to revenue.\n",
        "* Return on Assets (ROA): Assesses a company’s ability to generate profits from its assets, calculated by dividing net income by total assets.\n",
        "* Return on Equity (ROE): Evaluates a company’s ability to generate returns for its shareholders by dividing net income by shareholders’ equity.\n",
        "* Operating Profit Margin: Shows a company’s operating efficiency by measuring operating income as a percentage of revenue.\n",
        "\n"
      ],
      "metadata": {
        "id": "sVVd-y4wqMOG"
      }
    },
    {
      "cell_type": "markdown",
      "source": [
        "## TODO. follow https://colab.research.google.com/drive/1ZdGLqEfAXfiseahjIwxlRXgQbPg3-5Ol#scrollTo=LArvBJ9Qs9a2\n",
        "COMPARE Across years\n",
        "\n",
        "- check asset value (total assets, total liabilities, outstading shares, NAV\n",
        "- compar across years priceearningration, priceearningtogrowthratio, earningyield\n",
        "- net income, operating cf, capital expenditure, free cf, cashand cash equiv, year of cash\n",
        "\n",
        "\n",
        "We are looking for htis\n",
        "\n",
        "<ul>\n",
        "    <li><b>Staying power</b>: You want to make sure a company has the financial resources to endure a downturn and come out on the other side.<li>\n",
        "    <li><b>The trajectory of the fundamentals</b>: Because a stock price, over time, is connected to a company’s revenue and earnings, fundamental analysts try to see improving trends in the company’s revenue and profit. Trend spotting will be discussed at more length in Chapter 17.</li>\n",
        "    <li><b>Evidence of skilled management</b>: A management team with experience navigating through the ups and downs of a business may give the fundamental analyst more confidence in the company’s future. Skilled managers can protect their company’s business from competition with strong brands, service, or quality.</li>\n",
        "    <li><b>Valuation</b>: Even if a company is performing poorly, the stock can still be a good investment if the bad news is already reflected in the price. Fundamental analysts spend a great deal of their time comparing a company’s current stock price to its real value, based on what they think it’s worth. You discovered how to use the price-to-earnings ratio, or P-E, as a valuation tool in Chapter 8. In this chapter you’ll find out about the earnings yield. Fundamental analysts also look for good values using the discounted cash-flow model, explored in Chapter 11.</li>\n",
        "    <li><b>Dividend payments</b>: These seemingly small cash payments can quickly add up and become a significant consideration for a fundamental analyst. Fundamental analysts also use these dividends as a way to measure the attractiveness of some stocks, as will be discussed at the end of this chapter.</li>\n",
        "    </ul>\n",
        "In addition, we might want to look at this. (Check what we already fetch from our superperformers loader)\n",
        "\n",
        "<ol>\n",
        "    <li>Financial Health:\n",
        "        <ol>\n",
        "<li>Revenue Growth Rate: Ideally, a company should have a positive revenue growth rate of at least 5% per year.</li>\n",
        "<li>Profit Margin: A healthy profit margin varies by industry, but a company with a profit margin of at least 10% is generally considered financially healthy.</li>\n",
        "<li>Debt-to-Equity Ratio: A ratio of less than 1 indicates that a company is financed more by equity than debt, which is generally considered financially healthy.</li>\n",
        "<li>Free Cash Flow: A positive free cash flow indicates that a company is generating cash from its operations and is able to invest in growth opportunities.</li>\n",
        "        </ol>\n",
        "    </li>\n",
        " <li>Competitive Advantage:\n",
        "    <ol>\n",
        "<li>Market Share: A company with a market share of at least 20% is generally considered to have a strong competitive advantage in its industry.</li>\n",
        "<li>Return on Equity: A healthy return on equity varies by industry, but a company with a return on equity of at least 15% is generally considered to have a strong competitive advantage.</li>\n",
        "<li>Price-to-Earnings Ratio: A company with a price-to-earnings ratio that is lower than its peers may indicate that the company is undervalued and has a strong competitive advantage.</li>\n",
        "<li>Research and Development (R&D) Spending: A company that invests at least 5% of its revenue in R&D is generally considered to be investing in innovation and maintaining its competitive advantage.</li>\n",
        "     </ol>\n",
        "  </li>\n",
        "  <li>Management Quality:\n",
        "    <ol>\n",
        "<li>CEO Tenure: Ideally, a CEO should have been leading the company for at least 3–5 years to demonstrate a track record of success.</li>\n",
        "<li>Executive Compensation: Executive compensation varies by industry, but excessive compensation may indicate poor management quality.</li>\n",
        "<li>Employee Turnover Rate: A low employee turnover rate indicates that employees are satisfied and that the management team is effective at retaining talent.</li>\n",
        "<li>Return on Assets: A healthy return on assets varies by industry, but a company with a return on assets of at least 5% is generally considered to have effective management.  </li>\n",
        "      </ol>\n",
        "    </li>\n",
        "</ol>\n",
        "    \n",
        "    "
      ],
      "metadata": {
        "id": "5AGktB2AA4pN"
      }
    },
    {
      "cell_type": "markdown",
      "source": [
        "### Fundamental Measures"
      ],
      "metadata": {
        "id": "X2yCXZhUHEPT"
      }
    },
    {
      "cell_type": "code",
      "source": [
        "skilled_management_measures = ['return_on_assets', 'return_on_equity', 'return_on_capital_employed']\n",
        "staying_power_measures = idxs = ['return_on_capital_employed', 'current_ratio', 'debt_equity_ratio', 'interest_coverage', 'cash_per_share']\n",
        "valuation_measures = ['price_earnings_to_growth_ratio', 'price_earnings_ratio']\n",
        "profitability_measures = [\"date\", \"revenue\", \"costOfRevenues\", \"operatingExpenses\", # will need to probably get them from net income\n",
        "              \"otherExpenses\", \"netIncome\", \"ebitda\", \"interestExpense\", \"incomeTaxExpense\",\n",
        "              \"operatingIncome\"]\n",
        "financial_rations_measures = ['return_on_equity', 'return_on_capital_employed',\"receivablesTurnover\",\n",
        "              \"inventoryTurnover\", \"payablesTurnover\", \"debt_equity_ratio\",\n",
        "              \"current_ratio\", \"quick_ratio\", \"cash_ratio\", \"interest_coverage\",\n",
        "              \"priceToBookRatio\", \"dividendYield\", \"dividendPayoutRatio\", \"priceEarningsRatio\",\n",
        "              \"priceEarningsToGrowthRatio\", \"cashPerShare\"]\n",
        "\n",
        "trajectory_of_fundamentals = ['revenue', 'diluted_earnings_per_share', 'consolidated_net_income']\n",
        "cashflow_measures = ['symbol', 'netIncome', \"operatingCashFlow\", \"capitalExpenditure\", \"freeCashFlow\", \"ebtida\"]\n",
        "trend_measures = ['operatingIncome', 'revenues', 'eps', 'dividend']\n",
        "\n",
        "# Find net asset value"
      ],
      "metadata": {
        "id": "DMaM-8zuHcj7"
      },
      "execution_count": null,
      "outputs": []
    },
    {
      "cell_type": "code",
      "source": [
        "ratios = obb.equity.fundamental.ratios(symbol=TICKER, period=\"annual\", limit=5)\n"
      ],
      "metadata": {
        "id": "8rH8cFuJG4Qz"
      },
      "execution_count": null,
      "outputs": []
    },
    {
      "cell_type": "markdown",
      "source": [
        "### Staying Power (annual)"
      ],
      "metadata": {
        "id": "Yl_eMOVVKYAn"
      }
    },
    {
      "cell_type": "code",
      "source": [
        "fig, axes = plt.subplots(2, 2)\n",
        "print(axes)\n",
        "staying_power_measures = ['fiscal_year'] + ['return_on_capital_employed', 'current_ratio', 'debt_equity_ratio', 'interest_coverage', 'cash_per_share']\n",
        "skilled_mgmt_measures = ['fiscal_year'] + skilled_management_measures\n",
        "valuation_measures = ['fiscal_year'] + valuation_measures\n",
        "staying_power = annual_ratios[staying_power_measures].set_index('fiscal_year')\n",
        "skilled_mgmt = annual_ratios[skilled_mgmt_measures].set_index('fiscal_year')\n",
        "valuation = annual_ratios[valuation_measures].set_index('fiscal_year')\n",
        "traj_fundamentals = annual_income[trajectory_of_fundamentals]\n",
        "staying_power.apply(pd.to_numeric).plot.bar(figsize=(20,8), title='Staying power', ax=axes[0,0])\n",
        "skilled_mgmt.apply(pd.to_numeric).plot.bar(figsize=(20,8), title='Skilled Mgmt', ax=axes[0,1])\n",
        "valuation.apply(pd.to_numeric).plot.bar(figsize=(20,8), title='Valuation', ax=axes[1,0])\n",
        "traj_fundamentals.apply(pd.to_numeric).plot.bar(figsize=(20,8), title='Traj of Fundamentals', ax=axes[1,1])"
      ],
      "metadata": {
        "id": "6Y9wYDcFKWJE"
      },
      "execution_count": null,
      "outputs": []
    },
    {
      "cell_type": "markdown",
      "source": [
        "### Quarterly"
      ],
      "metadata": {
        "id": "Qf3K7m5g9tzX"
      }
    },
    {
      "cell_type": "code",
      "source": [
        "fig_qtr, qtr_axes = plt.subplots(2, 2)\n",
        "print(axes)\n",
        "\n",
        "staying_power_qtr = quarterly_ratios[staying_power_measures].set_index('fiscal_year')\n",
        "skilled_mgmt_qtr = quarterly_ratios[skilled_mgmt_measures].set_index('fiscal_year')\n",
        "valuation_qtr = quarterly_ratios[valuation_measures].set_index('fiscal_year')\n",
        "traj_fundamentals_qtr = quarterly_income[trajectory_of_fundamentals]\n",
        "staying_power_qtr.apply(pd.to_numeric).plot.bar(figsize=(20,8), title='Staying power', ax=qtr_axes[0,0])\n",
        "skilled_mgmt_qtr.apply(pd.to_numeric).plot.bar(figsize=(20,8), title='Skilled Mgmt', ax=qtr_axes[0,1])\n",
        "valuation_qtr.apply(pd.to_numeric).plot.bar(figsize=(20,8), title='Valuation', ax=qtr_axes[1,0])\n",
        "traj_fundamentals_qtr.apply(pd.to_numeric).plot.bar(figsize=(20,8), title='Traj of Fundamentals', ax=qtr_axes[1,1])"
      ],
      "metadata": {
        "id": "VtGxop5D8oPY"
      },
      "execution_count": null,
      "outputs": []
    },
    {
      "cell_type": "markdown",
      "source": [
        "###Dividends Over Time"
      ],
      "metadata": {
        "id": "mhRVBXrEdDUw"
      }
    },
    {
      "cell_type": "code",
      "source": [
        "df = obb.equity.fundamental.dividends(TICKER)\n",
        "df['cob'] = pd.to_datetime(df.ex_dividend_date)\n",
        "df = df.set_index(df.cob)\n",
        "df[df.index > startDate.strftime('%Y-%m-%d')].plot(x='cob')\n"
      ],
      "metadata": {
        "id": "RvRrx7ip4X8B"
      },
      "execution_count": null,
      "outputs": []
    },
    {
      "cell_type": "markdown",
      "source": [
        "### Estimates"
      ],
      "metadata": {
        "id": "LTEw0HqCdWvt"
      }
    },
    {
      "cell_type": "code",
      "source": [
        "obb.equity.estimates.consensus(symbol=TICKER)"
      ],
      "metadata": {
        "id": "jmPcKjlPdQDk"
      },
      "execution_count": null,
      "outputs": []
    },
    {
      "cell_type": "markdown",
      "source": [
        "### Discounted cashflow"
      ],
      "metadata": {
        "id": "kRwRWLW7PRNB"
      }
    },
    {
      "cell_type": "code",
      "source": [
        "ov_df = obb.equity.fundamental.overview(symbol=TICKER)\n",
        "ov_df[ov_df[0].isin(['dcf', 'dcf_diff'])]"
      ],
      "metadata": {
        "id": "9hmZg4ycQ4G6"
      },
      "execution_count": null,
      "outputs": []
    },
    {
      "cell_type": "markdown",
      "source": [
        "### Splits"
      ],
      "metadata": {
        "id": "0xp0tiNqAqTL"
      }
    },
    {
      "cell_type": "code",
      "source": [
        "obb.equity.fundamental.historical_splits(TICKER)"
      ],
      "metadata": {
        "id": "6kuJLShPRl1W"
      },
      "execution_count": null,
      "outputs": []
    },
    {
      "cell_type": "markdown",
      "source": [
        "### Financial Statement Growth"
      ],
      "metadata": {
        "id": "odvPoSOeEjD8"
      }
    },
    {
      "cell_type": "code",
      "source": [
        "obb.equity.fundamental.balance_growth(symbol=TICKER, limit=10)"
      ],
      "metadata": {
        "id": "GWLTTnevd9Dm"
      },
      "execution_count": null,
      "outputs": []
    },
    {
      "cell_type": "code",
      "source": [
        "obb.equity.fundamental.income_growth(symbol=TICKER, limit=10)"
      ],
      "metadata": {
        "id": "9wn-ytctAvwX"
      },
      "execution_count": null,
      "outputs": []
    },
    {
      "cell_type": "code",
      "source": [
        "obb.equity.fundamental.cash_growth(symbol=TICKER, limit=10)"
      ],
      "metadata": {
        "id": "YAXcOP26-HHs"
      },
      "execution_count": null,
      "outputs": []
    },
    {
      "cell_type": "markdown",
      "source": [
        "## Comparison With Stock in same sectors\n",
        "\n",
        "Analyzing a competitor's financial health involves looking at various aspects, and there's no single \"best\" set of ratios. However, a good approach is to consider ratios from different categories to get a well-rounded picture. Here are some key categories and specific ratios to consider:\n",
        "\n",
        "Profitability Ratios:\n",
        "\n",
        "Gross Profit Margin: Measures the percentage of revenue remaining after accounting for the cost of goods sold. Indicates how efficiently a company converts sales into profit.\n",
        "Operating Margin: Similar to gross margin, but factors in operating expenses, providing a clearer picture of profitability from core operations.\n",
        "Return on Assets (ROA): Measures how effectively a company uses its assets to generate profit.\n",
        "Return on Equity (ROE): Shows the return on investment for shareholders.\n",
        "Liquidity Ratios:\n",
        "\n",
        "Current Ratio: Assesses a company's ability to meet short-term obligations using current assets.\n",
        "Quick Ratio (Acid-Test Ratio): Similar to the current ratio, but excludes inventory (considered less liquid) from current assets for a more stringent assessment.\n",
        "Solvency Ratios:\n",
        "\n",
        "Debt-to-Equity Ratio: Indicates the proportion of debt used to finance the company compared to shareholder equity. Helps assess the risk of financial distress.\n",
        "Efficiency Ratios:\n",
        "\n",
        "Inventory Turnover Ratio: Measures how often a company sells and replaces its inventory stock.\n",
        "Receivables Turnover Ratio: Indicates how efficiently a company collects payments from customers.\n",
        "Additional Considerations:\n",
        "\n",
        "Industry Benchmarks: Comparing your competitor's ratios against industry averages can reveal strengths and weaknesses relative to peers.\n",
        "Trends Over Time: Analyzing trends in these ratios over several periods provides valuable insights into the company's financial trajectory.\n",
        "Combine Ratio Analysis with Other Information: Don't solely rely on ratios, consider news, market trends, and the company's business model for a comprehensive understanding."
      ],
      "metadata": {
        "id": "siJL5dAYuKYG"
      }
    },
    {
      "cell_type": "markdown",
      "source": [
        "### Historical Market Cap Last 5 yrs"
      ],
      "metadata": {
        "id": "fMZGUsGNfRtC"
      }
    },
    {
      "cell_type": "code",
      "source": [
        "def get_marketcap_for_ticker(ticker):\n",
        "  end_date = date.today()\n",
        "  start_date = date(end_date.year-5, 1, 1)\n",
        "  fmp_url =  f\"https://financialmodelingprep.com/api/v3/historical-market-capitalization/{ticker}?from={start_date.strftime('%Y-%m-%d')}&to={end_date.strftime('%Y-%m-%d')}&apikey={getfmpkeys()}\"\n",
        "  data = requests.get(fmp_url).json()\n",
        "\n",
        "  df = pd.DataFrame(data)[['date', 'marketCap']]\n",
        "  df['date'] = pd.to_datetime(df.date)\n",
        "  df['marketCap'] = df.marketCap / 1000000\n",
        "\n",
        "  df = df.set_index('date')\n",
        "  return df.rename(columns={'marketCap' : ticker})\n",
        "\n",
        "dfs = [get_marketcap_for_ticker(t) for t in full_tickers]\n",
        "\n",
        "dis = get_marketcap_for_ticker(TICKER)\n",
        "\n",
        "from functools import reduce\n",
        "\n",
        "alldata = reduce(lambda df, acc: pd.merge(df, acc, left_index=True, right_index=True), dfs, dis)\n",
        "alldata.plot(figsize=(20, 8))\n",
        "\n"
      ],
      "metadata": {
        "id": "10k_3Ba9fU-V"
      },
      "execution_count": null,
      "outputs": []
    },
    {
      "cell_type": "markdown",
      "source": [
        "### Net Profit Margin"
      ],
      "metadata": {
        "id": "HQmmR_RyuOAb"
      }
    },
    {
      "cell_type": "code",
      "source": [
        "#full_tickers\n",
        "ratios = ['net_profit_margin',\n",
        "          'operating_profit_margin',\n",
        "          'return_on_assets',\n",
        "          'current_ratio',\n",
        "          'quick_ratio']\n",
        "\n",
        "def get_measure_from_ratios(ticker, ratio_id):\n",
        "  data = obb.equity.fundamental.ratios(symbol=ticker, period=\"annual\", limit=5)[['fiscal_year', ratio_id]]\n",
        "  data = data.rename(columns={ratio_id : ticker})\n",
        "  return data.set_index('fiscal_year')\n",
        "\n",
        "for ratio in ratios:\n",
        "  eqt = get_measure_from_ratios(TICKER, ratio)\n",
        "  dfs = [get_measure_from_ratios(t, ratio) for t in full_tickers]\n",
        "  alldata = reduce(lambda df, acc: pd.merge(df, acc, left_index=True, right_index=True), dfs, eqt)[::-1]\n",
        "  alldata.plot.bar(figsize=(20, 8), title = ratio.upper())\n",
        "# TODO, PUT IT IN A GRID\n",
        "\n"
      ],
      "metadata": {
        "id": "cxhQBTbtzO5F"
      },
      "execution_count": null,
      "outputs": []
    },
    {
      "cell_type": "code",
      "source": [
        "obb.equity.fundamental.ratios(symbol='AAPL', period=\"annual\", limit=1).T"
      ],
      "metadata": {
        "id": "gwg-S1dB-yI2"
      },
      "execution_count": null,
      "outputs": []
    },
    {
      "cell_type": "markdown",
      "source": [
        "### EPS\n",
        "###Adjusted EBITDA increased by 16%, and diluted adjusted EPS grew 25%\n",
        "### cASH\n",
        "### Inventory\n",
        "\n",
        "\n",
        "<ul>\n",
        "  <li>Profitability:\n",
        "    <ul>\n",
        "      <li>Net profit margin: Net income / Net sales (Shows how much profit each dollar of sales generates)</li>\n",
        "      <li>Return on equity (ROE): Net income / Shareholder's equity (Measures profitability relative to shareholder investment)</li>\n",
        "   </ul>\n",
        "  </li>\n",
        "\n",
        "  <li>Liquidity:\n",
        "    <ul>\n",
        "      <li>Current ratio: Current assets / Current liabilities (Indicates short-term debt repayment ability)</li>\n",
        "      <li>Quick ratio: (Current assets - Inventories) / Current liabilities (More stringent measure of liquidity)</li>\n",
        "    </ul>\n",
        "  </li>\n",
        "  <li>Efficiency:\n",
        "    <ul>\n",
        "      <li>Inventory turnover: Cost of goods sold / Average inventory (Measures how quickly inventory is sold)</li>\n",
        "      <li>Asset turnover: Net sales / Average total assets (Indicates how effectively assets are used to generate sales)</li>\n",
        "      </li>\n",
        "    </ul>\n",
        "  </li>\n",
        "  <li>Debt:\n",
        "    <ul>\n",
        "      <li>Debt-to-equity ratio: Total debt / Total equity (Measures financial leverage and risk)</li>\n",
        "      <li>Interest coverage ratio: EBIT / Interest expense (Indicates ability to meet interest payments)</li>\n",
        "    </ul>\n",
        "  </li>\n",
        "  <li>Market Valuation:\n",
        "    <ul>\n",
        "      <li>Price-to-earnings ratio (P/E ratio): Share price / Earnings per share (Measures price relative to profitability)</li>\n",
        "      <li>Enterprise value / EBITDA ratio: Enterprise value / EBITDA (Considers debt and compares cash flow potential)</li>\n",
        "    </ul>\n",
        "  </li>\n",
        "</ul>"
      ],
      "metadata": {
        "id": "I75uToPJiUKl"
      }
    },
    {
      "cell_type": "markdown",
      "source": [
        "### Insider Tradings"
      ],
      "metadata": {
        "id": "nGZRQko1rEYK"
      }
    },
    {
      "cell_type": "code",
      "source": [
        "obb.equity.ownership.insider_trading(symbol=TICKER, limit=500)"
      ],
      "metadata": {
        "id": "NkVjNgJyrGxa"
      },
      "execution_count": null,
      "outputs": []
    },
    {
      "cell_type": "code",
      "source": [
        "obb.equity.discovery.filings(limit=100, form_type='13F')"
      ],
      "metadata": {
        "id": "6_mLULyNr4OV"
      },
      "execution_count": null,
      "outputs": []
    },
    {
      "cell_type": "markdown",
      "source": [
        "### OBV"
      ],
      "metadata": {
        "id": "h0HmoU_rs6Vo"
      }
    },
    {
      "cell_type": "code",
      "source": [
        "from openbb import obb\n",
        "stock_data = obb.equity.price.historical(symbol=TICKER, start_date=\"2023-10-01\", provider=\"fmp\")[['close', 'volume']]\n",
        "stock_data\n",
        "obb.technical.obv(data=stock_data, offset=0).plot()"
      ],
      "metadata": {
        "id": "_03chMDssxml"
      },
      "execution_count": null,
      "outputs": []
    },
    {
      "cell_type": "markdown",
      "source": [
        "### Ownership"
      ],
      "metadata": {
        "id": "QgFyA5qJ-NnB"
      }
    },
    {
      "cell_type": "code",
      "source": [
        "import requests\n",
        "import re\n",
        "df  =obb.equity.fundamental.overview(symbol=TICKER)\n",
        "ticker_exchange = df[df[0].isin(['exchange_short_name'])][1].values[0]\n",
        "base_url = f'https://www.marketbeat.com/stocks/{ticker_exchange}/{TICKER.upper()}/institutional-ownership/'\n",
        "print(base_url)\n",
        "str1 = requests.get(base_url).text\n",
        "string_pattern = r\"Institutional Ownership Percentage.*[\\d]+\\.[\\d]+%<\\/div>\"\n",
        "# compile string pattern to re.Pattern object\n",
        "regex_pattern = re.compile(string_pattern)\n",
        "res = regex_pattern.findall(str1)[0]\n",
        "float(res[res.find('strong>') + 7: res.rfind('%')])\n"
      ],
      "metadata": {
        "id": "i-NJnKfX-Kkv"
      },
      "execution_count": null,
      "outputs": []
    },
    {
      "cell_type": "code",
      "source": [
        "obb.equity.ownership.institutional(symbol=\"AAPL\", provider='yfinance')"
      ],
      "metadata": {
        "id": "yeSozlJw-pVF"
      },
      "execution_count": null,
      "outputs": []
    },
    {
      "cell_type": "markdown",
      "source": [
        "### Equity discovery"
      ],
      "metadata": {
        "id": "hIzFFPxyEePz"
      }
    },
    {
      "cell_type": "markdown",
      "source": [
        "### Most Active"
      ],
      "metadata": {
        "id": "wx9hLTGtEuPX"
      }
    },
    {
      "cell_type": "code",
      "source": [
        "obb.equity.discovery.active(sort=\"desc\")"
      ],
      "metadata": {
        "id": "Qf-gFGej_7Za"
      },
      "execution_count": null,
      "outputs": []
    },
    {
      "cell_type": "markdown",
      "source": [
        "### Gainers"
      ],
      "metadata": {
        "id": "CKajiwgFEzfY"
      }
    },
    {
      "cell_type": "code",
      "source": [
        "obb.equity.discovery.gainers(sort=\"desc\")"
      ],
      "metadata": {
        "id": "vEdrJXZKEi_-"
      },
      "execution_count": null,
      "outputs": []
    },
    {
      "cell_type": "markdown",
      "source": [
        "### Undervalued large caps"
      ],
      "metadata": {
        "id": "QIeOPC8KFCoU"
      }
    },
    {
      "cell_type": "code",
      "source": [
        "obb.equity.discovery.undervalued_large_caps(sort=\"desc\")"
      ],
      "metadata": {
        "id": "OliDDKgwFEOr"
      },
      "execution_count": null,
      "outputs": []
    },
    {
      "cell_type": "code",
      "source": [
        "obb.equity.discovery.top_retail(limit=5)"
      ],
      "metadata": {
        "id": "RBMIOLO1FEj4"
      },
      "execution_count": null,
      "outputs": []
    },
    {
      "cell_type": "code",
      "source": [
        "obb.equity.discovery.undervalued_growth(sort=\"desc\")"
      ],
      "metadata": {
        "id": "HdqtdShxFTS2"
      },
      "execution_count": null,
      "outputs": []
    },
    {
      "cell_type": "code",
      "source": [],
      "metadata": {
        "id": "2hqKhZYnKOiX"
      },
      "execution_count": null,
      "outputs": []
    }
  ]
}