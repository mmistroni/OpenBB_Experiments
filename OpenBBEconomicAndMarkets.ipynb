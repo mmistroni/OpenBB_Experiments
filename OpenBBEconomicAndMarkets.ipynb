{
  "nbformat": 4,
  "nbformat_minor": 0,
  "metadata": {
    "colab": {
      "provenance": [],
      "include_colab_link": true
    },
    "kernelspec": {
      "name": "python3",
      "display_name": "Python 3"
    },
    "language_info": {
      "name": "python"
    }
  },
  "cells": [
    {
      "cell_type": "markdown",
      "metadata": {
        "id": "view-in-github",
        "colab_type": "text"
      },
      "source": [
        "<a href=\"https://colab.research.google.com/github/mmistroni/OpenBB_Experiments/blob/main/OpenBBEconomicAndMarkets.ipynb\" target=\"_parent\"><img src=\"https://colab.research.google.com/assets/colab-badge.svg\" alt=\"Open In Colab\"/></a>"
      ]
    },
    {
      "cell_type": "markdown",
      "source": [
        "# Installing the OpenBB Platform in Google Colab\n",
        "\n",
        "This notebook will install the OpenBB Platform, fetch some data and prepare it for display as a bar chart.\n",
        "\n",
        "Sign up for a free account here: https://my.openbb.co"
      ],
      "metadata": {
        "id": "xIOXTKkqBReO"
      }
    },
    {
      "cell_type": "code",
      "execution_count": null,
      "metadata": {
        "id": "xvU65bhqKNns"
      },
      "outputs": [],
      "source": [
        "# Install the OpenBB Platform with all available extensions.\n",
        "# Messages indicating package version conflicts at the end of installation can be safely ignored.\n",
        "\n",
        "!pip install openbb[all]\n",
        "# There is also a nightly distribution available, openbb-nightly"
      ]
    },
    {
      "cell_type": "code",
      "source": [
        "# Before running this cell, restart the runtime by selecting, \"Restart runtime\", from the \"Runtime\" menu.\n",
        "\n",
        "# Import statements - for many scenarios, the only import needed will be `from openbb import obb`\n",
        "from typing import Literal\n",
        "from IPython.display import display\n",
        "from IPython.display import clear_output\n",
        "import ipywidgets as widgets\n",
        "import pandas as pd\n",
        "import pandas_ta as ta\n",
        "from datetime import datetime , date\n",
        "from plotly import graph_objects as go\n",
        "\n",
        "from openbb import obb"
      ],
      "metadata": {
        "id": "_69FIu9YKRhI"
      },
      "execution_count": null,
      "outputs": []
    },
    {
      "cell_type": "code",
      "source": [
        "# Login to OpenBB Hub to retrieve stored API keys.\n",
        "# https://my.openbb.co/app/platform/pat\n",
        "# https://my.openbb.co/app/platform/api-keys\n",
        "# You will need to add your PAT_KEY to secrets in colab, i named my variable PAT\n",
        "from google.colab import userdata\n",
        "PAT_KEY = userdata.get('PAT')\n",
        "obb.account.login(pat=PAT_KEY)"
      ],
      "metadata": {
        "id": "1OLsZHDYMBSS"
      },
      "execution_count": null,
      "outputs": []
    },
    {
      "cell_type": "code",
      "source": [
        "# Verify that the credentials from Hub were loaded successfully.\n",
        "obb.user.preferences.output_type = \"dataframe\"\n"
      ],
      "metadata": {
        "id": "gJ7FwTC6MTzv"
      },
      "execution_count": null,
      "outputs": []
    },
    {
      "cell_type": "markdown",
      "source": [
        "### Randomly displaying available indicators"
      ],
      "metadata": {
        "id": "x93Iu8A9mlko"
      }
    },
    {
      "cell_type": "code",
      "source": [
        "df = obb.economy.available_indicators(provider='econdb')\n",
        "df[df.country.isin(['United States'])].description.values.tolist()"
      ],
      "metadata": {
        "id": "3julO_KKse9U"
      },
      "execution_count": null,
      "outputs": []
    },
    {
      "cell_type": "markdown",
      "source": [
        "### Getting Some Market Data\n"
      ],
      "metadata": {
        "id": "tujIxtiQUKiP"
      }
    },
    {
      "cell_type": "code",
      "source": [
        "obb.index.price.historical(symbol='^GSPC', provider='fmp') # sp500\n",
        "obb.index.price.historical(symbol='^RUT', provider='fmp')  # russell\n",
        "obb.index.price.historical(symbol='^VIX', provider='fmp') # vix\n",
        "# ETF, NASDAQ, GROWTH AND VALUE\n",
        "obb.etf.price_performance(symbol='QQQ,IVW,IVE', provider='fmp')\n",
        "\n"
      ],
      "metadata": {
        "id": "27JtqRAQ2HTb"
      },
      "execution_count": null,
      "outputs": []
    },
    {
      "cell_type": "markdown",
      "source": [
        "### Some good market indicators"
      ],
      "metadata": {
        "id": "MnYEC0ODrxr7"
      }
    },
    {
      "cell_type": "code",
      "source": [
        "# Consumer Confidence\n",
        "obb.economy.survey.university_of_michigan(provider='fred')[-6:]"
      ],
      "metadata": {
        "id": "5YAESjhyrv7q"
      },
      "execution_count": null,
      "outputs": []
    },
    {
      "cell_type": "code",
      "source": [
        "# Nonfarm payroll\n",
        "from openbb import obb\n",
        "obb.economy.survey.nonfarm_payrolls(provider='fred')[-10:]\n"
      ],
      "metadata": {
        "id": "arI82eZYr8ov"
      },
      "execution_count": null,
      "outputs": []
    },
    {
      "cell_type": "code",
      "source": [
        "# CPI\n",
        "from openbb import obb\n",
        "obb.economy.cpi(country='united_states,japan,china,turkey', provider='fred')\n",
        "# Use the `transform` parameter to define the reference period for the change in values. Default is YoY.\n",
        "obb.economy.cpi(country='united_states,united_kingdom', transform='period', provider='oecd')\n",
        "\n"
      ],
      "metadata": {
        "id": "7aeH0qhsr-_8"
      },
      "execution_count": null,
      "outputs": []
    },
    {
      "cell_type": "code",
      "source": [
        "# job layoff rate\n",
        "obb.economy.indicators(symbol='JLR', country='US', provider='econdb')\n"
      ],
      "metadata": {
        "id": "DQrEf784sCSu"
      },
      "execution_count": null,
      "outputs": []
    },
    {
      "cell_type": "code",
      "source": [
        " obb.economy.indicators(symbol='JHR', country='US', provider='econdb')\n",
        ""
      ],
      "metadata": {
        "id": "cUc8vb1CsD3J"
      },
      "execution_count": null,
      "outputs": []
    },
    {
      "cell_type": "code",
      "source": [
        "# House Price Index\n",
        "obb.economy.house_price_index(country='united_states', frequency='quarter', provider='oecd')\n"
      ],
      "metadata": {
        "id": "N95JWCoGsFMg"
      },
      "execution_count": null,
      "outputs": []
    },
    {
      "cell_type": "markdown",
      "source": [
        "## General News"
      ],
      "metadata": {
        "id": "ssgn5JARu_D7"
      }
    },
    {
      "cell_type": "code",
      "source": [
        "from openbb import obb\n",
        "obb.news.world(provider='fmp', limit=100)"
      ],
      "metadata": {
        "id": "FBwXB4WPvBO_"
      },
      "execution_count": null,
      "outputs": []
    },
    {
      "cell_type": "markdown",
      "source": [
        "### Edgar Form 4 - Insider Trading"
      ],
      "metadata": {
        "id": "odvPoSOeEjD8"
      }
    },
    {
      "cell_type": "code",
      "source": [
        "obb.equity.discovery.filings(limit=100, form_type='4')\n"
      ],
      "metadata": {
        "id": "10k_3Ba9fU-V"
      },
      "execution_count": null,
      "outputs": []
    },
    {
      "cell_type": "markdown",
      "source": [
        "### Edgar Form13F - Institutional Investors Holdings"
      ],
      "metadata": {
        "id": "HQmmR_RyuOAb"
      }
    },
    {
      "cell_type": "code",
      "source": [
        "obb.equity.discovery.filings(limit=100, form_type='13F')"
      ],
      "metadata": {
        "id": "6_mLULyNr4OV"
      },
      "execution_count": null,
      "outputs": []
    },
    {
      "cell_type": "markdown",
      "source": [
        "### OBV"
      ],
      "metadata": {
        "id": "h0HmoU_rs6Vo"
      }
    }
  ]
}