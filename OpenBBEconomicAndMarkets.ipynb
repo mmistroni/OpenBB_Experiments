{
  "nbformat": 4,
  "nbformat_minor": 0,
  "metadata": {
    "colab": {
      "provenance": [],
      "include_colab_link": true
    },
    "kernelspec": {
      "name": "python3",
      "display_name": "Python 3"
    },
    "language_info": {
      "name": "python"
    }
  },
  "cells": [
    {
      "cell_type": "markdown",
      "metadata": {
        "id": "view-in-github",
        "colab_type": "text"
      },
      "source": [
        "<a href=\"https://colab.research.google.com/github/mmistroni/OpenBB_Experiments/blob/main/OpenBBEconomicAndMarkets.ipynb\" target=\"_parent\"><img src=\"https://colab.research.google.com/assets/colab-badge.svg\" alt=\"Open In Colab\"/></a>"
      ]
    },
    {
      "cell_type": "markdown",
      "source": [
        "# Installing the OpenBB Platform in Google Colab\n",
        "\n",
        "This notebook will install the OpenBB Platform, fetch some data and prepare it for display as a bar chart.\n",
        "\n",
        "Sign up for a free account here: https://my.openbb.co"
      ],
      "metadata": {
        "id": "xIOXTKkqBReO"
      }
    },
    {
      "cell_type": "code",
      "execution_count": null,
      "metadata": {
        "id": "xvU65bhqKNns"
      },
      "outputs": [],
      "source": [
        "# Install the OpenBB Platform with all available extensions.\n",
        "# Messages indicating package version conflicts at the end of installation can be safely ignored.\n",
        "\n",
        "!pip install openbb[all]\n",
        "# There is also a nightly distribution available, openbb-nightly"
      ]
    },
    {
      "cell_type": "code",
      "source": [
        "# Before running this cell, restart the runtime by selecting, \"Restart runtime\", from the \"Runtime\" menu.\n",
        "\n",
        "# Import statements - for many scenarios, the only import needed will be `from openbb import obb`\n",
        "from typing import Literal\n",
        "from IPython.display import display\n",
        "from IPython.display import clear_output\n",
        "import ipywidgets as widgets\n",
        "import pandas as pd\n",
        "import pandas_ta as ta\n",
        "from datetime import datetime , date\n",
        "from plotly import graph_objects as go\n",
        "\n",
        "from openbb import obb"
      ],
      "metadata": {
        "id": "_69FIu9YKRhI"
      },
      "execution_count": null,
      "outputs": []
    },
    {
      "cell_type": "code",
      "source": [
        "# Login to OpenBB Hub to retrieve stored API keys.\n",
        "# https://my.openbb.co/app/platform/pat\n",
        "# https://my.openbb.co/app/platform/api-keys\n",
        "# You will need to add your PAT_KEY to secrets in colab, i named my variable PAT\n",
        "from google.colab import userdata\n",
        "PAT_KEY = userdata.get('PAT')\n",
        "obb.account.login(pat=PAT_KEY)"
      ],
      "metadata": {
        "id": "1OLsZHDYMBSS",
        "colab": {
          "base_uri": "https://localhost:8080/"
        },
        "outputId": "ca8475c7-6016-45d4-d12a-a85598a3530e"
      },
      "execution_count": 35,
      "outputs": [
        {
          "output_type": "stream",
          "name": "stderr",
          "text": [
            "/usr/local/lib/python3.10/dist-packages/openbb_core/app/service/hub_service.py:241: UserWarning: \n",
            "Deprecated v3 credentials found.\n",
            "\n",
            "'API_FRED_KEY' -> 'FRED_API_KEY', \n",
            "'API_KEY_FINANCIALMODELINGPREP' -> 'FMP_API_KEY'\n",
            "\n",
            "You can update them at https://my.openbb.co/app/platform/credentials.\n",
            "  warn(\n"
          ]
        }
      ]
    },
    {
      "cell_type": "code",
      "source": [
        "# Verify that the credentials from Hub were loaded successfully.\n",
        "obb.user.preferences.output_type = \"dataframe\"\n"
      ],
      "metadata": {
        "id": "gJ7FwTC6MTzv"
      },
      "execution_count": null,
      "outputs": []
    },
    {
      "cell_type": "markdown",
      "source": [
        "### Randomly displaying available indicators"
      ],
      "metadata": {
        "id": "x93Iu8A9mlko"
      }
    },
    {
      "cell_type": "code",
      "source": [
        "df = obb.economy.available_indicators(provider='econdb')\n",
        "df[df.country.isin(['United States'])].description.values.tolist()"
      ],
      "metadata": {
        "id": "3julO_KKse9U"
      },
      "execution_count": null,
      "outputs": []
    },
    {
      "cell_type": "markdown",
      "source": [
        "### Getting Some Market Data\n"
      ],
      "metadata": {
        "id": "tujIxtiQUKiP"
      }
    },
    {
      "cell_type": "code",
      "source": [
        "obb.index.price.historical(symbol='^GSPC', provider='fmp') # sp500\n",
        "obb.index.price.historical(symbol='^RUT', provider='fmp')  # russell\n",
        "obb.index.price.historical(symbol='^VIX', provider='fmp') # vix\n",
        "# ETF, NASDAQ, GROWTH AND VALUE\n",
        "obb.etf.price_performance(symbol='QQQ,IVW,IVE', provider='fmp')\n",
        "\n"
      ],
      "metadata": {
        "id": "27JtqRAQ2HTb"
      },
      "execution_count": null,
      "outputs": []
    },
    {
      "cell_type": "markdown",
      "source": [
        "### Some good market indicators"
      ],
      "metadata": {
        "id": "MnYEC0ODrxr7"
      }
    },
    {
      "cell_type": "code",
      "source": [
        "# Consumer Confidence\n",
        "obb.economy.survey.university_of_michigan(provider='fred')[-6:]"
      ],
      "metadata": {
        "id": "5YAESjhyrv7q"
      },
      "execution_count": null,
      "outputs": []
    },
    {
      "cell_type": "code",
      "source": [
        "# Nonfarm payroll\n",
        "from openbb import obb\n",
        "obb.economy.survey.nonfarm_payrolls(provider='fred')[-10:]\n"
      ],
      "metadata": {
        "id": "arI82eZYr8ov"
      },
      "execution_count": null,
      "outputs": []
    },
    {
      "cell_type": "code",
      "source": [
        "# CPI\n",
        "from openbb import obb\n",
        "obb.economy.cpi(country='united_states,japan,china,turkey', provider='fred')\n",
        "# Use the `transform` parameter to define the reference period for the change in values. Default is YoY.\n",
        "obb.economy.cpi(country='united_states,united_kingdom', transform='period', provider='oecd')\n",
        "\n"
      ],
      "metadata": {
        "id": "7aeH0qhsr-_8"
      },
      "execution_count": null,
      "outputs": []
    },
    {
      "cell_type": "code",
      "source": [
        "# job layoff rate\n",
        "obb.economy.indicators(symbol='JLR', country='US', provider='econdb')\n"
      ],
      "metadata": {
        "id": "DQrEf784sCSu"
      },
      "execution_count": null,
      "outputs": []
    },
    {
      "cell_type": "code",
      "source": [
        " obb.economy.indicators(symbol='JHR', country='US', provider='econdb')\n",
        ""
      ],
      "metadata": {
        "id": "cUc8vb1CsD3J"
      },
      "execution_count": null,
      "outputs": []
    },
    {
      "cell_type": "code",
      "source": [
        "# House Price Index\n",
        "obb.economy.house_price_index(country='united_states', frequency='quarter', provider='oecd')\n"
      ],
      "metadata": {
        "id": "N95JWCoGsFMg"
      },
      "execution_count": null,
      "outputs": []
    },
    {
      "cell_type": "markdown",
      "source": [
        "## General News"
      ],
      "metadata": {
        "id": "ssgn5JARu_D7"
      }
    },
    {
      "cell_type": "code",
      "source": [
        "from openbb import obb\n",
        "obb.news.world(provider='fmp', limit=100)"
      ],
      "metadata": {
        "id": "FBwXB4WPvBO_"
      },
      "execution_count": null,
      "outputs": []
    },
    {
      "cell_type": "markdown",
      "source": [
        "### Edgar Form 4 - Insider Trading"
      ],
      "metadata": {
        "id": "odvPoSOeEjD8"
      }
    },
    {
      "cell_type": "code",
      "source": [
        "obb.equity.discovery.filings(limit=100, form_type='4')\n"
      ],
      "metadata": {
        "id": "10k_3Ba9fU-V"
      },
      "execution_count": null,
      "outputs": []
    },
    {
      "cell_type": "markdown",
      "source": [
        "### Edgar Form13F - Institutional Investors Holdings"
      ],
      "metadata": {
        "id": "HQmmR_RyuOAb"
      }
    },
    {
      "cell_type": "code",
      "source": [
        "obb.equity.discovery.filings(limit=100, form_type='13F')"
      ],
      "metadata": {
        "id": "6_mLULyNr4OV"
      },
      "execution_count": null,
      "outputs": []
    },
    {
      "cell_type": "markdown",
      "source": [
        "### Commitment of traders"
      ],
      "metadata": {
        "id": "h0HmoU_rs6Vo"
      }
    },
    {
      "cell_type": "code",
      "source": [
        "# this will require you to have nasdaq key\n",
        "from google.colab import userdata\n",
        "nasdaq_key = userdata.get('NASDAQ_API_KEY')\n",
        "obb.user.credentials.nasdaq_api_key=nasdaq_key\n",
        "obb.regulators.cftc.cot(provider='nasdaq')"
      ],
      "metadata": {
        "id": "ZgEUdCJKznOt",
        "outputId": "7f7a99d1-8f9e-4baf-c5a8-9ac08701f564",
        "colab": {
          "base_uri": "https://localhost:8080/",
          "height": 455
        }
      },
      "execution_count": 38,
      "outputs": [
        {
          "output_type": "execute_result",
          "data": {
            "text/plain": [
              "            open_interest  noncommercial_long  noncommercial_short  \\\n",
              "date                                                                 \n",
              "1995-03-21        32730.0               250.0               2194.0   \n",
              "1995-03-28        33816.0              1101.0               2778.0   \n",
              "1995-04-04        29037.0               556.0               1507.0   \n",
              "1995-04-11        29121.0               250.0               1090.0   \n",
              "1995-04-18        29397.0               540.0               1466.0   \n",
              "...                   ...                 ...                  ...   \n",
              "2023-12-05      4149739.0            390106.0            1866307.0   \n",
              "2023-12-12      3994780.0            404436.0            1764667.0   \n",
              "2023-12-19      3876940.0            429567.0            1721296.0   \n",
              "2023-12-26      3789462.0            400357.0            1663901.0   \n",
              "2024-01-02      3799946.0            420812.0            1662380.0   \n",
              "\n",
              "            noncommercial_spreads  commercial_long  commercial_short  \\\n",
              "date                                                                   \n",
              "1995-03-21                    0.0          27604.0           23245.0   \n",
              "1995-03-28                    0.0          28597.0           23581.0   \n",
              "1995-04-04                    0.0          24854.0           21060.0   \n",
              "1995-04-11                    0.0          25686.0           21776.0   \n",
              "1995-04-18                    0.0          25676.0           21550.0   \n",
              "...                           ...              ...               ...   \n",
              "2023-12-05                91147.0        3394785.0         2059058.0   \n",
              "2023-12-12                93586.0        3232211.0         2008310.0   \n",
              "2023-12-19                87101.0        3076849.0         1918489.0   \n",
              "2023-12-26                74167.0        3048808.0         1921716.0   \n",
              "2024-01-02                79019.0        3048698.0         1921119.0   \n",
              "\n",
              "            total_long  total_short  nonreportable_positions_long  \\\n",
              "date                                                                \n",
              "1995-03-21     27854.0      25439.0                        4877.0   \n",
              "1995-03-28     29698.0      26359.0                        4118.0   \n",
              "1995-04-04     25410.0      22567.0                        3627.0   \n",
              "1995-04-11     25936.0      22866.0                        3185.0   \n",
              "1995-04-18     26216.0      23016.0                        3181.0   \n",
              "...                ...          ...                           ...   \n",
              "2023-12-05   3876039.0    4016512.0                      273700.0   \n",
              "2023-12-12   3730232.0    3866563.0                      264548.0   \n",
              "2023-12-19   3593517.0    3726886.0                      283423.0   \n",
              "2023-12-26   3523332.0    3659784.0                      266130.0   \n",
              "2024-01-02   3548529.0    3662518.0                      251417.0   \n",
              "\n",
              "            nonreportable_positions_short  \n",
              "date                                       \n",
              "1995-03-21                         7291.0  \n",
              "1995-03-28                         7457.0  \n",
              "1995-04-04                         6470.0  \n",
              "1995-04-11                         6255.0  \n",
              "1995-04-18                         6381.0  \n",
              "...                                   ...  \n",
              "2023-12-05                       133226.0  \n",
              "2023-12-12                       128217.0  \n",
              "2023-12-19                       150054.0  \n",
              "2023-12-26                       129678.0  \n",
              "2024-01-02                       137428.0  \n",
              "\n",
              "[1502 rows x 10 columns]"
            ],
            "text/html": [
              "\n",
              "  <div id=\"df-20f5e55b-8726-407c-8ae4-01ef2f804b56\" class=\"colab-df-container\">\n",
              "    <div>\n",
              "<style scoped>\n",
              "    .dataframe tbody tr th:only-of-type {\n",
              "        vertical-align: middle;\n",
              "    }\n",
              "\n",
              "    .dataframe tbody tr th {\n",
              "        vertical-align: top;\n",
              "    }\n",
              "\n",
              "    .dataframe thead th {\n",
              "        text-align: right;\n",
              "    }\n",
              "</style>\n",
              "<table border=\"1\" class=\"dataframe\">\n",
              "  <thead>\n",
              "    <tr style=\"text-align: right;\">\n",
              "      <th></th>\n",
              "      <th>open_interest</th>\n",
              "      <th>noncommercial_long</th>\n",
              "      <th>noncommercial_short</th>\n",
              "      <th>noncommercial_spreads</th>\n",
              "      <th>commercial_long</th>\n",
              "      <th>commercial_short</th>\n",
              "      <th>total_long</th>\n",
              "      <th>total_short</th>\n",
              "      <th>nonreportable_positions_long</th>\n",
              "      <th>nonreportable_positions_short</th>\n",
              "    </tr>\n",
              "    <tr>\n",
              "      <th>date</th>\n",
              "      <th></th>\n",
              "      <th></th>\n",
              "      <th></th>\n",
              "      <th></th>\n",
              "      <th></th>\n",
              "      <th></th>\n",
              "      <th></th>\n",
              "      <th></th>\n",
              "      <th></th>\n",
              "      <th></th>\n",
              "    </tr>\n",
              "  </thead>\n",
              "  <tbody>\n",
              "    <tr>\n",
              "      <th>1995-03-21</th>\n",
              "      <td>32730.0</td>\n",
              "      <td>250.0</td>\n",
              "      <td>2194.0</td>\n",
              "      <td>0.0</td>\n",
              "      <td>27604.0</td>\n",
              "      <td>23245.0</td>\n",
              "      <td>27854.0</td>\n",
              "      <td>25439.0</td>\n",
              "      <td>4877.0</td>\n",
              "      <td>7291.0</td>\n",
              "    </tr>\n",
              "    <tr>\n",
              "      <th>1995-03-28</th>\n",
              "      <td>33816.0</td>\n",
              "      <td>1101.0</td>\n",
              "      <td>2778.0</td>\n",
              "      <td>0.0</td>\n",
              "      <td>28597.0</td>\n",
              "      <td>23581.0</td>\n",
              "      <td>29698.0</td>\n",
              "      <td>26359.0</td>\n",
              "      <td>4118.0</td>\n",
              "      <td>7457.0</td>\n",
              "    </tr>\n",
              "    <tr>\n",
              "      <th>1995-04-04</th>\n",
              "      <td>29037.0</td>\n",
              "      <td>556.0</td>\n",
              "      <td>1507.0</td>\n",
              "      <td>0.0</td>\n",
              "      <td>24854.0</td>\n",
              "      <td>21060.0</td>\n",
              "      <td>25410.0</td>\n",
              "      <td>22567.0</td>\n",
              "      <td>3627.0</td>\n",
              "      <td>6470.0</td>\n",
              "    </tr>\n",
              "    <tr>\n",
              "      <th>1995-04-11</th>\n",
              "      <td>29121.0</td>\n",
              "      <td>250.0</td>\n",
              "      <td>1090.0</td>\n",
              "      <td>0.0</td>\n",
              "      <td>25686.0</td>\n",
              "      <td>21776.0</td>\n",
              "      <td>25936.0</td>\n",
              "      <td>22866.0</td>\n",
              "      <td>3185.0</td>\n",
              "      <td>6255.0</td>\n",
              "    </tr>\n",
              "    <tr>\n",
              "      <th>1995-04-18</th>\n",
              "      <td>29397.0</td>\n",
              "      <td>540.0</td>\n",
              "      <td>1466.0</td>\n",
              "      <td>0.0</td>\n",
              "      <td>25676.0</td>\n",
              "      <td>21550.0</td>\n",
              "      <td>26216.0</td>\n",
              "      <td>23016.0</td>\n",
              "      <td>3181.0</td>\n",
              "      <td>6381.0</td>\n",
              "    </tr>\n",
              "    <tr>\n",
              "      <th>...</th>\n",
              "      <td>...</td>\n",
              "      <td>...</td>\n",
              "      <td>...</td>\n",
              "      <td>...</td>\n",
              "      <td>...</td>\n",
              "      <td>...</td>\n",
              "      <td>...</td>\n",
              "      <td>...</td>\n",
              "      <td>...</td>\n",
              "      <td>...</td>\n",
              "    </tr>\n",
              "    <tr>\n",
              "      <th>2023-12-05</th>\n",
              "      <td>4149739.0</td>\n",
              "      <td>390106.0</td>\n",
              "      <td>1866307.0</td>\n",
              "      <td>91147.0</td>\n",
              "      <td>3394785.0</td>\n",
              "      <td>2059058.0</td>\n",
              "      <td>3876039.0</td>\n",
              "      <td>4016512.0</td>\n",
              "      <td>273700.0</td>\n",
              "      <td>133226.0</td>\n",
              "    </tr>\n",
              "    <tr>\n",
              "      <th>2023-12-12</th>\n",
              "      <td>3994780.0</td>\n",
              "      <td>404436.0</td>\n",
              "      <td>1764667.0</td>\n",
              "      <td>93586.0</td>\n",
              "      <td>3232211.0</td>\n",
              "      <td>2008310.0</td>\n",
              "      <td>3730232.0</td>\n",
              "      <td>3866563.0</td>\n",
              "      <td>264548.0</td>\n",
              "      <td>128217.0</td>\n",
              "    </tr>\n",
              "    <tr>\n",
              "      <th>2023-12-19</th>\n",
              "      <td>3876940.0</td>\n",
              "      <td>429567.0</td>\n",
              "      <td>1721296.0</td>\n",
              "      <td>87101.0</td>\n",
              "      <td>3076849.0</td>\n",
              "      <td>1918489.0</td>\n",
              "      <td>3593517.0</td>\n",
              "      <td>3726886.0</td>\n",
              "      <td>283423.0</td>\n",
              "      <td>150054.0</td>\n",
              "    </tr>\n",
              "    <tr>\n",
              "      <th>2023-12-26</th>\n",
              "      <td>3789462.0</td>\n",
              "      <td>400357.0</td>\n",
              "      <td>1663901.0</td>\n",
              "      <td>74167.0</td>\n",
              "      <td>3048808.0</td>\n",
              "      <td>1921716.0</td>\n",
              "      <td>3523332.0</td>\n",
              "      <td>3659784.0</td>\n",
              "      <td>266130.0</td>\n",
              "      <td>129678.0</td>\n",
              "    </tr>\n",
              "    <tr>\n",
              "      <th>2024-01-02</th>\n",
              "      <td>3799946.0</td>\n",
              "      <td>420812.0</td>\n",
              "      <td>1662380.0</td>\n",
              "      <td>79019.0</td>\n",
              "      <td>3048698.0</td>\n",
              "      <td>1921119.0</td>\n",
              "      <td>3548529.0</td>\n",
              "      <td>3662518.0</td>\n",
              "      <td>251417.0</td>\n",
              "      <td>137428.0</td>\n",
              "    </tr>\n",
              "  </tbody>\n",
              "</table>\n",
              "<p>1502 rows × 10 columns</p>\n",
              "</div>\n",
              "    <div class=\"colab-df-buttons\">\n",
              "\n",
              "  <div class=\"colab-df-container\">\n",
              "    <button class=\"colab-df-convert\" onclick=\"convertToInteractive('df-20f5e55b-8726-407c-8ae4-01ef2f804b56')\"\n",
              "            title=\"Convert this dataframe to an interactive table.\"\n",
              "            style=\"display:none;\">\n",
              "\n",
              "  <svg xmlns=\"http://www.w3.org/2000/svg\" height=\"24px\" viewBox=\"0 -960 960 960\">\n",
              "    <path d=\"M120-120v-720h720v720H120Zm60-500h600v-160H180v160Zm220 220h160v-160H400v160Zm0 220h160v-160H400v160ZM180-400h160v-160H180v160Zm440 0h160v-160H620v160ZM180-180h160v-160H180v160Zm440 0h160v-160H620v160Z\"/>\n",
              "  </svg>\n",
              "    </button>\n",
              "\n",
              "  <style>\n",
              "    .colab-df-container {\n",
              "      display:flex;\n",
              "      gap: 12px;\n",
              "    }\n",
              "\n",
              "    .colab-df-convert {\n",
              "      background-color: #E8F0FE;\n",
              "      border: none;\n",
              "      border-radius: 50%;\n",
              "      cursor: pointer;\n",
              "      display: none;\n",
              "      fill: #1967D2;\n",
              "      height: 32px;\n",
              "      padding: 0 0 0 0;\n",
              "      width: 32px;\n",
              "    }\n",
              "\n",
              "    .colab-df-convert:hover {\n",
              "      background-color: #E2EBFA;\n",
              "      box-shadow: 0px 1px 2px rgba(60, 64, 67, 0.3), 0px 1px 3px 1px rgba(60, 64, 67, 0.15);\n",
              "      fill: #174EA6;\n",
              "    }\n",
              "\n",
              "    .colab-df-buttons div {\n",
              "      margin-bottom: 4px;\n",
              "    }\n",
              "\n",
              "    [theme=dark] .colab-df-convert {\n",
              "      background-color: #3B4455;\n",
              "      fill: #D2E3FC;\n",
              "    }\n",
              "\n",
              "    [theme=dark] .colab-df-convert:hover {\n",
              "      background-color: #434B5C;\n",
              "      box-shadow: 0px 1px 3px 1px rgba(0, 0, 0, 0.15);\n",
              "      filter: drop-shadow(0px 1px 2px rgba(0, 0, 0, 0.3));\n",
              "      fill: #FFFFFF;\n",
              "    }\n",
              "  </style>\n",
              "\n",
              "    <script>\n",
              "      const buttonEl =\n",
              "        document.querySelector('#df-20f5e55b-8726-407c-8ae4-01ef2f804b56 button.colab-df-convert');\n",
              "      buttonEl.style.display =\n",
              "        google.colab.kernel.accessAllowed ? 'block' : 'none';\n",
              "\n",
              "      async function convertToInteractive(key) {\n",
              "        const element = document.querySelector('#df-20f5e55b-8726-407c-8ae4-01ef2f804b56');\n",
              "        const dataTable =\n",
              "          await google.colab.kernel.invokeFunction('convertToInteractive',\n",
              "                                                    [key], {});\n",
              "        if (!dataTable) return;\n",
              "\n",
              "        const docLinkHtml = 'Like what you see? Visit the ' +\n",
              "          '<a target=\"_blank\" href=https://colab.research.google.com/notebooks/data_table.ipynb>data table notebook</a>'\n",
              "          + ' to learn more about interactive tables.';\n",
              "        element.innerHTML = '';\n",
              "        dataTable['output_type'] = 'display_data';\n",
              "        await google.colab.output.renderOutput(dataTable, element);\n",
              "        const docLink = document.createElement('div');\n",
              "        docLink.innerHTML = docLinkHtml;\n",
              "        element.appendChild(docLink);\n",
              "      }\n",
              "    </script>\n",
              "  </div>\n",
              "\n",
              "\n",
              "<div id=\"df-3dfc8513-a6f4-4b76-8c64-92b01ea1e3ff\">\n",
              "  <button class=\"colab-df-quickchart\" onclick=\"quickchart('df-3dfc8513-a6f4-4b76-8c64-92b01ea1e3ff')\"\n",
              "            title=\"Suggest charts\"\n",
              "            style=\"display:none;\">\n",
              "\n",
              "<svg xmlns=\"http://www.w3.org/2000/svg\" height=\"24px\"viewBox=\"0 0 24 24\"\n",
              "     width=\"24px\">\n",
              "    <g>\n",
              "        <path d=\"M19 3H5c-1.1 0-2 .9-2 2v14c0 1.1.9 2 2 2h14c1.1 0 2-.9 2-2V5c0-1.1-.9-2-2-2zM9 17H7v-7h2v7zm4 0h-2V7h2v10zm4 0h-2v-4h2v4z\"/>\n",
              "    </g>\n",
              "</svg>\n",
              "  </button>\n",
              "\n",
              "<style>\n",
              "  .colab-df-quickchart {\n",
              "      --bg-color: #E8F0FE;\n",
              "      --fill-color: #1967D2;\n",
              "      --hover-bg-color: #E2EBFA;\n",
              "      --hover-fill-color: #174EA6;\n",
              "      --disabled-fill-color: #AAA;\n",
              "      --disabled-bg-color: #DDD;\n",
              "  }\n",
              "\n",
              "  [theme=dark] .colab-df-quickchart {\n",
              "      --bg-color: #3B4455;\n",
              "      --fill-color: #D2E3FC;\n",
              "      --hover-bg-color: #434B5C;\n",
              "      --hover-fill-color: #FFFFFF;\n",
              "      --disabled-bg-color: #3B4455;\n",
              "      --disabled-fill-color: #666;\n",
              "  }\n",
              "\n",
              "  .colab-df-quickchart {\n",
              "    background-color: var(--bg-color);\n",
              "    border: none;\n",
              "    border-radius: 50%;\n",
              "    cursor: pointer;\n",
              "    display: none;\n",
              "    fill: var(--fill-color);\n",
              "    height: 32px;\n",
              "    padding: 0;\n",
              "    width: 32px;\n",
              "  }\n",
              "\n",
              "  .colab-df-quickchart:hover {\n",
              "    background-color: var(--hover-bg-color);\n",
              "    box-shadow: 0 1px 2px rgba(60, 64, 67, 0.3), 0 1px 3px 1px rgba(60, 64, 67, 0.15);\n",
              "    fill: var(--button-hover-fill-color);\n",
              "  }\n",
              "\n",
              "  .colab-df-quickchart-complete:disabled,\n",
              "  .colab-df-quickchart-complete:disabled:hover {\n",
              "    background-color: var(--disabled-bg-color);\n",
              "    fill: var(--disabled-fill-color);\n",
              "    box-shadow: none;\n",
              "  }\n",
              "\n",
              "  .colab-df-spinner {\n",
              "    border: 2px solid var(--fill-color);\n",
              "    border-color: transparent;\n",
              "    border-bottom-color: var(--fill-color);\n",
              "    animation:\n",
              "      spin 1s steps(1) infinite;\n",
              "  }\n",
              "\n",
              "  @keyframes spin {\n",
              "    0% {\n",
              "      border-color: transparent;\n",
              "      border-bottom-color: var(--fill-color);\n",
              "      border-left-color: var(--fill-color);\n",
              "    }\n",
              "    20% {\n",
              "      border-color: transparent;\n",
              "      border-left-color: var(--fill-color);\n",
              "      border-top-color: var(--fill-color);\n",
              "    }\n",
              "    30% {\n",
              "      border-color: transparent;\n",
              "      border-left-color: var(--fill-color);\n",
              "      border-top-color: var(--fill-color);\n",
              "      border-right-color: var(--fill-color);\n",
              "    }\n",
              "    40% {\n",
              "      border-color: transparent;\n",
              "      border-right-color: var(--fill-color);\n",
              "      border-top-color: var(--fill-color);\n",
              "    }\n",
              "    60% {\n",
              "      border-color: transparent;\n",
              "      border-right-color: var(--fill-color);\n",
              "    }\n",
              "    80% {\n",
              "      border-color: transparent;\n",
              "      border-right-color: var(--fill-color);\n",
              "      border-bottom-color: var(--fill-color);\n",
              "    }\n",
              "    90% {\n",
              "      border-color: transparent;\n",
              "      border-bottom-color: var(--fill-color);\n",
              "    }\n",
              "  }\n",
              "</style>\n",
              "\n",
              "  <script>\n",
              "    async function quickchart(key) {\n",
              "      const quickchartButtonEl =\n",
              "        document.querySelector('#' + key + ' button');\n",
              "      quickchartButtonEl.disabled = true;  // To prevent multiple clicks.\n",
              "      quickchartButtonEl.classList.add('colab-df-spinner');\n",
              "      try {\n",
              "        const charts = await google.colab.kernel.invokeFunction(\n",
              "            'suggestCharts', [key], {});\n",
              "      } catch (error) {\n",
              "        console.error('Error during call to suggestCharts:', error);\n",
              "      }\n",
              "      quickchartButtonEl.classList.remove('colab-df-spinner');\n",
              "      quickchartButtonEl.classList.add('colab-df-quickchart-complete');\n",
              "    }\n",
              "    (() => {\n",
              "      let quickchartButtonEl =\n",
              "        document.querySelector('#df-3dfc8513-a6f4-4b76-8c64-92b01ea1e3ff button');\n",
              "      quickchartButtonEl.style.display =\n",
              "        google.colab.kernel.accessAllowed ? 'block' : 'none';\n",
              "    })();\n",
              "  </script>\n",
              "</div>\n",
              "\n",
              "    </div>\n",
              "  </div>\n"
            ],
            "application/vnd.google.colaboratory.intrinsic+json": {
              "type": "dataframe",
              "summary": "{\n  \"name\": \"obb\",\n  \"rows\": 1502,\n  \"fields\": [\n    {\n      \"column\": \"date\",\n      \"properties\": {\n        \"dtype\": \"date\",\n        \"min\": \"1995-03-21\",\n        \"max\": \"2024-01-02\",\n        \"num_unique_values\": 1502,\n        \"samples\": [\n          \"2016-08-30\",\n          \"2007-07-24\",\n          \"2003-04-29\"\n        ],\n        \"semantic_type\": \"\",\n        \"description\": \"\"\n      }\n    },\n    {\n      \"column\": \"open_interest\",\n      \"properties\": {\n        \"dtype\": \"number\",\n        \"std\": 1020616.1127542574,\n        \"min\": 15488.0,\n        \"max\": 4423693.0,\n        \"num_unique_values\": 1501,\n        \"samples\": [\n          1131325.0,\n          1061438.0,\n          116512.0\n        ],\n        \"semantic_type\": \"\",\n        \"description\": \"\"\n      }\n    },\n    {\n      \"column\": \"noncommercial_long\",\n      \"properties\": {\n        \"dtype\": \"number\",\n        \"std\": 203783.4893602433,\n        \"min\": 0.0,\n        \"max\": 1170649.0,\n        \"num_unique_values\": 1477,\n        \"samples\": [\n          1119945.0,\n          95091.0,\n          422791.0\n        ],\n        \"semantic_type\": \"\",\n        \"description\": \"\"\n      }\n    },\n    {\n      \"column\": \"noncommercial_short\",\n      \"properties\": {\n        \"dtype\": \"number\",\n        \"std\": 336961.23359127657,\n        \"min\": 0.0,\n        \"max\": 1894760.0,\n        \"num_unique_values\": 1461,\n        \"samples\": [\n          204422.0,\n          372188.0,\n          11918.0\n        ],\n        \"semantic_type\": \"\",\n        \"description\": \"\"\n      }\n    },\n    {\n      \"column\": \"noncommercial_spreads\",\n      \"properties\": {\n        \"dtype\": \"number\",\n        \"std\": 53826.04689156695,\n        \"min\": 0.0,\n        \"max\": 425003.0,\n        \"num_unique_values\": 1285,\n        \"samples\": [\n          55569.0,\n          47520.0,\n          54432.0\n        ],\n        \"semantic_type\": \"\",\n        \"description\": \"\"\n      }\n    },\n    {\n      \"column\": \"commercial_long\",\n      \"properties\": {\n        \"dtype\": \"number\",\n        \"std\": 745192.559827682,\n        \"min\": 7457.0,\n        \"max\": 3489573.0,\n        \"num_unique_values\": 1500,\n        \"samples\": [\n          661904.0,\n          1509980.0,\n          73932.0\n        ],\n        \"semantic_type\": \"\",\n        \"description\": \"\"\n      }\n    },\n    {\n      \"column\": \"commercial_short\",\n      \"properties\": {\n        \"dtype\": \"number\",\n        \"std\": 617705.4316154197,\n        \"min\": 7973.0,\n        \"max\": 2688495.0,\n        \"num_unique_values\": 1500,\n        \"samples\": [\n          691429.0,\n          1323694.0,\n          77348.0\n        ],\n        \"semantic_type\": \"\",\n        \"description\": \"\"\n      }\n    },\n    {\n      \"column\": \"total_long\",\n      \"properties\": {\n        \"dtype\": \"number\",\n        \"std\": 960662.9713672535,\n        \"min\": 10403.0,\n        \"max\": 4238239.0,\n        \"num_unique_values\": 1500,\n        \"samples\": [\n          1014669.0,\n          1912929.0,\n          101796.0\n        ],\n        \"semantic_type\": \"\",\n        \"description\": \"\"\n      }\n    },\n    {\n      \"column\": \"total_short\",\n      \"properties\": {\n        \"dtype\": \"number\",\n        \"std\": 977598.5163710341,\n        \"min\": 8534.0,\n        \"max\": 4304252.0,\n        \"num_unique_values\": 1500,\n        \"samples\": [\n          979661.0,\n          1917769.0,\n          96234.0\n        ],\n        \"semantic_type\": \"\",\n        \"description\": \"\"\n      }\n    },\n    {\n      \"column\": \"nonreportable_positions_long\",\n      \"properties\": {\n        \"dtype\": \"number\",\n        \"std\": 67040.36339805277,\n        \"min\": 2952.0,\n        \"max\": 326845.0,\n        \"num_unique_values\": 1486,\n        \"samples\": [\n          169896.0,\n          108571.0,\n          17173.0\n        ],\n        \"semantic_type\": \"\",\n        \"description\": \"\"\n      }\n    },\n    {\n      \"column\": \"nonreportable_positions_short\",\n      \"properties\": {\n        \"dtype\": \"number\",\n        \"std\": 62669.722893103084,\n        \"min\": 1428.0,\n        \"max\": 293881.0,\n        \"num_unique_values\": 1494,\n        \"samples\": [\n          112653.0,\n          81929.0,\n          98468.0\n        ],\n        \"semantic_type\": \"\",\n        \"description\": \"\"\n      }\n    }\n  ]\n}"
            }
          },
          "metadata": {},
          "execution_count": 38
        }
      ]
    },
    {
      "cell_type": "code",
      "source": [],
      "metadata": {
        "id": "BRD2CzNizogI"
      },
      "execution_count": null,
      "outputs": []
    }
  ]
}