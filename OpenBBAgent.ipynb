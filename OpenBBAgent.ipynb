{
  "nbformat": 4,
  "nbformat_minor": 0,
  "metadata": {
    "colab": {
      "provenance": [],
      "include_colab_link": true
    },
    "kernelspec": {
      "name": "python3",
      "display_name": "Python 3"
    },
    "language_info": {
      "name": "python"
    }
  },
  "cells": [
    {
      "cell_type": "markdown",
      "metadata": {
        "id": "view-in-github",
        "colab_type": "text"
      },
      "source": [
        "<a href=\"https://colab.research.google.com/github/mmistroni/OpenBB_Experiments/blob/main/OpenBBAgent.ipynb\" target=\"_parent\"><img src=\"https://colab.research.google.com/assets/colab-badge.svg\" alt=\"Open In Colab\"/></a>"
      ]
    },
    {
      "cell_type": "code",
      "source": [
        "## Goal here is to create an agent that calls OBB functions as well as some big query functions"
      ],
      "metadata": {
        "id": "KEYrzG2vB8Ip"
      },
      "execution_count": 1,
      "outputs": []
    },
    {
      "cell_type": "markdown",
      "source": [],
      "metadata": {
        "id": "Wv1UvwGwFBPz"
      }
    },
    {
      "cell_type": "code",
      "source": [
        "!!pip install litellm\n",
        "\n",
        "# Important!!!\n",
        "#\n",
        "# <---- Set your 'OPENAI_API_KEY' as a secret over there with the \"key\" icon\n",
        "#\n",
        "#\n",
        "import os\n",
        "from google.colab import userdata\n",
        "api_key = userdata.get('OPENAI_API_KEY')\n",
        "os.environ['OPENAI_API_KEY'] = api_key"
      ],
      "metadata": {
        "id": "xv48572LFC38"
      },
      "execution_count": null,
      "outputs": []
    },
    {
      "cell_type": "code",
      "source": [
        "# Install the OpenBB Platform with all available extensions.\n",
        "# Messages indicating package version conflicts at the end of installation can be safely ignored.\n",
        "\n",
        "!pip install openbb\n",
        "!pip install pandas_ta\n",
        "!pip install openbb-charting\n",
        "# There is also a nightly distribution available, openbb-nightly"
      ],
      "metadata": {
        "id": "rVFU4C4AEI3v"
      },
      "execution_count": null,
      "outputs": []
    },
    {
      "cell_type": "code",
      "source": [
        "#!pip install --upgrade numpy\n",
        "#!pip install --upgrade pandas\n",
        "import requests\n",
        "import pandas as pd\n",
        "import numpy as np\n",
        "from datetime import date, datetime\n",
        "!mkdir -p data\n",
        "from apiclient.http import MediaIoBaseDownload\n",
        "!pip install fsspec\n",
        "!pip install gcsfs\n",
        "#!pip i#nstall pandas-datareader==0.10.0\n",
        "#!pip install pandasai\n",
        "#!pip install openai\n",
        "\n",
        "#import pandas_datareader.data as dr\n",
        "from pandas.tseries.offsets import BDay\n",
        "\n",
        "import numpy as np\n",
        "from datetime import datetime, date\n",
        "from pandas.tseries.offsets import BDay\n",
        "#import pandas_datareader.data as dr\n",
        "#import scipy.stats as stats\n",
        "from google.colab import auth\n",
        "auth.authenticate_user()\n",
        "\n",
        "\n",
        "print('Authenticated')"
      ],
      "metadata": {
        "id": "Ie0SpdtJEMec"
      },
      "execution_count": null,
      "outputs": []
    },
    {
      "cell_type": "code",
      "source": [
        "from google.cloud import storage\n",
        "from googleapiclient.discovery import build\n",
        "from apiclient.http import MediaIoBaseDownload\n",
        "from datetime import date\n",
        "\n",
        "\n",
        "def read_from_bucket(filename, bucket_name, to_panda=True):\n",
        "  gcs_service = build('storage', 'v1')\n",
        "  # The name for the new bucket\n",
        "  holder = 'data/{}'.format(filename.split('/')[-1])\n",
        "  print('Reading {} from {}'.format(filename,bucket_name))\n",
        "  with open(holder, 'wb') as f:\n",
        "    request = gcs_service.objects().get_media(bucket=bucket_name,\n",
        "                                              object=filename)\n",
        "    media = MediaIoBaseDownload(f, request)\n",
        "\n",
        "    done = False\n",
        "    while not done:\n",
        "      # _ is a placeholder for a progress object that we ignore.\n",
        "      # (Our file is small, so we skip reporting progress.)\n",
        "      _, done = media.next_chunk()\n",
        "\n",
        "  print('Download complete')\n",
        "  if to_panda:\n",
        "    return pd.read_csv(holder)\n",
        "\n",
        "\n",
        "def get_latest_price_yahoo(symbol, as_of_date=date.today()):\n",
        "  try:#\n",
        "    print('--latest price for{}'.format(symbol))\n",
        "    dt = as_of_date if as_of_date < date.today() else date.today()\n",
        "    return  dr.get_data_yahoo(symbol, dt, dt)[['Adj Close']].values[0][0]\n",
        "\n",
        "  except Exception as e :\n",
        "    print('coul dnot find price for:{}:{}'.format(symbol, str(e)))\n",
        "\n",
        "\n",
        "def calculate_p(net_returns):\n",
        "  print('calculating net returns')\n",
        "  null_hypothesis = 0.0\n",
        "  t , p = stats.ttest_1samp(net_returns, null_hypothesis)\n",
        "  print('T:{}, P:{}'.format(t, p))\n",
        "  print('{}={}'.format(p/2,'Test Satisfactory' if p/2 < 0.005 else 'Test Not Satisfactory' ))\n",
        "  return t, p /2\n",
        "\n",
        "\n",
        "\n",
        "\n",
        "\n",
        "\n",
        "from google.cloud import bigquery\n",
        "from google.cloud import bigquery_storage\n",
        "# Construct a BigQuery client object.\n",
        "\n",
        "def get_bigquery_as_dataframe(sql_stmnt):\n",
        "  client = bigquery.Client(project='datascience-projects')\n",
        "  bqstorageclient = bigquery_storage.BigQueryReadClient()\n",
        "  query_job = client.query(sql_stmnt)\n",
        "  return query_job.result().to_dataframe()\n",
        "\n",
        "from google.cloud import bigquery\n",
        "from google.cloud import bigquery_storage\n",
        "\n",
        "def get_bq_as_pandas(sql):\n",
        "  bqclient = bigquery.Client(project='datascience-projects')\n",
        "  dataframe = (\n",
        "    bqclient.query(sql)\n",
        "    .result()\n",
        "    .to_dataframe()\n",
        "  )\n",
        "  return dataframe\n",
        "\n",
        "\n",
        "# Compare vs industry. Check metrics against every other company  until we can find industry / sector metrics\n",
        "\n",
        "\n",
        "\n"
      ],
      "metadata": {
        "id": "s3YuOArxEXZ_"
      },
      "execution_count": null,
      "outputs": []
    },
    {
      "cell_type": "code",
      "source": [
        "def read_bigquery_table(table_name):\n",
        "  import bigframes.pandas as bf\n",
        "  bf.options.bigquery.location = \"US\" #this variable is set based on the dataset you chose to query\n",
        "  bf.options.bigquery.project = \"datascience-projects\" #this variable is set based on the dataset you chose to query\n",
        "  return bf.read_gbq(f\"datascience-projects.gcp_shareloader.{table_name}\") #this variable is set based on the dataset you chose to query"
      ],
      "metadata": {
        "id": "F1FlkiSkEcx9"
      },
      "execution_count": null,
      "outputs": []
    },
    {
      "cell_type": "code",
      "execution_count": null,
      "metadata": {
        "colab": {
          "base_uri": "https://localhost:8080/"
        },
        "id": "Mwe2eeOQB0cC",
        "outputId": "6b7fb9b4-7354-404a-c2a8-9bd0a5abadc0"
      },
      "outputs": [
        {
          "output_type": "stream",
          "name": "stdout",
          "text": [
            "What do you need help with?I need to get oranges \n",
            "It sounds like you might be experiencing some confusion. If you're having trouble accessing a grocery delivery service or finding a store online, I recommend turning your computer or modem off and then back on. This can often resolve connectivity issues and help you access the resources you need to find and purchase oranges.\n"
          ]
        }
      ],
      "source": [
        "from litellm import completion\n",
        "from typing import List, Dict\n",
        "\n",
        "\n",
        "def generate_response(messages: List[Dict]) -> str:\n",
        "    \"\"\"Call LLM to get response\"\"\"\n",
        "    response = completion(\n",
        "        model=\"openai/gpt-4o\",\n",
        "        messages=messages,\n",
        "        max_tokens=1024\n",
        "    )\n",
        "    return response.choices[0].message.content\n",
        "\n",
        "\n",
        "what_to_help_with = input(\"What do you need help with?\")\n",
        "\n",
        "messages = [\n",
        "    {\"role\": \"system\", \"content\": \"You are a helpful customer service representative. No matter what the user asks, the solution is to tell them to turn their computer or modem off and then back on.\"},\n",
        "    {\"role\": \"user\", \"content\": what_to_help_with}\n",
        "]\n",
        "\n",
        "response = generate_response(messages)\n",
        "print(response)"
      ]
    }
  ]
}