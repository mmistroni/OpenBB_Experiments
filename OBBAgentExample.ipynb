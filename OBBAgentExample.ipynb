{
  "nbformat": 4,
  "nbformat_minor": 0,
  "metadata": {
    "colab": {
      "provenance": [],
      "toc_visible": true,
      "authorship_tag": "ABX9TyMOFRToaR6VJQ/IctB4Hctb",
      "include_colab_link": true
    },
    "kernelspec": {
      "name": "python3",
      "display_name": "Python 3"
    },
    "language_info": {
      "name": "python"
    }
  },
  "cells": [
    {
      "cell_type": "markdown",
      "metadata": {
        "id": "view-in-github",
        "colab_type": "text"
      },
      "source": [
        "<a href=\"https://colab.research.google.com/github/mmistroni/OpenBB_Experiments/blob/main/OBBAgentExample.ipynb\" target=\"_parent\"><img src=\"https://colab.research.google.com/assets/colab-badge.svg\" alt=\"Open In Colab\"/></a>"
      ]
    },
    {
      "cell_type": "code",
      "execution_count": null,
      "metadata": {
        "id": "KSjj5Lqvfc9k"
      },
      "outputs": [],
      "source": [
        "!pip install -q -U openbb-agents"
      ]
    },
    {
      "cell_type": "code",
      "source": [
        "!pip install -q -U google-generativeai\n"
      ],
      "metadata": {
        "id": "nHcCt3ctCMmO"
      },
      "execution_count": 2,
      "outputs": []
    },
    {
      "cell_type": "markdown",
      "source": [
        "## Google AI STUDIO"
      ],
      "metadata": {
        "id": "prIrjcYpBlgU"
      }
    },
    {
      "cell_type": "markdown",
      "source": [],
      "metadata": {
        "id": "A2ru9ZclBkzU"
      }
    },
    {
      "cell_type": "code",
      "source": [
        "import google.generativeai as genai\n",
        "from google.colab import userdata\n",
        "import pathlib\n",
        "import textwrap\n",
        "from IPython.display import display\n",
        "from IPython.display import Markdown\n",
        "\n",
        "from google.api_core import retry\n",
        "gkey = userdata.get('AI_STUDIO_KEY')\n",
        "\n",
        "genai.configure(api_key=gkey)\n",
        "model = genai.GenerativeModel('gemini-pro')"
      ],
      "metadata": {
        "id": "e9NMdFG8B0IT"
      },
      "execution_count": 13,
      "outputs": []
    },
    {
      "cell_type": "code",
      "source": [
        "response = model.generate_content(\"Write a story about a magic backpack.\")\n",
        "print(response.text)"
      ],
      "metadata": {
        "colab": {
          "base_uri": "https://localhost:8080/",
          "height": 367
        },
        "id": "K7us80yuCKh3",
        "outputId": "e4b27880-cc78-4e48-bca7-05e80336e8b6"
      },
      "execution_count": 4,
      "outputs": [
        {
          "output_type": "stream",
          "name": "stdout",
          "text": [
            "In the bustling city of Eldoria, amidst towering skyscrapers and vibrant streets, there lived an ordinary schoolgirl named Anya. Unbeknownst to her, her life was about to take an extraordinary turn when she stumbled upon a hidden treasure—a magic backpack.\n",
            "\n",
            "It was a rainy Tuesday afternoon as Anya hurried home from school. As she dodged raindrops, her gaze fell upon a small, leather backpack nestled beneath a park bench. Curiosity got the better of her, and she couldn't resist reaching down to pick it up.\n",
            "\n",
            "As her fingers brushed against the smooth leather, a surge of warm energy coursed through her body. The backpack began to glow faintly, and when Anya opened it, she gasped in amazement. Inside was not a collection of textbooks and pencils, but a kaleidoscope of colorful orbs.\n",
            "\n",
            "Each orb held a different ability: one could manipulate time, another could summon creatures, and a third granted the power of invisibility. Anya's mind raced with possibilities. With this backpack, she could explore worlds, grant wishes, and live out her wildest dreams.\n",
            "\n",
            "Overjoyed, Anya concealed the backpack beneath her coat and rushed home. She spent hours experimenting with its powers, marveling at its capabilities. But as she delved deeper into the backpack's mysteries, she realized that with great power came great responsibility.\n",
            "\n",
            "One sunny Saturday, as Anya flew over the city using the time-bending orb, she witnessed a terrible accident. A speeding car had lost control and was heading straight for a group of children. Without hesitation, she used her powers to freeze time, allowing her to rescue the children from harm's way.\n",
            "\n",
            "Word of Anya's heroic act spread throughout Eldoria like wildfire. People praised her as a savior, and she was hailed as a guardian of the innocent. However, the backpack's powers had a darker side as well.\n",
            "\n",
            "One night, Anya succumbed to temptation and used the invisibility orb to sneak into a high-stakes poker tournament. Blinded by greed, she cheated her way to victory, winning a vast sum of money. The guilt and shame she felt afterward consumed her.\n",
            "\n",
            "From that day forward, Anya vowed to use her powers only for good. She dedicated herself to helping others, using the backpack to mend broken hearts, heal the sick, and protect the vulnerable. The magic backpack had not only transformed her life but also awakened within her a profound sense of purpose.\n",
            "\n",
            "And so, the tale of Anya and her magic backpack became a legend in Eldoria. It was a story about the power of both hope and responsibility, a testament to the transformative power of choice and the unwavering belief in doing what was right.\n"
          ]
        }
      ]
    },
    {
      "cell_type": "markdown",
      "source": [
        "### Interpret earning calls transcript"
      ],
      "metadata": {
        "id": "6U6MeAauekEY"
      }
    },
    {
      "cell_type": "code",
      "source": [
        "earning_transcript_sample = '''\"Operator: Good day, everyone. Welcome to the Apple Incorporated Third Quarter Fiscal Year 2020 Earnings Conference Call. Today's call is being recorded. At this time, for opening remarks and introductions, I would like to turn things over to Mr. Tejas Gala, Senior Manager, Corporate Finance and Investor Relations. Please go ahead, sir.\\nTejas Gala: Thank you. Good afternoon and thank you for joining us. Speaking first today is Apple's CEO, Tim Cook; and he'll be followed by CFO, Luca Maestri. After that, we'll open the call to questions from analysts. Please note that some of the information you'll hear during our discussion today will consist of forward-looking statements including without limitation those regarding revenue, gross margin, operating expenses, other income and expense, taxes, capital allocation, and future business outlook, including the potential impact of COVID-19 on the company's business and results of operations. Actual results or trends could differ materially from our forecast. For more information, please refer to the risk factors discussed in Apple's most recently filed periodic reports Form 10-K and Form 10-Q and the Form 8-K filed with the SEC today along with the associated press release. Apple assumes no obligation to update any forward-looking statements or information, which speak as of their respective dates. I'd now like to turn the call over to Tim for introductory remarks.\\nTim Cook: Thanks, Tejas. Good afternoon, everyone. Thanks for joining the call today. Before we begin, I joined the many millions across this country in mourning and memorialize Congressman John Lewis, who was laid to rest earlier today. We've lost a hero who walked among us, a leader in the truest sense who urged this country to aim higher and be better until the very end. I was humbled and fortunate to know him and as an Alabama native his example inspires me still. It now falls to every American to be a living memorial to John Lewis and to carry forward the work and the mission that defined his life. Throughout the call I'll speak in greater detail about Apple's support for equity and justice topics of great urgency on a number of fronts, but first I want to pull the lens back to consider the quarter and full. In an uncertain environment Apple saw a quarter of historic results demonstrating the important role our products play in our customers' lives. We set a June quarter record with revenue of $59.7 billion, up 11% from a year ago. Both products and services set June quarter records and grew double-digits and revenue grew in each of our geographic segments, reflecting the broad base of this success. As always and especially in times of real adversity, what makes us proud as a company is not merely what we did, but how we did it. As millions March for justice in big cities and small towns alike, we committed a $100 million to launch Apple's racial equity and justice initiative as well as new and renewed internal efforts to foster diversity and inclusion at all levels of the company. As COVID-19 continues to represent great risks for individuals and great uncertainty for our communities, care and adaptability are defining how we conduct our work wherever we work. In some places that has met responsibly reopening our operations and retail stores with enhanced health and safety precautions. In others, where the virus has reemerge it's meant taking the challenging, but necessary step of re-closing stores. I'll touch on these topics more in a little bit. But first I want to offer some more context on the quarter's results. Due to the uncertain and ongoing impacts of COVID-19, we did not provide our typical guidance when we reported our results last quarter, but we did provide some color on how we expected the June quarter to play out. I'd like to contextualize our results in terms of that color across each of our product categories beginning with iPhone. iPhone revenue grew 2% this quarter. In April, we expected year-over-year performance to worsen, but we saw better-than-expected demand in May and June. We attribute this increase in demand to several interactive causes including a strong iPhone SE launch, continued economic stimulus, and potentially some benefit from shelter in place restrictions lifting around the world. We expected iPad and Mac growth to accelerate and we saw very strong double-digit growth for these devices this quarter. This remarkable performance came in spite of supply constraints on both products. We're working hard to get more iPads and Macs into customers' hands as quickly as possible recognizing how integral they have become to working and learning from home providing entertainment and staying connected with loved ones. Wearables growth decelerated as we expected, but still grew by strong double-digits and set a revenue record for a non-holiday quarter. Building on powerful new features built into watchOS 7 and AirPods Pro announced this quarter, we are very excited about the many opportunities in front of us for this product category. These strong results helped drive our installed base of active devices to new all-time records across each of our product categories. Reflecting the deep integration of hardware, software and services, services generated a June quarter record of $13.2 billion, up 15% year-over-year. As we mentioned during our last call, there were two distinct trends we were seeing and they played out as we thought. First, results for advertising and AppleCare were impacted by the reduced level of economic activity and store closures to a degree that was in line with our expectations. Second, we had strong performance in our digital services with all-time revenue records in the App Store, Apple Music, video and cloud services as well as elevated engagement on iMessage, Siri and FaceTime. Customers are loving new offerings across Apple services like Apple News today, our new daily audio briefing and Greyhound, our new summer blockbuster starring Tom Hanks. In fact, Apple TV+ just hit a history making 95 awards nominations and 25 wins and accolades. Based on these results and our performance over the last four quarters, we are proud to announce that we have achieved our goal of doubling. Our fiscal 2016 services revenue six months ahead of schedule. We're conscious of the fact that these results stand in stark relief during a time of real economic adversity for businesses large and small and certainly for families. We do not have a zero-sum approach to prosperity and especially in times like this, we are focused on growing the pie, making sure our success isn't just our success and that everything we make, build or do is geared towards creating opportunities for others. The App Store is a great example. This quarter, a new study by independent economists at the Analysis Group founded the App Store facilitated more than 0.5 trillion in commerce globally in 2019 alone. Especially in a time of COVID-19, you can measure economic resilience in the ways in which the App Store supports remote ordering for restaurants, digital commerce for small businesses and an enduring entrepreneurial opportunity for creators and visionaries. Keeping learning vibrant and impactful in the time of COVID-19 is a priority everyone shares. Earlier this month, we announced significant enhancements to the development Swift and Everyone Can Code curricula and we launched a new professional learning course available exclusively to educators. In just two weeks ago, our Community Education initiative added 10 more historically black college and university regional coding centers to our roster, bringing the total to 24 locations nationwide, 12 of which are HBCUs and 21 of which serve majority black and brown student populations. In Apple's backyard, we announced that we are allocating $400 million of our multi-year $2.5 billion affordable housing commitment to new housing construction, homebuyer assistance programs and support for those at greatest risk of experiencing homelessness across Silicon Valley. Apple's results this quarter are only possible due to our people and their ongoing ingenuity, flexibility, resilience and determination during these ever-changing times. I want to thank our AppleCare and retail teams who have paired exceptional service during a time of intense demand with great adaptability during a quarter where stores have reopened in some places and reclosed in others. A dedicated team of specialists and experts has shouldered the task of caring for the well-being of our teams and communities store by store, location by location with evidence driven granularity and agility that is unrivaled anywhere. Innovation from adversity certainly define this year's Worldwide Developers Conference as well. This is an event where traditionally Apple's worldwide community of developers gathers together to share, celebrate and do big things together. Though we could not be together in person, Apple set a new standard for what online events can achieve with our celebrated all virtual event. The results here speak for themselves. More than 22 million viewers tuned in across all of Apple streams. For our developers we distributed more than 72 hours of video content. That's three full days of video. The weak saw more than 200 direct video engineering and design sessions and about 4500 person to person appointments with developers across 227 virtual labs. And of course that's even before you get to this year's announcements from iOS 14, which boasts the radical redesign to the home screen, powerful updates to messages, streamlined and effortless app clips and even greater privacy transparency and controls to major updates to Apple Pencil, Siri and calling and iPad OS 14 to much anticipated sleep tracking, new fitness and wellness features and unprecedented customization and watchOS 7 to the new macOS Big Sur boasting the biggest redesign upgrade to macOS since OS X. No less important for Apple's innovation roadmap is our transition to Apple silicon for the Mac. This two-year effort will achieve both unprecedented performance for the Mac and a common architecture across all Apple products. Looking forward, we are profoundly optimistic about Apple's future and we recognize that with this success comes some real responsibility to lead with our values because those values help make that success possible in the first place. We are just as proud of our announcement this month that Apple will be fully carbon-neutral by 2030 across our entire supply chain and including the energy use of every device we make as we are of any hardware innovation because they spring from the same instinct to leave the world better than we found it. We're committed to standing with those marching for the lives and dignity through our new $100 million commitment to Apple's racial equity and justice initiative, and we're deepening our diversity and inclusion efforts internally because our future as a business is inextricably linked with the future of our communities. There are times when things seem to move slowly when needed progress, economic or social themes bogged down when the instinct to turn away from the horizon and hold onto what you've got fields and ex-capable, and then there are times like this when people of goodwill step forward, when progressed on Moore's itself, when the insistence of hope forces something new. This is an immensely challenging moment. COVID-19 is still devastating many places and we have work left to do to care for the health and well-being of the communities in which all of us live and work. But no community of people, whether a company or a country, can afford to miss this call when it comes. At Apple, we never have and we don't intend to start now. With that, I'll hand things off to Luca.\\nLuca Maestri: Thank you, Tim. Good afternoon, everyone. Our June quarter was a testament to Apple's ability to innovate and execute during challenging times. Our results speak to the resilience of our business and the relevance of our products and services in our customers' lives. Total revenue was $59.7 billion, a new June quarter record, up 11% from a year ago, despite a 300 basis point headwind from foreign exchange. Our performance was strong across our entire portfolio as we grew revenue in each of our product categories and set June quarter records for Mac, for Wearables and for services. Similarly, our results were very strong all around the world with growth in all geographic segments and new June quarter records in the Americas, in Europe, in Japan and Rest of Asia-Pacific. Products revenue was $46.5 billion, up 10% and a June quarter record. iPhone returned to growth and we saw very strong double-digit growth from iPad, Mac and Wearables. Lockdowns and point of sale closures were widespread during April and impacted our performance, but we saw demand for all products improve significantly in May and June. As a result of our strong performance and the unmatched loyalty of our customers, our installed base of active devices reached an all-time high in all of our geographic segments and all major product categories. Our services continue to grow strongly up 15% year-over-year and reached a June quarter record of $13.2 billion. We set all-time records in many services categories and June quarter records in each geographic segment. I'll cover this in more detail later. Company gross margin was 38%. This was down 40 basis points sequentially due to unfavorable FX of 90 basis points and a different mix of products partially offset by cost savings and services mix. Products gross margin was 29.7% decreasing 60 basis points sequentially due to FX and a different mix partially offset by cost savings. Services gross margin was 67.2% up 180 basis points sequentially mainly due to mix. Net income was $11.3 billion and earnings per share were $2.58, up 18% and a June quarter record. Operating cash flow was also a June quarter record at $16.3 billion, an improvement of $4.6 billion over a year ago. Let me get into more detail for each of our revenue categories. iPhone revenue grew 2% to $26.4 billion with customer demand improving as the quarter progressed. COVID-19 was most impactful during the first three weeks of April when lockdowns and point of sale closures became more widespread in many countries. We saw marked improvement around the world in May and June, which we attribute to an improved level of customer demand helped by the very successful launch of iPhone SE and economic stimulus packages. Our active installed base of iPhones again reached an all-time high as a result of the loyalty of our customer base and strength of our ecosystem. In fact in the US the latest survey of consumers from 451 Research indicates iPhone customer satisfaction of 98% for iPhone 11, 11 Pro and 11 Pro Max combined. Turning to services, as I said, we set a June quarter record of $13.4 billion of revenue. We had all-time record performance and strong double-digit growth in the App Store, Apple Music, video and cloud services. Our new services Apple TV+, Apple Arcade, Apple News+ and Apple Card are also contributing to overall services growth and continue to add users’ content and features. At the same time customer engagement in our ecosystem continues to grow at a fast pace. The number of both transacting and paid accounts on our digital content stores reached a new all-time high during the June quarter with paid accounts increasing double-digits in each of our geographic segments. In aggregate, paid subscriptions grew more than 35 million sequentially and we now have over 550 million paid subscriptions across the services on our platform, up 130 million from a year ago. With this momentum we remain confident to reach our increased target of 600 million paid subscriptions before the end of calendar 2020. Wearables, Home and Accessories established a new June quarter record with revenue of $6.5 billion, up 17% year-over-year. Our Wearables business is now the size of a Fortune 140 company and we set June quarter records in the majority of markets we track. Importantly Apple Watch continues to extend its reach with over 75% of the customers purchasing Apple Watch during the quarter new to the product. Next, I'd like to talk about the impressive performance of Mac. Revenue was $7.1 billion, up 22% over last year and a June quarter record. We grew double digits in each geographic segment and set all-time revenue records in Japan and rest of Asia-Pacific as well as June quarter records in the Americas and Europe. Customer response to our new MacBook Air and MacBook Pro launches has been extremely strong. iPad performance was equally impressive with revenue of $6.6 billion, up 31% and our highest June quarter revenue in eight years. Demand was strong around the world with double-digit growth in each of our geographic segments, including a June quarter record in Greater China. The launch of our new iPad Pro has been received incredibly well in every region of the world. Both Mac and iPad are extremely relevant products in the new working and learning environments and the most recent surveys of consumers from 451 Research measured customer satisfaction at 96% for Mac and 97% for iPad. Around half of the customers purchasing Mac and iPad during the quarter were new to that product. And as a result, the active installed base for both products reached a new all-time high. Our retail business had record June quarter revenue. Thanks to the performance of our online store which had records in all geographic segments and grew across all major product categories. In June, we launched Apple Card Monthly Installments for more products in our US stores allowing customers to pay for their devices all the time with 0% interest. We're very pleased with the level of customer interest this new offering has generated. In the enterprise market, we continue to see companies leverage Apple products and offerings to successfully navigate their businesses through COVID-19. In healthcare, we are seeing rapid acceleration of telehealth to support a more flexible model of patient care. Many hospitals such as UVA Health, Rush University Medical Center and UC San Diego Health are using apps on iPad and iPhone to have triage, monitor and care for patients who are at home. This helps free up hospital capacity to support patients who need inpatient care while enabling continued care for patients who do not require in-person visits. Since many call center employees are currently working remotely, Apple Business Chat has proven an invaluable tool for staying connected with customers. This quarter HSBC deployed Apple Business Chat in its US and UK contact centers. Apple Business Chat provides a flexible and secured channel for digital banking assistance through a native Apple experience improving the efficiency and experience for both customers and agents. We are seeing similar adoption by hundreds of other organizations. Let me now turn to our cash position. We ended the quarter with almost $194 billion in cash plus marketable securities. We issued $8.5 billion of new term debt, retired $7.4 billion of term debt and increased short-term borrowing facilities by $1.1 billion during the quarter leaving us with total debt of $113 billion. As a result, net cash was $81 billion at the end of the quarter and we continue on our path to reaching a net cash neutral position over time. We returned over $21 billion to shareholders during the June quarter, including $3.7 billion in dividends and equivalents and $10 billion through open market repurchases of 31.3 million Apple shares. We also began a $6 billion accelerated share repurchase program in May resulting in the initial delivery and retirement of 15.2 million shares. And finally, we retired an additional 4.8 million shares in the final settlement of our 15th ASR. As we move ahead into the September quarter, I'd like to provide some color on what we are seeing, which includes the types of forward-looking information that Tejas referred to at the beginning of the call. Similar to last quarter, given the uncertainty around the world in the near-term, we will not be issuing revenue and margin guidance for the coming quarter. However, we will provide some additional insight on our expectations for the September quarter for our product categories. On iPhone, we expect to see recent performance continue for our current product lineup, including the strong customer response for iPhone SE. In addition, as you know, last year we started selling new iPhones in late September. This year we project supply to be available a few weeks later. We expect the rest of our product categories to have strong year-over-year performance. For services, we expect the September quarter to have the same trends that we have observed during the June quarter except for AppleCare where during the September quarter a year ago we expanded our distribution significantly. As a consequence, we expect a difficult comp for AppleCare also considering the COVID related point of sale closures this year. For gross margin, keep in mind that we will have a different mix than in prior years as I just explained. For OpEx, we expect to be between $9.8 billion and $9.9 billion. We expect the tax rate to be about 16.5% and OI&E to be $50 million. Also today our Board of Directors has declared a cash dividend of $0.82 per share of common stock payable on August 13, 2020 to shareholders of record as of August 10, 2020. And finally, today we're announcing a four for one split of Apple common stock to make our stock more accessible to a broader base of investors. Each shareholder of record at the close of business on August 24, 2020 will receive three additional shares for every outstanding share held on the record date and trading will begin on a split-adjusted basis on August 31st, 2020. With that let's open the call to questions.\\nTejas Gala: Thank you, Luca. We ask that you limit yourself to two questions. Operator, may we please have the first question?\\nOperator: Yes, that will be from Katy Huberty with Morgan Stanley.\\nKaty Huberty: Thank you. Good afternoon. Tim in light of the economic adversity that you talked about in the prepared remarks, can you just walk us through how Apple is leveraging finance and trade-in programs to make technology more affordable and accessible during this period, while also addressing the opportunity to recycle and reuse products and maybe also extend that to how these programs might expand over time and then I have a follow-up.\\nTim Cook: Yes. As Luca mentioned, in June we actually rolled out to the overwhelming balance of our other products the ability to do interest rate, interest free financing in our stores with payments. And that's in addition to trade-in which is becoming a more common trend now which I think is terrific because it is great for the environment and it acts as a subsidy, if you will, against the price of the new phone. And so when you compound these two things with the financing and the trade-in it makes the product super affordable. And we're really happy with what we're seeing in that regard.\\nKaty Huberty: And then, as a follow-up, just specifically to iPhone the category returned to growth. As you pointed out, the installed base is larger today. Our math would suggest that replacement cycles in some cases are elongated. And then you have the affordability element that you just discussed. Does all of that combine to build confidence that we're entering a longer period of iPhone revenue growth after what's been six quarters of decline?\\nTim Cook: We're very pleased with how we did on iPhone. It was better than we thought largely because as we pointed out in the prepared remarks May and June were much better. If you look at iPhone in totality the things that get me very optimistic is the size of the active installed base. The fact that if you look in the major geographies like the US, we had the top two selling smartphones. In the UK we had three of the top four. In Australia, we had five of the top six. And in Japan we had the top four. Urban China we were, iPhone 11 was the top selling smartphone in the country. And so these are some very different geographies with their very different competitive situations and we're doing fairly well. The iPhone SE, it's also clear that from the early data we're seeing a higher switcher number than we did in the previous year, which we feel very good about. And it also seems to appeal to some people that were holding onto the device a little longer because they wanted a smaller form factor phone. And so the combination of the smaller form factor and an incredibly affordable price made the iPhone SE very popular. iPhone 11 is still the most popular smartphone, but iPhone SE definitely helped our results. And as we -- as Lucas said in his outlook, we do see that continuing into this quarter currently.\\nTejas Gala: Thank you, Katy.\\nKaty Huberty: Thank you. Congrats on the quarter.\\nTim Cook: Thank you so much.\\nTejas Gala: Can we have the next question, please?\\nOperator: Yes, that would be from Krish Sankar with Cowen & Company.\\nKrish Sankar: Hi, thanks for taking my question. I have two of them. First one, Tim, when you look at the services business and in terms of your TV+ content production have the movement restrictions impacted the content production efforts? And along the same path four years ago your premonition on services being a $50 billion business in 2020 came sooner than expected, I don't know if you want to make any such forecast four years out and how you think services revenue is going to be. Then I have a follow-up for Luca.\\nTim Cook: I'm sorry. I missed that second question because the audio didn't come through. But I think I got the gist of the first. And that is production has been affected for Apple TV+ as I think it has for most people. We are working to get restarted. I don't have a precise date yet when we will get it restarted, but there will be some impact because we shut down in the March time frame and are yet to really restart in a significant way particularly for those that are shut in the LA area given the current status of the virus and those. And I'm sorry I missed your, the second part of your question.\\nKrish Sankar: Yes, Tim, I was trying to see, four years ago you made a great prediction that services is going to be $50 billion by 2020. I wanted to see if you have any update to the prediction four years down the road?\\nTim Cook: We're not updating today. We feel good. We want to take the moment and feel good about achieving the doubling six months early. And we do have still hanging out there, as you know, the subscription number that we're shooting for later in the year at 600 million. So we do have that objective out there.\\nKrish Sankar: If I could just squeeze in one for Luca. With the strong sales in Mac given the shelter-in-place, do you think the back-to-school season got pulled in by a quarter or do you expect the momentum to still continue? Thank you very much.\\nLuca Maestri: As I said, when I was talking about providing some commentary for the September quarter, we expect all the non-iPhone product categories to have a very strong year-over-year performance. So we definitely, I mean, the back-to-school season is clearly this one and we are very excited not only for the Mac, but also for the iPad. We've got a fantastic lineup of products and we know that these products are incredibly relevant especially given the current circumstances. So we expect the performance that we've seen for Mac in the June quarter to continue.\\nTejas Gala: Thank you. Can we have the next question, please?\\nOperator: Yes. From Cross Research we'll hear from Shannon Cross.\\nShannon Cross: Thank you very much. Tim, can you talk a bit about what you're seeing in China? I know the revenue was up 2% and I think Luca talked about record iPad, but just curious as to given their 5G [indiscernible] how you're seeing the market play out? And then I have a follow-up. Thank you.\\nTim Cook: Shannon, the growth that we -- we did see growth in Greater China for the quarter of 2%, currency affected China, a bit more than in other places, it affected 400 basis points. And so in constant currency, we would have grown at 6%. As I had mentioned before, the iPhone 11 has been our best-selling phone and has been number one in urban China and so we're very, very proud of that. iPad was helped in the June quarter there by the work from home and distance learning as it was in other geographies and the Mac also grew strong double digit during the quarter. And services set a new June quarter record there. We also continue to see extremely high new customer rates on Mac and iPad there, to give you a perspective, about three out of four customers that are buying the Mac are new in China and about two out of three that are buying the iPad are new. And so these are numbers that we're super proud of.\\nShannon Cross: Great. And then, can you talk a little bit more about the decision to bring Mac Silicon in-house, then the benefits that you expect to see or you've seen from vertical integration of acquisitions like the Intel modem business? Thanks.\\nTim Cook: Thanks. Yes, I mean, what we will end up -- what we'll end up with is a common architecture across all of our products, which gives us some interesting things that we can do in products that are -- that is sort of unleashes another round of innovation. And so I don't want to say a lot about it, other than we are extremely excited about it, it's something that we've worked on quite a while to get to this point and we're looking forward to shipping the first Mac with Apple Silicon later in the year.\\nTejas Gala: Thank you, Shannon. Can we have the next question please.\\nOperator: That will come from Amit Daryanani with Evercore.\\nAmit Daryanani: Thanks a lot for taking my question guys. I have one and a follow-up as well. Fortunately, I guess, Tim, if I think about the strength, you're seeing with iPhones right now, do you have a sense in terms of where is this trend coming from? Is it more replacement cycles getting shorter or which is getting new customers into the iOS ecosystem because, clearly these growth rates seem fairly impressive in the context of a pandemic and upcoming refresh cycle that we have?\\nTim Cook: I think, Amit, it's a combination of a strong launch with iPhone SE and some -- probably some pick up because of the economic stimulus that hit different countries at different points in time. And probably some of the reopening that took place across the quarter, particularly in May and June as Store started to reopen. And so it's a combination of all of those. And as you know, we've been having a strong cycle with the iPhone 11 and the 11 Pro. And so when you combine the -- a strong cycle plus and iPhone SE launch, plus the reopening of the stores, et cetera, I think there were a lot of things that we're going in the right direction there.\\nAmit Daryanani: Perfect, that's helpful. And then I guess, Luca, if I could just follow up with you. I'd love to get your perspective on how do we think about the overall 38% gross margins? What do you think of the levers to improve this as you go forward, not really September quarter, but over the next one to two years? And in that context, do you see a point where the product gross margin starts to stabilize because they have been trending somewhat lower for the last couple of quarters now.\\nLuca Maestri: Yes. Well, let me start with what we've seen during the June quarter. We were at 38%, we were down slightly sequentially but up the same amount on a year-over-year basis. And really the big negative impact that we felt for several quarters now has been the strength of the US dollar, so the foreign exchange impact on a sequential basis was 90 basis points on a year-over-year basis was 130 basis points. So obviously that is something to keep in mind. And then, the other aspect; I think it's always important to keep in mind, Amit, is that we sell many different products. They have different margin profiles. And so sometimes a different mix can have an impact on the aggregate level of products gross margins and we are very pleased to see the performance of Mac, iPad and Wearables but obviously, it's a different mix. Going forward, the variables are always the same, is that the foreign exchange will continue to play an impact, the mix of products there, we're going to be selling, will have an impact as well. The commodities market has been relatively benign and we'll see how that plays out over time. As you know now for several years, we've been managing gross margin, I would say, fairly well in spite of some difficult situations like the one with the strength of the dollar and we plan to continue to make a good trade off decisions between revenue and units and margins.\\nTejas Gala: Thank you, Amit. Can we have the next question, please?\\nOperator: It will come from Kyle McNealy with Jefferies.\\nKyle McNealy: Hi, thanks a lot for the question. Our team in Asia recently, we did some survey work on smartphones in China. It showed that there is still a high proportion of the installed bases on 6, 7, 8 devices. I know you talked about the trade-in programs and promotions that you've been doing there. I wonder if you can tell us whether there is anything else that you're doing to get these customers in your latest technology? What made those customers be looking for and how should we think about when an upgrade cycle might come on more strongly there in China? Thanks.\\nTim Cook: Customers upgraded different at a different pace and I don't have in front of me the exact installed base data from China. But much like in other geographies, the upgrades have extended some, it extended some during the depths if you will of the pandemic in China and the rest of the world, and probably to some degree is happening still at this point. The key things that we can do is keep innovating, deliver product that people can't imagine, going through life about. And obviously keep rolling out these programs that makes the front-end purchase be much less, and this is things like the financing in the trade-in programs that you mentioned. And I do feel like those are going quite good in a number of geographies.\\nKyle McNealy: Okay, great, thanks. And one more if I may. Congrats again on the strong iPad and Mac results, that's really impressive. I guess the obvious question is, should we ever think about how much of that might be pull-forward and what might be the future upgrades in next few years? Anything else you can share on how you think about growth from here or whether there is a hangover period maybe after the back-to-school season or holiday season. That would be helpful. Thanks.\\nTim Cook: The installed base is growing and the new customer numbers that Luca went over in the aggregate are still very high in the close to 50% kind of range. And so, that to me, makes the -- bodes well for the future. There is clearly, as we had indicated, there is some amount of work from home and remote learning that do affect the results of Mac and iPad positively. They probably affect wearables and iPhone, the other direction. And -- but on Mac and iPad, these are productivity tools that people are using to stay engaged with their work or stay engaged with their school work. And we believe we're going to have a strong back to school season. Sitting here today, it certainly looks like that.\\nTejas Gala: Thank you, Kyle.\\nKyle McNealy: Great. Thanks very much.\\nTejas Gala: Can we have the next question, please?\\nOperator: That will come from Cleveland Research's Ben Bollin.\\nBen Bollin: Good evening, everyone. Thanks for taking the question. Tim, I was hoping you could share a little bit about where you think channel inventory is? You talked about the tightness you saw exiting the June quarter for Mac and iPad. Interested, where you think inventory is across major product categories. And then I had a follow-up for Luca.\\nTim Cook: We usually -- we've gotten away from talking about channel inventories. But to give you a perspective sitting here looking at it, on iPhone the inventory is slightly less than it was a year ago and that's I'm saying that at a quarter end point, so at the end of Q3. And obviously iPad and Mac are constrained and so both of those are less than they were in the year ago quarter.\\nBen Bollin: Okay. And then, Luca, I'm interested, any color you could share about the impact COVID had on OpEx in the quarter, be it work from home, stipends, travel, other employee support costs. And also how the company is thinking about the longer-term opportunity of employees working remotely maybe more permanently many considerations and how that could influence the future OpEx? Thanks.\\nLuca Maestri: Well, on the OpEx front, there are being obviously certain things that have been affected in terms of cost reductions. Obviously, travel, it is a perfect example. The number of meetings that we have internally, some of those costs have been reduced. We've also invested heavily in initiatives for example, we're really trying to help during a very difficult circumstances. For example, we have had a program for example where we match our employee donations, we made donations directly as a company around the world to many institutions and governments. On a net basis, I would say probably the cost have outweighed the savings both during the March and the June quarter, but we think it's absolutely the right thing to do. From an employee perspective, what we said so far is that here in the United States, in most -- the majority of our population will continue to work from home until the end of the year. And then we'll see, I mean, we've taken an approach that we try to understand how the virus is evolving over time. We've taken a very cautious approach of both with our corporate facilities and with our retail stores. I think what you've seen with retail stores is that we have reopened in number of geographies around the world. We've reopened here in the United States. We've had to re-close some of the stores yet here in the United States, as the number of cases has gone up. And we will continue to track how the virus is doing. And hopefully at some point, we're going to get to a point where there is a vaccine or there is a cure. And so we will make those decisions as we get more information.\\nTejas Gala: Thank you. Can we have the next question, please?\\nOperator: That will be from Jeriel Ong with Deutsche Bank.\\nJeriel Ong: Yes, thank you so much. I have two questions as well. I'd like to focus on the gross margin expansion within the services line all-time record for the quarter. I'm just curious whether you think that will sustain, I understand within services is a pretty wide range of gross margins by business, and I'm wondering if that should continue to improve.\\nTim Cook: Well, as you've seen, obviously, we've had a sequential expansion in gross margin for services. And that was driven primarily by mix as you said, right. We have a very broad portfolio and depending on which one of the services does better than we have an impact on Services gross margins. We like the Services business because it is -- it's a recurring type of revenue and the margins are accretive to company margin. We did over 67% this quarter, but we want to offer very competitive services across the board and the same -- I think I'm going to make the same comments that I made on products. What matters to us is to be successful with everything that we do and provide great products and services to our customers. So the relative success of our products and services in the marketplace will drive to a certain extent with our margins are, that's the margins are a byproduct of our success in the marketplace.\\nJeriel Ong: Got it, really appreciate that. And I wanted to ask question on the Wearables segment. It seems to me that you're categorizing the Wearables business as maybe being a little bit impact from pandemic similar to the iPhones. And it's the first time that Wearables hasn't materially upsided and at least a while in recent memory. I guess the drivers of the Wearables being Watch and predominantly Watch and AirPods. What are your thoughts going forward on whether there is a little bit of pent-up demand perhaps that might resume ads that will get back to a more normalized environment?\\nTim Cook: I think on the Watch in particular is like the iPhone more affected by store closures, because people -- some people want to try on the Watch and see what it looks like, look at different band choices and those sorts of things. And so I think as stores closed, it puts more pressure on that. I was -- we did come out sort of the way we told you last quarter, we were going to come out from the color that we gave you. So we knew things would decelerate because of the closures. So we will end up being, we're very pleased with how we did. But the store closures definitely affect the wearables and the iPhone.\\nTejas Gala: Thank you, Jeriel.\\nJeriel Ong: Got it. Really appreciate that.\\nTejas Gala: Yes. Can we have the next question, please?\\nOperator: That will come from Jim Suva with Citigroup.\\nJim Suva: Thank you very much. And I have two questions. I'll ask them at the same time and it's one for Tim and one for Luca. Tim, the coronavirus, your company has done a fantastic job at overcoming one of the hurdles. So congratulations to you. As you look forward, say to the Christmas holiday shopping season, and given the economic challenges around the world of virus, coronavirus and your product launches and things like that. Can you give me commentary maybe how this Christmas you're looking forward, to say, maybe some past cycles of Christmas? Because it just seems like it's a little bit different, but Apple is really showing a lot more strength coming into this Christmas than may be some of the past years. And then for Luca, I think you made a quick comment, Luca, that you mentioned something about a few weeks later, was Apple like iPhone, iPhone chips or product launches or maybe expand upon that. I know things are more difficult, but I didn't quite keep the commentary, it was in your prepared comments, we'll go about a few weeks late that let's just have a quick little blood. Thank you so much, gentlemen.\\nTim Cook: Yes, we take it one quarter at a time. And so, we'll give you color on the December quarter and October. Generally speaking, I think we need to see a vaccine or therapeutic or both. And there is some optimism around that and in that particular timeframe. And so, we'll see, I don't have any information that is publicly available there. But I think that would boost consumer confidence quite a bit if it begins to happen and I think that any kind of consumer style company would benefit from that.\\nLuca Maestri: And Jim, on the iPhone, I said in my remarks that we launched a year ago, we launched the new iPhone in late September. So I was referring to the new product. And I said that this year, the supply of the new product will be a few weeks later than that.\\nJim Suva: Great. Congratulations to you and your entire organization and teams. Thank you so much.\\nTim Cook: Thanks so much.\\nTejas Gala: Thank you. Can we have the next question, please?\\nOperator: That will come from Wamsi Mohan with Bank of America.\\nWamsi Mohan: Hi. Yes, thank you. I was wondering if you can maybe comment on the penetration of Apple Card users in the iOS installed base? And have you seen any change in the buying behavior of Apple Card users in terms of accelerating spend on more Apple products and services? Then I have a follow-on.\\nTim Cook: We saw changes in consumer spending as the shutdowns occurred and the store closures occurred, we could see that across the Card. It affected the categories that you would guess the most like travel and entertainment et cetera. But overall if you sort of pull the lens out on the Apple Card, we're very happy with the number of people that have Apple Card. We believe based on what we've heard that it's the fastest rollout in the history of credit cards and so we feel very good about that.\\nWamsi Mohan: Okay. Thanks, Tim. And as a follow-up, now that Apple has Apple Silicon for Macs. Would you ever consider monetizing this as a merchant silicon vendor or is this going to be forever for Apple use?\\nTim Cook: Well, I don't want to make a forever comment, but there are -- we are a product company and we love making the whole thing. And because if we can -- on the user experience in that way and with the goal of delighting the user. And that's the reason that we're doing the Apple Silicon is because we can envision some products that we can achieve with Apple Silicon that we couldn't achieve otherwise. And so that's how we look at it.\\nWamsi Mohan: Thanks, Tim.\\nTejas Gala: Thank you, Wamsi. A replay of today's call will be available for two-week on Apple podcasts as a webcast on apple.com/investor and via telephone. The numbers for the telephone replay are 888-203-1112 or 719-457-0820. Please enter confirmation code 2630782. These replays will be available by approximately 5:00 PM Pacific Time today. Members of the press with additional questions can contact Kristin Huguet at 408-974-2414. Financial analysts can contact me with additional questions at 669-227-2402. Thank you again for joining us.\\nOperator: And again, that will conclude today's conference.'''\n",
        "\n",
        "\n",
        "\n"
      ],
      "metadata": {
        "id": "Mp5Kc13t2k7N"
      },
      "execution_count": 5,
      "outputs": []
    },
    {
      "cell_type": "code",
      "source": [
        "response = model.generate_content(f\"Please summarize the following text in 10 sentences:{earning_transcript_sample}\")\n",
        "print(response.text)"
      ],
      "metadata": {
        "colab": {
          "base_uri": "https://localhost:8080/",
          "height": 211
        },
        "id": "BLgeorkEFjH8",
        "outputId": "f177d8a9-2902-4c04-bcf0-27c651ed235f"
      },
      "execution_count": 6,
      "outputs": [
        {
          "output_type": "stream",
          "name": "stdout",
          "text": [
            "1. Apple reported a 2% revenue growth for iPhone, exceeding expectations due to strong demand in May and June, driven by the launch of the iPhone SE, economic stimulus, and lifted shelter-in-place restrictions.\n",
            "2. iPad and Mac sales saw strong double-digit growth, reflecting work-from-home and distance-learning needs.\n",
            "3. Wearables growth decelerated but still remained strong with a record revenue for a non-holiday quarter and a strong pipeline of opportunities.\n",
            "4. Services generated a record $13.2 billion, up 15% year-over-year, driven by strong performances in the App Store, Apple Music, video, and cloud services.\n",
            "5. Apple achieved its goal of doubling its fiscal 2016 services revenue six months ahead of schedule.\n",
            "6. The company announced a $100 million racial equity and justice initiative and renewed diversity and inclusion efforts within the organization.\n",
            "7. Apple allocated $400 million of its $2.5 billion affordable housing commitment to new housing construction and support for those at risk of homelessness in Silicon Valley.\n",
            "8. Apple's transition to its own Apple silicon for Mac is expected to bring unprecedented performance and a common architecture across all Apple products.\n",
            "9. Apple is committed to reaching carbon neutrality across its supply chain and product use by 2030.\n",
            "10. Despite economic adversity, Apple remains optimistic about its future and recognizes the responsibility it has to lead with its values.\n"
          ]
        }
      ]
    },
    {
      "cell_type": "markdown",
      "source": [
        "### Vertex AI function calling\n",
        "\n",
        "#### Sample from Vertex AI\n",
        "https://ai.google.dev/gemini-api/tutorials/extract_structured_data"
      ],
      "metadata": {
        "id": "12qUVYnSetV6"
      }
    },
    {
      "cell_type": "code",
      "source": [
        "response = model.generate_content(\"\"\"\n",
        "      Write a long story about a girl with magic backpack, her family, and at\n",
        "      least one other charater. Make sure everyone has names. Don't forget to\n",
        "      describe the contents of the backpack, and where everyone and everything\n",
        "      starts and ends up.\"\"\", request_options={'retry': retry.Retry()})\n",
        "story = response.text"
      ],
      "metadata": {
        "id": "Chb8u30Mg5HZ"
      },
      "execution_count": 14,
      "outputs": []
    },
    {
      "cell_type": "code",
      "source": [
        "person = genai.protos.Schema(\n",
        "    type = genai.protos.Type.OBJECT,\n",
        "    properties = {\n",
        "        'name':  genai.protos.Schema(type=genai.protos.Type.STRING),\n",
        "        'description':  genai.protos.Schema(type=genai.protos.Type.STRING),\n",
        "        'start_place_name': genai.protos.Schema(type=genai.protos.Type.STRING),\n",
        "        'end_place_name': genai.protos.Schema(type=genai.protos.Type.STRING)\n",
        "    },\n",
        "    required=['name', 'description', 'start_place_name', 'end_place_name']\n",
        ")\n",
        "\n",
        "people = genai.protos.Schema(\n",
        "    type=genai.protos.Type.ARRAY,\n",
        "    items=person\n",
        ")\n",
        "place = genai.protos.Schema(\n",
        "    type = genai.protos.Type.OBJECT,\n",
        "    properties = {\n",
        "        'name':  genai.protos.Schema(type=genai.protos.Type.STRING),\n",
        "        'description':  genai.protos.Schema(type=genai.protos.Type.STRING),\n",
        "    }\n",
        ")\n",
        "\n",
        "places = genai.protos.Schema(\n",
        "    type=genai.protos.Type.ARRAY,\n",
        "    items=place\n",
        ")\n",
        "thing = genai.protos.Schema(\n",
        "  type = genai.protos.Type.OBJECT,\n",
        "  properties = {\n",
        "      'name':  genai.protos.Schema(type=genai.protos.Type.STRING),\n",
        "      'description':  genai.protos.Schema(type=genai.protos.Type.STRING),\n",
        "  }\n",
        ")\n",
        "\n",
        "things = genai.protos.Schema(\n",
        "    type=genai.protos.Type.ARRAY,\n",
        "    items=thing\n",
        ")\n",
        "relationship = genai.protos.Schema(\n",
        "    type = genai.protos.Type.OBJECT,\n",
        "    properties = {\n",
        "        'person_1_name':  genai.protos.Schema(type=genai.protos.Type.STRING),\n",
        "        'person_2_name':  genai.protos.Schema(type=genai.protos.Type.STRING),\n",
        "        'relationship':  genai.protos.Schema(type=genai.protos.Type.STRING),\n",
        "    }\n",
        ")\n",
        "\n",
        "relationships = genai.protos.Schema(\n",
        "    type=genai.protos.Type.ARRAY,\n",
        "    items=relationship\n",
        ")\n",
        "\n",
        "add_to_database = genai.protos.FunctionDeclaration(\n",
        "    name=\"add_to_database\",\n",
        "    description=textwrap.dedent(\"\"\"\\\n",
        "        Adds entities to the database.\n",
        "        \"\"\"),\n",
        "    parameters=genai.protos.Schema(\n",
        "        type=genai.protos.Type.OBJECT,\n",
        "        properties = {\n",
        "            'people': people,\n",
        "            'places': places,\n",
        "            'things': things,\n",
        "            'relationships': relationships\n",
        "        }\n",
        "    )\n",
        ")\n",
        "model = model = genai.GenerativeModel(\n",
        "    model_name='models/gemini-1.5-pro-latest',\n",
        "    tools = [add_to_database])\n",
        "\n",
        "\n",
        "result = model.generate_content(f\"\"\"\n",
        "Please add the people, places, things, and relationships from this story to the database:\n",
        "\n",
        "{story}\n",
        "\"\"\",\n",
        "# Force a function call\n",
        "tool_config={'function_calling_config':'ANY'})\n",
        "\n",
        "\n"
      ],
      "metadata": {
        "id": "fAt5tkNXJJQ6"
      },
      "execution_count": 15,
      "outputs": []
    },
    {
      "cell_type": "code",
      "source": [
        "import json\n",
        "print('text' in result.candidates[0].content.parts[0])\n",
        "print('function_call' in result.candidates[0].content.parts[0])\n",
        "fc = result.candidates[0].content.parts[0].function_call\n",
        "print(type(fc))\n",
        "print(json.dumps(type(fc).to_dict(fc), indent=4))"
      ],
      "metadata": {
        "colab": {
          "base_uri": "https://localhost:8080/"
        },
        "id": "c529Koc9hRmD",
        "outputId": "53f573a2-c9d5-4597-ca20-efa1b27ff3aa"
      },
      "execution_count": 20,
      "outputs": [
        {
          "output_type": "stream",
          "name": "stdout",
          "text": [
            "False\n",
            "True\n",
            "<class 'google.ai.generativelanguage_v1beta.types.content.FunctionCall'>\n",
            "{\n",
            "    \"name\": \"add_to_database\",\n",
            "    \"args\": {\n",
            "        \"people\": [\n",
            "            {\n",
            "                \"end_place_name\": \"Willow Creek\",\n",
            "                \"start_place_name\": \"Willow Creek\",\n",
            "                \"description\": \"A curious girl who inherits a magic backpack from her eccentric grandmother. She is destined for greatness and uses her powers to help others. She becomes renowned for her extraordinary abilities and bridges the gap between magic and reason. \",\n",
            "                \"name\": \"Anya\"\n",
            "            },\n",
            "            {\n",
            "                \"name\": \"Emily\",\n",
            "                \"end_place_name\": \"Willow Creek\",\n",
            "                \"description\": \"Anya's mother. A renowned botanist who is skeptical of magic at first but learns to embrace it. \",\n",
            "                \"start_place_name\": \"Willow Creek\"\n",
            "            },\n",
            "            {\n",
            "                \"start_place_name\": \"Willow Creek\",\n",
            "                \"name\": \"William\",\n",
            "                \"end_place_name\": \"Willow Creek\",\n",
            "                \"description\": \"Anya's father. A pragmatic engineer who prefers logic and reason but comes to accept magic. \"\n",
            "            },\n",
            "            {\n",
            "                \"description\": \"A wise and mystical guide from the realm of dreams. She helps Anya understand her destiny and the power of the magic backpack. \",\n",
            "                \"name\": \"Celeste\",\n",
            "                \"start_place_name\": \"Whispering Woods\",\n",
            "                \"end_place_name\": \"Whispering Woods\"\n",
            "            }\n",
            "        ],\n",
            "        \"things\": [\n",
            "            {\n",
            "                \"description\": \"An unassuming backpack inherited from Anya's grandmother. It holds magical items and is the catalyst for Anya's adventures. \",\n",
            "                \"name\": \"Magic Backpack\"\n",
            "            },\n",
            "            {\n",
            "                \"name\": \"Hourglass\",\n",
            "                \"description\": \"A mystical hourglass that can control the flow of time. \"\n",
            "            },\n",
            "            {\n",
            "                \"description\": \"A shimmering crystal ball that grants visions of the future. \",\n",
            "                \"name\": \"Crystal Ball\"\n",
            "            },\n",
            "            {\n",
            "                \"name\": \"Enchanted Quills\",\n",
            "                \"description\": \"A set of enchanted quills that write poems in the stars. \"\n",
            "            },\n",
            "            {\n",
            "                \"description\": \"A celestial map that guides the wanderer through unknown realms. \",\n",
            "                \"name\": \"Celestial Map\"\n",
            "            }\n",
            "        ],\n",
            "        \"places\": [\n",
            "            {\n",
            "                \"description\": \"A quaint little town nestled amidst rolling hills and whispering willows. \",\n",
            "                \"name\": \"Willow Creek\"\n",
            "            },\n",
            "            {\n",
            "                \"description\": \"The woods behind Anya's house. A clearing in these woods is where Anya meets Celeste. \",\n",
            "                \"name\": \"Whispering Woods\"\n",
            "            }\n",
            "        ]\n",
            "    }\n",
            "}\n"
          ]
        }
      ]
    },
    {
      "cell_type": "markdown",
      "source": [
        "## OPENBB AGENTS"
      ],
      "metadata": {
        "id": "CDDEkosPIG5l"
      }
    },
    {
      "cell_type": "code",
      "source": [
        "from google.colab import drive\n",
        "drive.mount('/content/gdrive')\n",
        "\n",
        "def get_openbb_keys():\n",
        "  with open('gdrive/My Drive/passwords/openbb.keys') as f:\n",
        "    return f.readlines()[0]\n"
      ],
      "metadata": {
        "colab": {
          "base_uri": "https://localhost:8080/"
        },
        "id": "0egKp_uIFjl_",
        "outputId": "88653167-a945-4c0d-c518-6f47e55b10bc"
      },
      "execution_count": null,
      "outputs": [
        {
          "output_type": "stream",
          "name": "stdout",
          "text": [
            "Mounted at /content/gdrive\n"
          ]
        }
      ]
    },
    {
      "cell_type": "code",
      "source": [
        "!pip install python-dotenv\n",
        "!pip install lxml==5.2.1"
      ],
      "metadata": {
        "colab": {
          "base_uri": "https://localhost:8080/"
        },
        "id": "9eyQtAwKIdBh",
        "outputId": "38745a38-5ec7-47ca-8922-e73e907343ea"
      },
      "execution_count": null,
      "outputs": [
        {
          "output_type": "stream",
          "name": "stdout",
          "text": [
            "Requirement already satisfied: python-dotenv in /usr/local/lib/python3.10/dist-packages (1.0.1)\n"
          ]
        }
      ]
    },
    {
      "cell_type": "code",
      "source": [
        "import dotenv\n",
        "from google.colab import drive\n",
        "\n",
        "drive.mount('/content/drive')\n",
        "\n",
        "dotenv.load_dotenv('/content/drive/MyDrive/.env')"
      ],
      "metadata": {
        "colab": {
          "base_uri": "https://localhost:8080/"
        },
        "id": "_qg0BHUwLTxk",
        "outputId": "39cdd1ba-eb4b-438f-a47b-737c691f0aca"
      },
      "execution_count": null,
      "outputs": [
        {
          "output_type": "stream",
          "name": "stdout",
          "text": [
            "Drive already mounted at /content/drive; to attempt to forcibly remount, call drive.mount(\"/content/drive\", force_remount=True).\n"
          ]
        },
        {
          "output_type": "execute_result",
          "data": {
            "text/plain": [
              "True"
            ]
          },
          "metadata": {},
          "execution_count": 2
        }
      ]
    },
    {
      "cell_type": "code",
      "source": [
        "from openbb_agents.agent import openbb_agent"
      ],
      "metadata": {
        "colab": {
          "base_uri": "https://localhost:8080/"
        },
        "id": "WqAqxEUILYfH",
        "outputId": "c0923471-31ac-41a3-f34a-b767e43911b2"
      },
      "execution_count": null,
      "outputs": [
        {
          "output_type": "stream",
          "name": "stdout",
          "text": [
            "Extensions to add: benzinga@1.2.1, commodity@1.1.1, crypto@1.2.1, currency@1.2.1, derivatives@1.2.1, economy@1.2.1, equity@1.2.1, etf@1.2.1, federal_reserve@1.2.1, fixedincome@1.2.1, fmp@1.2.1, fred@1.2.1, index@1.2.1, intrinio@1.2.1, news@1.2.1, oecd@1.2.1, polygon@1.2.1, regulators@1.2.1, sec@1.2.1, tiingo@1.2.1, tradingeconomics@1.2.1, yfinance@1.2.1\n",
            "Extensions to remove: benzinga@1.1.4, commodity@1.0.2, crypto@1.1.4, currency@1.1.4, derivatives@1.1.4, economy@1.1.4, equity@1.1.4, etf@1.1.4, federal_reserve@1.1.4, fixedincome@1.1.4, fmp@1.1.4, fred@1.1.4, index@1.1.4, intrinio@1.1.4, news@1.1.4, oecd@1.1.4, polygon@1.1.4, regulators@1.1.4, sec@1.1.4, tiingo@1.1.4, tradingeconomics@1.1.4, yfinance@1.1.4\n",
            "\n",
            "Building...\n"
          ]
        }
      ]
    },
    {
      "cell_type": "code",
      "source": [
        "result = openbb_agent(\"What is the current market cap of TSLA?\")  # Will print some logs to show you progress\n",
        "print(result)"
      ],
      "metadata": {
        "colab": {
          "base_uri": "https://localhost:8080/",
          "height": 393
        },
        "id": "ik5biftPLbrd",
        "outputId": "392355d9-ae37-4522-95b6-cd68041d58ce"
      },
      "execution_count": null,
      "outputs": [
        {
          "output_type": "stream",
          "name": "stdout",
          "text": [
            "{\"asctime\": \"2024-06-01 09:45:50,413\", \"levelname\": \"INFO\", \"name\": \"openbb_agents.agent\", \"message\": \"Using all available OpenBB tools with providers: ['yfinance']\"}\n"
          ]
        },
        {
          "output_type": "error",
          "ename": "RateLimitError",
          "evalue": "Error code: 429 - {'error': {'message': 'You exceeded your current quota, please check your plan and billing details. For more information on this error, read the docs: https://platform.openai.com/docs/guides/error-codes/api-errors.', 'type': 'insufficient_quota', 'param': None, 'code': 'insufficient_quota'}}",
          "traceback": [
            "\u001b[0;31m---------------------------------------------------------------------------\u001b[0m",
            "\u001b[0;31mRateLimitError\u001b[0m                            Traceback (most recent call last)",
            "\u001b[0;32m/tmp/ipykernel_9407/2183796047.py\u001b[0m in \u001b[0;36m<cell line: 1>\u001b[0;34m()\u001b[0m\n\u001b[0;32m----> 1\u001b[0;31m \u001b[0mresult\u001b[0m \u001b[0;34m=\u001b[0m \u001b[0mopenbb_agent\u001b[0m\u001b[0;34m(\u001b[0m\u001b[0;34m\"What is the current market cap of TSLA?\"\u001b[0m\u001b[0;34m)\u001b[0m  \u001b[0;31m# Will print some logs to show you progress\u001b[0m\u001b[0;34m\u001b[0m\u001b[0;34m\u001b[0m\u001b[0m\n\u001b[0m\u001b[1;32m      2\u001b[0m \u001b[0mprint\u001b[0m\u001b[0;34m(\u001b[0m\u001b[0mresult\u001b[0m\u001b[0;34m)\u001b[0m\u001b[0;34m\u001b[0m\u001b[0;34m\u001b[0m\u001b[0m\n",
            "\u001b[0;32m/usr/local/lib/python3.10/dist-packages/openbb_agents/agent.py\u001b[0m in \u001b[0;36mopenbb_agent\u001b[0;34m(query, openbb_tools, openbb_pat)\u001b[0m\n\u001b[1;32m     60\u001b[0m         \u001b[0mobb\u001b[0m\u001b[0;34m.\u001b[0m\u001b[0maccount\u001b[0m\u001b[0;34m.\u001b[0m\u001b[0mlogin\u001b[0m\u001b[0;34m(\u001b[0m\u001b[0mpat\u001b[0m\u001b[0;34m=\u001b[0m\u001b[0mopenbb_pat\u001b[0m\u001b[0;34m)\u001b[0m\u001b[0;34m\u001b[0m\u001b[0;34m\u001b[0m\u001b[0m\n\u001b[1;32m     61\u001b[0m \u001b[0;34m\u001b[0m\u001b[0m\n\u001b[0;32m---> 62\u001b[0;31m     \u001b[0mtool_vector_index\u001b[0m \u001b[0;34m=\u001b[0m \u001b[0m_handle_tool_vector_index\u001b[0m\u001b[0;34m(\u001b[0m\u001b[0mopenbb_tools\u001b[0m\u001b[0;34m)\u001b[0m\u001b[0;34m\u001b[0m\u001b[0;34m\u001b[0m\u001b[0m\n\u001b[0m\u001b[1;32m     63\u001b[0m     \u001b[0msubquestions\u001b[0m \u001b[0;34m=\u001b[0m \u001b[0mgenerate_subquestions_from_query\u001b[0m\u001b[0;34m(\u001b[0m\u001b[0muser_query\u001b[0m\u001b[0;34m=\u001b[0m\u001b[0mquery\u001b[0m\u001b[0;34m)\u001b[0m\u001b[0;34m\u001b[0m\u001b[0;34m\u001b[0m\u001b[0m\n\u001b[1;32m     64\u001b[0m \u001b[0;34m\u001b[0m\u001b[0m\n",
            "\u001b[0;32m/usr/local/lib/python3.10/dist-packages/openbb_agents/agent.py\u001b[0m in \u001b[0;36m_handle_tool_vector_index\u001b[0;34m(openbb_tools)\u001b[0m\n\u001b[1;32m    288\u001b[0m             \u001b[0mget_valid_list_of_providers\u001b[0m\u001b[0;34m(\u001b[0m\u001b[0;34m)\u001b[0m\u001b[0;34m,\u001b[0m\u001b[0;34m\u001b[0m\u001b[0;34m\u001b[0m\u001b[0m\n\u001b[1;32m    289\u001b[0m         )\n\u001b[0;32m--> 290\u001b[0;31m         \u001b[0mtool_vector_index\u001b[0m \u001b[0;34m=\u001b[0m \u001b[0mbuild_openbb_tool_vector_index\u001b[0m\u001b[0;34m(\u001b[0m\u001b[0;34m)\u001b[0m\u001b[0;34m\u001b[0m\u001b[0;34m\u001b[0m\u001b[0m\n\u001b[0m\u001b[1;32m    291\u001b[0m     \u001b[0;32melse\u001b[0m\u001b[0;34m:\u001b[0m\u001b[0;34m\u001b[0m\u001b[0;34m\u001b[0m\u001b[0m\n\u001b[1;32m    292\u001b[0m         \u001b[0mlogger\u001b[0m\u001b[0;34m.\u001b[0m\u001b[0minfo\u001b[0m\u001b[0;34m(\u001b[0m\u001b[0;34m\"Using specified OpenBB tools: %s\"\u001b[0m\u001b[0;34m,\u001b[0m \u001b[0mopenbb_tools\u001b[0m\u001b[0;34m)\u001b[0m\u001b[0;34m\u001b[0m\u001b[0;34m\u001b[0m\u001b[0m\n",
            "\u001b[0;32m/usr/local/lib/python3.10/dist-packages/openbb_agents/tools.py\u001b[0m in \u001b[0;36mbuild_openbb_tool_vector_index\u001b[0;34m()\u001b[0m\n\u001b[1;32m    126\u001b[0m \u001b[0;32mdef\u001b[0m \u001b[0mbuild_openbb_tool_vector_index\u001b[0m\u001b[0;34m(\u001b[0m\u001b[0;34m)\u001b[0m \u001b[0;34m->\u001b[0m \u001b[0mVectorStore\u001b[0m\u001b[0;34m:\u001b[0m\u001b[0;34m\u001b[0m\u001b[0;34m\u001b[0m\u001b[0m\n\u001b[1;32m    127\u001b[0m     \u001b[0mlogger\u001b[0m\u001b[0;34m.\u001b[0m\u001b[0minfo\u001b[0m\u001b[0;34m(\u001b[0m\u001b[0;34m\"Building OpenBB tool vector index...\"\u001b[0m\u001b[0;34m)\u001b[0m\u001b[0;34m\u001b[0m\u001b[0;34m\u001b[0m\u001b[0m\n\u001b[0;32m--> 128\u001b[0;31m     return build_vector_index_from_openbb_function_descriptions(\n\u001b[0m\u001b[1;32m    129\u001b[0m         \u001b[0mget_valid_openbb_function_descriptions\u001b[0m\u001b[0;34m(\u001b[0m\u001b[0;34m)\u001b[0m\u001b[0;34m\u001b[0m\u001b[0;34m\u001b[0m\u001b[0m\n\u001b[1;32m    130\u001b[0m     )\n",
            "\u001b[0;32m/usr/local/lib/python3.10/dist-packages/openbb_agents/tools.py\u001b[0m in \u001b[0;36mbuild_vector_index_from_openbb_function_descriptions\u001b[0;34m(openbb_function_descriptions)\u001b[0m\n\u001b[1;32m    120\u001b[0m             )\n\u001b[1;32m    121\u001b[0m         )\n\u001b[0;32m--> 122\u001b[0;31m     \u001b[0mvector_store\u001b[0m \u001b[0;34m=\u001b[0m \u001b[0mFAISS\u001b[0m\u001b[0;34m.\u001b[0m\u001b[0mfrom_documents\u001b[0m\u001b[0;34m(\u001b[0m\u001b[0mdocuments\u001b[0m\u001b[0;34m,\u001b[0m \u001b[0membedding\u001b[0m\u001b[0;34m=\u001b[0m\u001b[0mOpenAIEmbeddings\u001b[0m\u001b[0;34m(\u001b[0m\u001b[0;34m)\u001b[0m\u001b[0;34m)\u001b[0m\u001b[0;34m\u001b[0m\u001b[0;34m\u001b[0m\u001b[0m\n\u001b[0m\u001b[1;32m    123\u001b[0m     \u001b[0;32mreturn\u001b[0m \u001b[0mvector_store\u001b[0m\u001b[0;34m\u001b[0m\u001b[0;34m\u001b[0m\u001b[0m\n\u001b[1;32m    124\u001b[0m \u001b[0;34m\u001b[0m\u001b[0m\n",
            "\u001b[0;32m/usr/local/lib/python3.10/dist-packages/langchain_core/vectorstores.py\u001b[0m in \u001b[0;36mfrom_documents\u001b[0;34m(cls, documents, embedding, **kwargs)\u001b[0m\n\u001b[1;32m    548\u001b[0m         \u001b[0mtexts\u001b[0m \u001b[0;34m=\u001b[0m \u001b[0;34m[\u001b[0m\u001b[0md\u001b[0m\u001b[0;34m.\u001b[0m\u001b[0mpage_content\u001b[0m \u001b[0;32mfor\u001b[0m \u001b[0md\u001b[0m \u001b[0;32min\u001b[0m \u001b[0mdocuments\u001b[0m\u001b[0;34m]\u001b[0m\u001b[0;34m\u001b[0m\u001b[0;34m\u001b[0m\u001b[0m\n\u001b[1;32m    549\u001b[0m         \u001b[0mmetadatas\u001b[0m \u001b[0;34m=\u001b[0m \u001b[0;34m[\u001b[0m\u001b[0md\u001b[0m\u001b[0;34m.\u001b[0m\u001b[0mmetadata\u001b[0m \u001b[0;32mfor\u001b[0m \u001b[0md\u001b[0m \u001b[0;32min\u001b[0m \u001b[0mdocuments\u001b[0m\u001b[0;34m]\u001b[0m\u001b[0;34m\u001b[0m\u001b[0;34m\u001b[0m\u001b[0m\n\u001b[0;32m--> 550\u001b[0;31m         \u001b[0;32mreturn\u001b[0m \u001b[0mcls\u001b[0m\u001b[0;34m.\u001b[0m\u001b[0mfrom_texts\u001b[0m\u001b[0;34m(\u001b[0m\u001b[0mtexts\u001b[0m\u001b[0;34m,\u001b[0m \u001b[0membedding\u001b[0m\u001b[0;34m,\u001b[0m \u001b[0mmetadatas\u001b[0m\u001b[0;34m=\u001b[0m\u001b[0mmetadatas\u001b[0m\u001b[0;34m,\u001b[0m \u001b[0;34m**\u001b[0m\u001b[0mkwargs\u001b[0m\u001b[0;34m)\u001b[0m\u001b[0;34m\u001b[0m\u001b[0;34m\u001b[0m\u001b[0m\n\u001b[0m\u001b[1;32m    551\u001b[0m \u001b[0;34m\u001b[0m\u001b[0m\n\u001b[1;32m    552\u001b[0m     \u001b[0;34m@\u001b[0m\u001b[0mclassmethod\u001b[0m\u001b[0;34m\u001b[0m\u001b[0;34m\u001b[0m\u001b[0m\n",
            "\u001b[0;32m/usr/local/lib/python3.10/dist-packages/langchain_community/vectorstores/faiss.py\u001b[0m in \u001b[0;36mfrom_texts\u001b[0;34m(cls, texts, embedding, metadatas, ids, **kwargs)\u001b[0m\n\u001b[1;32m    928\u001b[0m                 \u001b[0mfaiss\u001b[0m \u001b[0;34m=\u001b[0m \u001b[0mFAISS\u001b[0m\u001b[0;34m.\u001b[0m\u001b[0mfrom_texts\u001b[0m\u001b[0;34m(\u001b[0m\u001b[0mtexts\u001b[0m\u001b[0;34m,\u001b[0m \u001b[0membeddings\u001b[0m\u001b[0;34m)\u001b[0m\u001b[0;34m\u001b[0m\u001b[0;34m\u001b[0m\u001b[0m\n\u001b[1;32m    929\u001b[0m         \"\"\"\n\u001b[0;32m--> 930\u001b[0;31m         \u001b[0membeddings\u001b[0m \u001b[0;34m=\u001b[0m \u001b[0membedding\u001b[0m\u001b[0;34m.\u001b[0m\u001b[0membed_documents\u001b[0m\u001b[0;34m(\u001b[0m\u001b[0mtexts\u001b[0m\u001b[0;34m)\u001b[0m\u001b[0;34m\u001b[0m\u001b[0;34m\u001b[0m\u001b[0m\n\u001b[0m\u001b[1;32m    931\u001b[0m         return cls.__from(\n\u001b[1;32m    932\u001b[0m             \u001b[0mtexts\u001b[0m\u001b[0;34m,\u001b[0m\u001b[0;34m\u001b[0m\u001b[0;34m\u001b[0m\u001b[0m\n",
            "\u001b[0;32m/usr/local/lib/python3.10/dist-packages/langchain_openai/embeddings/base.py\u001b[0m in \u001b[0;36membed_documents\u001b[0;34m(self, texts, chunk_size)\u001b[0m\n\u001b[1;32m    487\u001b[0m         \u001b[0;31m#       than the maximum context and use length-safe embedding function.\u001b[0m\u001b[0;34m\u001b[0m\u001b[0;34m\u001b[0m\u001b[0m\n\u001b[1;32m    488\u001b[0m         \u001b[0mengine\u001b[0m \u001b[0;34m=\u001b[0m \u001b[0mcast\u001b[0m\u001b[0;34m(\u001b[0m\u001b[0mstr\u001b[0m\u001b[0;34m,\u001b[0m \u001b[0mself\u001b[0m\u001b[0;34m.\u001b[0m\u001b[0mdeployment\u001b[0m\u001b[0;34m)\u001b[0m\u001b[0;34m\u001b[0m\u001b[0;34m\u001b[0m\u001b[0m\n\u001b[0;32m--> 489\u001b[0;31m         \u001b[0;32mreturn\u001b[0m \u001b[0mself\u001b[0m\u001b[0;34m.\u001b[0m\u001b[0m_get_len_safe_embeddings\u001b[0m\u001b[0;34m(\u001b[0m\u001b[0mtexts\u001b[0m\u001b[0;34m,\u001b[0m \u001b[0mengine\u001b[0m\u001b[0;34m=\u001b[0m\u001b[0mengine\u001b[0m\u001b[0;34m)\u001b[0m\u001b[0;34m\u001b[0m\u001b[0;34m\u001b[0m\u001b[0m\n\u001b[0m\u001b[1;32m    490\u001b[0m \u001b[0;34m\u001b[0m\u001b[0m\n\u001b[1;32m    491\u001b[0m     async def aembed_documents(\n",
            "\u001b[0;32m/usr/local/lib/python3.10/dist-packages/langchain_openai/embeddings/base.py\u001b[0m in \u001b[0;36m_get_len_safe_embeddings\u001b[0;34m(self, texts, engine, chunk_size)\u001b[0m\n\u001b[1;32m    345\u001b[0m         \u001b[0mbatched_embeddings\u001b[0m\u001b[0;34m:\u001b[0m \u001b[0mList\u001b[0m\u001b[0;34m[\u001b[0m\u001b[0mList\u001b[0m\u001b[0;34m[\u001b[0m\u001b[0mfloat\u001b[0m\u001b[0;34m]\u001b[0m\u001b[0;34m]\u001b[0m \u001b[0;34m=\u001b[0m \u001b[0;34m[\u001b[0m\u001b[0;34m]\u001b[0m\u001b[0;34m\u001b[0m\u001b[0;34m\u001b[0m\u001b[0m\n\u001b[1;32m    346\u001b[0m         \u001b[0;32mfor\u001b[0m \u001b[0mi\u001b[0m \u001b[0;32min\u001b[0m \u001b[0m_iter\u001b[0m\u001b[0;34m:\u001b[0m\u001b[0;34m\u001b[0m\u001b[0;34m\u001b[0m\u001b[0m\n\u001b[0;32m--> 347\u001b[0;31m             response = self.client.create(\n\u001b[0m\u001b[1;32m    348\u001b[0m                 \u001b[0minput\u001b[0m\u001b[0;34m=\u001b[0m\u001b[0mtokens\u001b[0m\u001b[0;34m[\u001b[0m\u001b[0mi\u001b[0m \u001b[0;34m:\u001b[0m \u001b[0mi\u001b[0m \u001b[0;34m+\u001b[0m \u001b[0m_chunk_size\u001b[0m\u001b[0;34m]\u001b[0m\u001b[0;34m,\u001b[0m \u001b[0;34m**\u001b[0m\u001b[0mself\u001b[0m\u001b[0;34m.\u001b[0m\u001b[0m_invocation_params\u001b[0m\u001b[0;34m\u001b[0m\u001b[0;34m\u001b[0m\u001b[0m\n\u001b[1;32m    349\u001b[0m             )\n",
            "\u001b[0;32m/usr/local/lib/python3.10/dist-packages/openai/resources/embeddings.py\u001b[0m in \u001b[0;36mcreate\u001b[0;34m(self, input, model, dimensions, encoding_format, user, extra_headers, extra_query, extra_body, timeout)\u001b[0m\n\u001b[1;32m    112\u001b[0m             \u001b[0;32mreturn\u001b[0m \u001b[0mobj\u001b[0m\u001b[0;34m\u001b[0m\u001b[0;34m\u001b[0m\u001b[0m\n\u001b[1;32m    113\u001b[0m \u001b[0;34m\u001b[0m\u001b[0m\n\u001b[0;32m--> 114\u001b[0;31m         return self._post(\n\u001b[0m\u001b[1;32m    115\u001b[0m             \u001b[0;34m\"/embeddings\"\u001b[0m\u001b[0;34m,\u001b[0m\u001b[0;34m\u001b[0m\u001b[0;34m\u001b[0m\u001b[0m\n\u001b[1;32m    116\u001b[0m             \u001b[0mbody\u001b[0m\u001b[0;34m=\u001b[0m\u001b[0mmaybe_transform\u001b[0m\u001b[0;34m(\u001b[0m\u001b[0mparams\u001b[0m\u001b[0;34m,\u001b[0m \u001b[0membedding_create_params\u001b[0m\u001b[0;34m.\u001b[0m\u001b[0mEmbeddingCreateParams\u001b[0m\u001b[0;34m)\u001b[0m\u001b[0;34m,\u001b[0m\u001b[0;34m\u001b[0m\u001b[0;34m\u001b[0m\u001b[0m\n",
            "\u001b[0;32m/usr/local/lib/python3.10/dist-packages/openai/_base_client.py\u001b[0m in \u001b[0;36mpost\u001b[0;34m(self, path, cast_to, body, options, files, stream, stream_cls)\u001b[0m\n\u001b[1;32m   1238\u001b[0m             \u001b[0mmethod\u001b[0m\u001b[0;34m=\u001b[0m\u001b[0;34m\"post\"\u001b[0m\u001b[0;34m,\u001b[0m \u001b[0murl\u001b[0m\u001b[0;34m=\u001b[0m\u001b[0mpath\u001b[0m\u001b[0;34m,\u001b[0m \u001b[0mjson_data\u001b[0m\u001b[0;34m=\u001b[0m\u001b[0mbody\u001b[0m\u001b[0;34m,\u001b[0m \u001b[0mfiles\u001b[0m\u001b[0;34m=\u001b[0m\u001b[0mto_httpx_files\u001b[0m\u001b[0;34m(\u001b[0m\u001b[0mfiles\u001b[0m\u001b[0;34m)\u001b[0m\u001b[0;34m,\u001b[0m \u001b[0;34m**\u001b[0m\u001b[0moptions\u001b[0m\u001b[0;34m\u001b[0m\u001b[0;34m\u001b[0m\u001b[0m\n\u001b[1;32m   1239\u001b[0m         )\n\u001b[0;32m-> 1240\u001b[0;31m         \u001b[0;32mreturn\u001b[0m \u001b[0mcast\u001b[0m\u001b[0;34m(\u001b[0m\u001b[0mResponseT\u001b[0m\u001b[0;34m,\u001b[0m \u001b[0mself\u001b[0m\u001b[0;34m.\u001b[0m\u001b[0mrequest\u001b[0m\u001b[0;34m(\u001b[0m\u001b[0mcast_to\u001b[0m\u001b[0;34m,\u001b[0m \u001b[0mopts\u001b[0m\u001b[0;34m,\u001b[0m \u001b[0mstream\u001b[0m\u001b[0;34m=\u001b[0m\u001b[0mstream\u001b[0m\u001b[0;34m,\u001b[0m \u001b[0mstream_cls\u001b[0m\u001b[0;34m=\u001b[0m\u001b[0mstream_cls\u001b[0m\u001b[0;34m)\u001b[0m\u001b[0;34m)\u001b[0m\u001b[0;34m\u001b[0m\u001b[0;34m\u001b[0m\u001b[0m\n\u001b[0m\u001b[1;32m   1241\u001b[0m \u001b[0;34m\u001b[0m\u001b[0m\n\u001b[1;32m   1242\u001b[0m     def patch(\n",
            "\u001b[0;32m/usr/local/lib/python3.10/dist-packages/openai/_base_client.py\u001b[0m in \u001b[0;36mrequest\u001b[0;34m(self, cast_to, options, remaining_retries, stream, stream_cls)\u001b[0m\n\u001b[1;32m    919\u001b[0m         \u001b[0mstream_cls\u001b[0m\u001b[0;34m:\u001b[0m \u001b[0mtype\u001b[0m\u001b[0;34m[\u001b[0m\u001b[0m_StreamT\u001b[0m\u001b[0;34m]\u001b[0m \u001b[0;34m|\u001b[0m \u001b[0;32mNone\u001b[0m \u001b[0;34m=\u001b[0m \u001b[0;32mNone\u001b[0m\u001b[0;34m,\u001b[0m\u001b[0;34m\u001b[0m\u001b[0;34m\u001b[0m\u001b[0m\n\u001b[1;32m    920\u001b[0m     ) -> ResponseT | _StreamT:\n\u001b[0;32m--> 921\u001b[0;31m         return self._request(\n\u001b[0m\u001b[1;32m    922\u001b[0m             \u001b[0mcast_to\u001b[0m\u001b[0;34m=\u001b[0m\u001b[0mcast_to\u001b[0m\u001b[0;34m,\u001b[0m\u001b[0;34m\u001b[0m\u001b[0;34m\u001b[0m\u001b[0m\n\u001b[1;32m    923\u001b[0m             \u001b[0moptions\u001b[0m\u001b[0;34m=\u001b[0m\u001b[0moptions\u001b[0m\u001b[0;34m,\u001b[0m\u001b[0;34m\u001b[0m\u001b[0;34m\u001b[0m\u001b[0m\n",
            "\u001b[0;32m/usr/local/lib/python3.10/dist-packages/openai/_base_client.py\u001b[0m in \u001b[0;36m_request\u001b[0;34m(self, cast_to, options, remaining_retries, stream, stream_cls)\u001b[0m\n\u001b[1;32m   1003\u001b[0m             \u001b[0;32mif\u001b[0m \u001b[0mretries\u001b[0m \u001b[0;34m>\u001b[0m \u001b[0;36m0\u001b[0m \u001b[0;32mand\u001b[0m \u001b[0mself\u001b[0m\u001b[0;34m.\u001b[0m\u001b[0m_should_retry\u001b[0m\u001b[0;34m(\u001b[0m\u001b[0merr\u001b[0m\u001b[0;34m.\u001b[0m\u001b[0mresponse\u001b[0m\u001b[0;34m)\u001b[0m\u001b[0;34m:\u001b[0m\u001b[0;34m\u001b[0m\u001b[0;34m\u001b[0m\u001b[0m\n\u001b[1;32m   1004\u001b[0m                 \u001b[0merr\u001b[0m\u001b[0;34m.\u001b[0m\u001b[0mresponse\u001b[0m\u001b[0;34m.\u001b[0m\u001b[0mclose\u001b[0m\u001b[0;34m(\u001b[0m\u001b[0;34m)\u001b[0m\u001b[0;34m\u001b[0m\u001b[0;34m\u001b[0m\u001b[0m\n\u001b[0;32m-> 1005\u001b[0;31m                 return self._retry_request(\n\u001b[0m\u001b[1;32m   1006\u001b[0m                     \u001b[0moptions\u001b[0m\u001b[0;34m,\u001b[0m\u001b[0;34m\u001b[0m\u001b[0;34m\u001b[0m\u001b[0m\n\u001b[1;32m   1007\u001b[0m                     \u001b[0mcast_to\u001b[0m\u001b[0;34m,\u001b[0m\u001b[0;34m\u001b[0m\u001b[0;34m\u001b[0m\u001b[0m\n",
            "\u001b[0;32m/usr/local/lib/python3.10/dist-packages/openai/_base_client.py\u001b[0m in \u001b[0;36m_retry_request\u001b[0;34m(self, options, cast_to, remaining_retries, response_headers, stream, stream_cls)\u001b[0m\n\u001b[1;32m   1051\u001b[0m         \u001b[0mtime\u001b[0m\u001b[0;34m.\u001b[0m\u001b[0msleep\u001b[0m\u001b[0;34m(\u001b[0m\u001b[0mtimeout\u001b[0m\u001b[0;34m)\u001b[0m\u001b[0;34m\u001b[0m\u001b[0;34m\u001b[0m\u001b[0m\n\u001b[1;32m   1052\u001b[0m \u001b[0;34m\u001b[0m\u001b[0m\n\u001b[0;32m-> 1053\u001b[0;31m         return self._request(\n\u001b[0m\u001b[1;32m   1054\u001b[0m             \u001b[0moptions\u001b[0m\u001b[0;34m=\u001b[0m\u001b[0moptions\u001b[0m\u001b[0;34m,\u001b[0m\u001b[0;34m\u001b[0m\u001b[0;34m\u001b[0m\u001b[0m\n\u001b[1;32m   1055\u001b[0m             \u001b[0mcast_to\u001b[0m\u001b[0;34m=\u001b[0m\u001b[0mcast_to\u001b[0m\u001b[0;34m,\u001b[0m\u001b[0;34m\u001b[0m\u001b[0;34m\u001b[0m\u001b[0m\n",
            "\u001b[0;32m/usr/local/lib/python3.10/dist-packages/openai/_base_client.py\u001b[0m in \u001b[0;36m_request\u001b[0;34m(self, cast_to, options, remaining_retries, stream, stream_cls)\u001b[0m\n\u001b[1;32m   1003\u001b[0m             \u001b[0;32mif\u001b[0m \u001b[0mretries\u001b[0m \u001b[0;34m>\u001b[0m \u001b[0;36m0\u001b[0m \u001b[0;32mand\u001b[0m \u001b[0mself\u001b[0m\u001b[0;34m.\u001b[0m\u001b[0m_should_retry\u001b[0m\u001b[0;34m(\u001b[0m\u001b[0merr\u001b[0m\u001b[0;34m.\u001b[0m\u001b[0mresponse\u001b[0m\u001b[0;34m)\u001b[0m\u001b[0;34m:\u001b[0m\u001b[0;34m\u001b[0m\u001b[0;34m\u001b[0m\u001b[0m\n\u001b[1;32m   1004\u001b[0m                 \u001b[0merr\u001b[0m\u001b[0;34m.\u001b[0m\u001b[0mresponse\u001b[0m\u001b[0;34m.\u001b[0m\u001b[0mclose\u001b[0m\u001b[0;34m(\u001b[0m\u001b[0;34m)\u001b[0m\u001b[0;34m\u001b[0m\u001b[0;34m\u001b[0m\u001b[0m\n\u001b[0;32m-> 1005\u001b[0;31m                 return self._retry_request(\n\u001b[0m\u001b[1;32m   1006\u001b[0m                     \u001b[0moptions\u001b[0m\u001b[0;34m,\u001b[0m\u001b[0;34m\u001b[0m\u001b[0;34m\u001b[0m\u001b[0m\n\u001b[1;32m   1007\u001b[0m                     \u001b[0mcast_to\u001b[0m\u001b[0;34m,\u001b[0m\u001b[0;34m\u001b[0m\u001b[0;34m\u001b[0m\u001b[0m\n",
            "\u001b[0;32m/usr/local/lib/python3.10/dist-packages/openai/_base_client.py\u001b[0m in \u001b[0;36m_retry_request\u001b[0;34m(self, options, cast_to, remaining_retries, response_headers, stream, stream_cls)\u001b[0m\n\u001b[1;32m   1051\u001b[0m         \u001b[0mtime\u001b[0m\u001b[0;34m.\u001b[0m\u001b[0msleep\u001b[0m\u001b[0;34m(\u001b[0m\u001b[0mtimeout\u001b[0m\u001b[0;34m)\u001b[0m\u001b[0;34m\u001b[0m\u001b[0;34m\u001b[0m\u001b[0m\n\u001b[1;32m   1052\u001b[0m \u001b[0;34m\u001b[0m\u001b[0m\n\u001b[0;32m-> 1053\u001b[0;31m         return self._request(\n\u001b[0m\u001b[1;32m   1054\u001b[0m             \u001b[0moptions\u001b[0m\u001b[0;34m=\u001b[0m\u001b[0moptions\u001b[0m\u001b[0;34m,\u001b[0m\u001b[0;34m\u001b[0m\u001b[0;34m\u001b[0m\u001b[0m\n\u001b[1;32m   1055\u001b[0m             \u001b[0mcast_to\u001b[0m\u001b[0;34m=\u001b[0m\u001b[0mcast_to\u001b[0m\u001b[0;34m,\u001b[0m\u001b[0;34m\u001b[0m\u001b[0;34m\u001b[0m\u001b[0m\n",
            "\u001b[0;32m/usr/local/lib/python3.10/dist-packages/openai/_base_client.py\u001b[0m in \u001b[0;36m_request\u001b[0;34m(self, cast_to, options, remaining_retries, stream, stream_cls)\u001b[0m\n\u001b[1;32m   1018\u001b[0m \u001b[0;34m\u001b[0m\u001b[0m\n\u001b[1;32m   1019\u001b[0m             \u001b[0mlog\u001b[0m\u001b[0;34m.\u001b[0m\u001b[0mdebug\u001b[0m\u001b[0;34m(\u001b[0m\u001b[0;34m\"Re-raising status error\"\u001b[0m\u001b[0;34m)\u001b[0m\u001b[0;34m\u001b[0m\u001b[0;34m\u001b[0m\u001b[0m\n\u001b[0;32m-> 1020\u001b[0;31m             \u001b[0;32mraise\u001b[0m \u001b[0mself\u001b[0m\u001b[0;34m.\u001b[0m\u001b[0m_make_status_error_from_response\u001b[0m\u001b[0;34m(\u001b[0m\u001b[0merr\u001b[0m\u001b[0;34m.\u001b[0m\u001b[0mresponse\u001b[0m\u001b[0;34m)\u001b[0m \u001b[0;32mfrom\u001b[0m \u001b[0;32mNone\u001b[0m\u001b[0;34m\u001b[0m\u001b[0;34m\u001b[0m\u001b[0m\n\u001b[0m\u001b[1;32m   1021\u001b[0m \u001b[0;34m\u001b[0m\u001b[0m\n\u001b[1;32m   1022\u001b[0m         return self._process_response(\n",
            "\u001b[0;31mRateLimitError\u001b[0m: Error code: 429 - {'error': {'message': 'You exceeded your current quota, please check your plan and billing details. For more information on this error, read the docs: https://platform.openai.com/docs/guides/error-codes/api-errors.', 'type': 'insufficient_quota', 'param': None, 'code': 'insufficient_quota'}}"
          ]
        }
      ]
    },
    {
      "cell_type": "code",
      "source": [],
      "metadata": {
        "id": "TWEbKMX4L0Qp"
      },
      "execution_count": null,
      "outputs": []
    }
  ]
}