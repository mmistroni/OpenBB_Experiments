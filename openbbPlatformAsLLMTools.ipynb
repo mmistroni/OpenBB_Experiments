{
  "cells": [
    {
      "cell_type": "markdown",
      "metadata": {
        "id": "view-in-github",
        "colab_type": "text"
      },
      "source": [
        "<a href=\"https://colab.research.google.com/github/mmistroni/OpenBB_Experiments/blob/main/openbbPlatformAsLLMTools.ipynb\" target=\"_parent\"><img src=\"https://colab.research.google.com/assets/colab-badge.svg\" alt=\"Open In Colab\"/></a>"
      ]
    },
    {
      "cell_type": "markdown",
      "metadata": {
        "id": "86fD0l2_HQnE"
      },
      "source": [
        "# OpenBB Tools"
      ]
    },
    {
      "cell_type": "markdown",
      "metadata": {
        "id": "xIXVduLoHQnG"
      },
      "source": [
        "## Getting Started"
      ]
    },
    {
      "cell_type": "markdown",
      "metadata": {
        "id": "Lgx0Gz7jHQnG"
      },
      "source": [
        "### Install dependencies"
      ]
    },
    {
      "cell_type": "code",
      "execution_count": 1,
      "metadata": {
        "colab": {
          "base_uri": "https://localhost:8080/"
        },
        "id": "YJPCzdV-HQnH",
        "outputId": "d4100237-4864-4ef8-d664-565242f16892"
      },
      "outputs": [
        {
          "output_type": "stream",
          "name": "stdout",
          "text": [
            "Requirement already satisfied: openbb in /usr/local/lib/python3.10/dist-packages (4.2.3)\n",
            "Requirement already satisfied: openbb-benzinga<2.0.0,>=1.2.3 in /usr/local/lib/python3.10/dist-packages (from openbb) (1.2.3)\n",
            "Requirement already satisfied: openbb-commodity<2.0.0,>=1.1.3 in /usr/local/lib/python3.10/dist-packages (from openbb) (1.1.3)\n",
            "Requirement already satisfied: openbb-core<2.0.0,>=1.2.5 in /usr/local/lib/python3.10/dist-packages (from openbb) (1.2.5)\n",
            "Requirement already satisfied: openbb-crypto<2.0.0,>=1.2.3 in /usr/local/lib/python3.10/dist-packages (from openbb) (1.2.3)\n",
            "Requirement already satisfied: openbb-currency<2.0.0,>=1.2.3 in /usr/local/lib/python3.10/dist-packages (from openbb) (1.2.3)\n",
            "Requirement already satisfied: openbb-derivatives<2.0.0,>=1.2.3 in /usr/local/lib/python3.10/dist-packages (from openbb) (1.2.4)\n",
            "Requirement already satisfied: openbb-econdb<2.0.0,>=1.1.3 in /usr/local/lib/python3.10/dist-packages (from openbb) (1.1.3)\n",
            "Requirement already satisfied: openbb-economy<2.0.0,>=1.2.3 in /usr/local/lib/python3.10/dist-packages (from openbb) (1.2.3)\n",
            "Requirement already satisfied: openbb-equity<2.0.0,>=1.2.3 in /usr/local/lib/python3.10/dist-packages (from openbb) (1.2.3)\n",
            "Requirement already satisfied: openbb-etf<2.0.0,>=1.2.3 in /usr/local/lib/python3.10/dist-packages (from openbb) (1.2.3)\n",
            "Requirement already satisfied: openbb-federal-reserve<2.0.0,>=1.2.3 in /usr/local/lib/python3.10/dist-packages (from openbb) (1.2.3)\n",
            "Requirement already satisfied: openbb-fixedincome<2.0.0,>=1.2.3 in /usr/local/lib/python3.10/dist-packages (from openbb) (1.2.3)\n",
            "Requirement already satisfied: openbb-fmp<2.0.0,>=1.2.3 in /usr/local/lib/python3.10/dist-packages (from openbb) (1.2.3)\n",
            "Requirement already satisfied: openbb-fred<2.0.0,>=1.2.3 in /usr/local/lib/python3.10/dist-packages (from openbb) (1.2.3)\n",
            "Requirement already satisfied: openbb-index<2.0.0,>=1.2.3 in /usr/local/lib/python3.10/dist-packages (from openbb) (1.2.3)\n",
            "Requirement already satisfied: openbb-intrinio<2.0.0,>=1.2.3 in /usr/local/lib/python3.10/dist-packages (from openbb) (1.2.4)\n",
            "Requirement already satisfied: openbb-news<2.0.0,>=1.2.3 in /usr/local/lib/python3.10/dist-packages (from openbb) (1.2.3)\n",
            "Requirement already satisfied: openbb-oecd<2.0.0,>=1.2.3 in /usr/local/lib/python3.10/dist-packages (from openbb) (1.2.3)\n",
            "Requirement already satisfied: openbb-polygon<2.0.0,>=1.2.3 in /usr/local/lib/python3.10/dist-packages (from openbb) (1.2.3)\n",
            "Requirement already satisfied: openbb-regulators<2.0.0,>=1.2.3 in /usr/local/lib/python3.10/dist-packages (from openbb) (1.2.3)\n",
            "Requirement already satisfied: openbb-sec<2.0.0,>=1.2.3 in /usr/local/lib/python3.10/dist-packages (from openbb) (1.2.3)\n",
            "Requirement already satisfied: openbb-tiingo<2.0.0,>=1.2.3 in /usr/local/lib/python3.10/dist-packages (from openbb) (1.2.3)\n",
            "Requirement already satisfied: openbb-tradingeconomics<2.0.0,>=1.2.3 in /usr/local/lib/python3.10/dist-packages (from openbb) (1.2.3)\n",
            "Requirement already satisfied: openbb-yfinance<2.0.0,>=1.2.3 in /usr/local/lib/python3.10/dist-packages (from openbb) (1.2.3)\n",
            "Requirement already satisfied: aiohttp<4.0.0,>=3.9.5 in /usr/local/lib/python3.10/dist-packages (from openbb-core<2.0.0,>=1.2.5->openbb) (3.9.5)\n",
            "Requirement already satisfied: fastapi<0.112.0,>=0.111.0 in /usr/local/lib/python3.10/dist-packages (from openbb-core<2.0.0,>=1.2.5->openbb) (0.111.0)\n",
            "Requirement already satisfied: html5lib<2.0,>=1.1 in /usr/local/lib/python3.10/dist-packages (from openbb-core<2.0.0,>=1.2.5->openbb) (1.1)\n",
            "Requirement already satisfied: importlib-metadata<7.0.0,>=6.8.0 in /usr/local/lib/python3.10/dist-packages (from openbb-core<2.0.0,>=1.2.5->openbb) (6.11.0)\n",
            "Requirement already satisfied: pandas>=1.5.3 in /usr/local/lib/python3.10/dist-packages (from openbb-core<2.0.0,>=1.2.5->openbb) (2.0.3)\n",
            "Requirement already satisfied: posthog<4.0.0,>=3.3.1 in /usr/local/lib/python3.10/dist-packages (from openbb-core<2.0.0,>=1.2.5->openbb) (3.5.0)\n",
            "Requirement already satisfied: pydantic<3.0.0,>=2.5.1 in /usr/local/lib/python3.10/dist-packages (from openbb-core<2.0.0,>=1.2.5->openbb) (2.7.4)\n",
            "Requirement already satisfied: pyjwt<3.0.0,>=2.8.0 in /usr/local/lib/python3.10/dist-packages (from openbb-core<2.0.0,>=1.2.5->openbb) (2.8.0)\n",
            "Requirement already satisfied: python-dotenv<2.0.0,>=1.0.0 in /usr/local/lib/python3.10/dist-packages (from openbb-core<2.0.0,>=1.2.5->openbb) (1.0.1)\n",
            "Requirement already satisfied: python-multipart<0.0.8,>=0.0.7 in /usr/local/lib/python3.10/dist-packages (from openbb-core<2.0.0,>=1.2.5->openbb) (0.0.7)\n",
            "Requirement already satisfied: requests<3.0.0,>=2.32.1 in /usr/local/lib/python3.10/dist-packages (from openbb-core<2.0.0,>=1.2.5->openbb) (2.32.3)\n",
            "Requirement already satisfied: ruff>=0.1.6 in /usr/local/lib/python3.10/dist-packages (from openbb-core<2.0.0,>=1.2.5->openbb) (0.4.10)\n",
            "Requirement already satisfied: uuid7<0.2.0,>=0.1.0 in /usr/local/lib/python3.10/dist-packages (from openbb-core<2.0.0,>=1.2.5->openbb) (0.1.0)\n",
            "Requirement already satisfied: uvicorn<0.25,>=0.24 in /usr/local/lib/python3.10/dist-packages (from openbb-core<2.0.0,>=1.2.5->openbb) (0.24.0.post1)\n",
            "Requirement already satisfied: websockets<13.0,>=12.0 in /usr/local/lib/python3.10/dist-packages (from openbb-core<2.0.0,>=1.2.5->openbb) (12.0)\n",
            "Requirement already satisfied: aiohttp-client-cache<0.12.0,>=0.11.0 in /usr/local/lib/python3.10/dist-packages (from openbb-econdb<2.0.0,>=1.1.3->openbb) (0.11.0)\n",
            "Requirement already satisfied: aiosqlite<0.21.0,>=0.20.0 in /usr/local/lib/python3.10/dist-packages (from openbb-econdb<2.0.0,>=1.1.3->openbb) (0.20.0)\n",
            "Requirement already satisfied: requests-cache<2.0.0,>=1.1.0 in /usr/local/lib/python3.10/dist-packages (from openbb-intrinio<2.0.0,>=1.2.3->openbb) (1.2.1)\n",
            "Requirement already satisfied: defusedxml<0.9.0,>=0.8.0rc2 in /usr/local/lib/python3.10/dist-packages (from openbb-oecd<2.0.0,>=1.2.3->openbb) (0.8.0rc2)\n",
            "Requirement already satisfied: urllib3>1.26.16 in /usr/local/lib/python3.10/dist-packages (from openbb-oecd<2.0.0,>=1.2.3->openbb) (2.0.7)\n",
            "Requirement already satisfied: bs4<0.0.3,>=0.0.2 in /usr/local/lib/python3.10/dist-packages (from openbb-sec<2.0.0,>=1.2.3->openbb) (0.0.2)\n",
            "Requirement already satisfied: lxml<6.0.0,>=5.2.1 in /usr/local/lib/python3.10/dist-packages (from openbb-sec<2.0.0,>=1.2.3->openbb) (5.2.2)\n",
            "Requirement already satisfied: xmltodict<0.14.0,>=0.13.0 in /usr/local/lib/python3.10/dist-packages (from openbb-sec<2.0.0,>=1.2.3->openbb) (0.13.0)\n",
            "Requirement already satisfied: yfinance<0.3.0,>=0.2.27 in /usr/local/lib/python3.10/dist-packages (from openbb-yfinance<2.0.0,>=1.2.3->openbb) (0.2.40)\n",
            "Requirement already satisfied: aiosignal>=1.1.2 in /usr/local/lib/python3.10/dist-packages (from aiohttp<4.0.0,>=3.9.5->openbb-core<2.0.0,>=1.2.5->openbb) (1.3.1)\n",
            "Requirement already satisfied: attrs>=17.3.0 in /usr/local/lib/python3.10/dist-packages (from aiohttp<4.0.0,>=3.9.5->openbb-core<2.0.0,>=1.2.5->openbb) (23.2.0)\n",
            "Requirement already satisfied: frozenlist>=1.1.1 in /usr/local/lib/python3.10/dist-packages (from aiohttp<4.0.0,>=3.9.5->openbb-core<2.0.0,>=1.2.5->openbb) (1.4.1)\n",
            "Requirement already satisfied: multidict<7.0,>=4.5 in /usr/local/lib/python3.10/dist-packages (from aiohttp<4.0.0,>=3.9.5->openbb-core<2.0.0,>=1.2.5->openbb) (6.0.5)\n",
            "Requirement already satisfied: yarl<2.0,>=1.0 in /usr/local/lib/python3.10/dist-packages (from aiohttp<4.0.0,>=3.9.5->openbb-core<2.0.0,>=1.2.5->openbb) (1.9.4)\n",
            "Requirement already satisfied: async-timeout<5.0,>=4.0 in /usr/local/lib/python3.10/dist-packages (from aiohttp<4.0.0,>=3.9.5->openbb-core<2.0.0,>=1.2.5->openbb) (4.0.3)\n",
            "Requirement already satisfied: itsdangerous>=2.0 in /usr/local/lib/python3.10/dist-packages (from aiohttp-client-cache<0.12.0,>=0.11.0->openbb-econdb<2.0.0,>=1.1.3->openbb) (2.2.0)\n",
            "Requirement already satisfied: url-normalize<2.0,>=1.4 in /usr/local/lib/python3.10/dist-packages (from aiohttp-client-cache<0.12.0,>=0.11.0->openbb-econdb<2.0.0,>=1.1.3->openbb) (1.4.3)\n",
            "Requirement already satisfied: typing_extensions>=4.0 in /usr/local/lib/python3.10/dist-packages (from aiosqlite<0.21.0,>=0.20.0->openbb-econdb<2.0.0,>=1.1.3->openbb) (4.12.2)\n",
            "Requirement already satisfied: beautifulsoup4 in /usr/local/lib/python3.10/dist-packages (from bs4<0.0.3,>=0.0.2->openbb-sec<2.0.0,>=1.2.3->openbb) (4.12.3)\n",
            "Requirement already satisfied: starlette<0.38.0,>=0.37.2 in /usr/local/lib/python3.10/dist-packages (from fastapi<0.112.0,>=0.111.0->openbb-core<2.0.0,>=1.2.5->openbb) (0.37.2)\n",
            "Requirement already satisfied: fastapi-cli>=0.0.2 in /usr/local/lib/python3.10/dist-packages (from fastapi<0.112.0,>=0.111.0->openbb-core<2.0.0,>=1.2.5->openbb) (0.0.4)\n",
            "Requirement already satisfied: httpx>=0.23.0 in /usr/local/lib/python3.10/dist-packages (from fastapi<0.112.0,>=0.111.0->openbb-core<2.0.0,>=1.2.5->openbb) (0.27.0)\n",
            "Requirement already satisfied: jinja2>=2.11.2 in /usr/local/lib/python3.10/dist-packages (from fastapi<0.112.0,>=0.111.0->openbb-core<2.0.0,>=1.2.5->openbb) (3.1.4)\n",
            "Requirement already satisfied: ujson!=4.0.2,!=4.1.0,!=4.2.0,!=4.3.0,!=5.0.0,!=5.1.0,>=4.0.1 in /usr/local/lib/python3.10/dist-packages (from fastapi<0.112.0,>=0.111.0->openbb-core<2.0.0,>=1.2.5->openbb) (5.10.0)\n",
            "Requirement already satisfied: orjson>=3.2.1 in /usr/local/lib/python3.10/dist-packages (from fastapi<0.112.0,>=0.111.0->openbb-core<2.0.0,>=1.2.5->openbb) (3.10.5)\n",
            "Requirement already satisfied: email_validator>=2.0.0 in /usr/local/lib/python3.10/dist-packages (from fastapi<0.112.0,>=0.111.0->openbb-core<2.0.0,>=1.2.5->openbb) (2.2.0)\n",
            "Requirement already satisfied: six>=1.9 in /usr/local/lib/python3.10/dist-packages (from html5lib<2.0,>=1.1->openbb-core<2.0.0,>=1.2.5->openbb) (1.16.0)\n",
            "Requirement already satisfied: webencodings in /usr/local/lib/python3.10/dist-packages (from html5lib<2.0,>=1.1->openbb-core<2.0.0,>=1.2.5->openbb) (0.5.1)\n",
            "Requirement already satisfied: zipp>=0.5 in /usr/local/lib/python3.10/dist-packages (from importlib-metadata<7.0.0,>=6.8.0->openbb-core<2.0.0,>=1.2.5->openbb) (3.19.2)\n",
            "Requirement already satisfied: python-dateutil>=2.8.2 in /usr/local/lib/python3.10/dist-packages (from pandas>=1.5.3->openbb-core<2.0.0,>=1.2.5->openbb) (2.8.2)\n",
            "Requirement already satisfied: pytz>=2020.1 in /usr/local/lib/python3.10/dist-packages (from pandas>=1.5.3->openbb-core<2.0.0,>=1.2.5->openbb) (2023.4)\n",
            "Requirement already satisfied: tzdata>=2022.1 in /usr/local/lib/python3.10/dist-packages (from pandas>=1.5.3->openbb-core<2.0.0,>=1.2.5->openbb) (2024.1)\n",
            "Requirement already satisfied: numpy>=1.21.0 in /usr/local/lib/python3.10/dist-packages (from pandas>=1.5.3->openbb-core<2.0.0,>=1.2.5->openbb) (1.25.2)\n",
            "Requirement already satisfied: monotonic>=1.5 in /usr/local/lib/python3.10/dist-packages (from posthog<4.0.0,>=3.3.1->openbb-core<2.0.0,>=1.2.5->openbb) (1.6)\n",
            "Requirement already satisfied: backoff>=1.10.0 in /usr/local/lib/python3.10/dist-packages (from posthog<4.0.0,>=3.3.1->openbb-core<2.0.0,>=1.2.5->openbb) (2.2.1)\n",
            "Requirement already satisfied: annotated-types>=0.4.0 in /usr/local/lib/python3.10/dist-packages (from pydantic<3.0.0,>=2.5.1->openbb-core<2.0.0,>=1.2.5->openbb) (0.7.0)\n",
            "Requirement already satisfied: pydantic-core==2.18.4 in /usr/local/lib/python3.10/dist-packages (from pydantic<3.0.0,>=2.5.1->openbb-core<2.0.0,>=1.2.5->openbb) (2.18.4)\n",
            "Requirement already satisfied: charset-normalizer<4,>=2 in /usr/local/lib/python3.10/dist-packages (from requests<3.0.0,>=2.32.1->openbb-core<2.0.0,>=1.2.5->openbb) (3.3.2)\n",
            "Requirement already satisfied: idna<4,>=2.5 in /usr/local/lib/python3.10/dist-packages (from requests<3.0.0,>=2.32.1->openbb-core<2.0.0,>=1.2.5->openbb) (3.7)\n",
            "Requirement already satisfied: certifi>=2017.4.17 in /usr/local/lib/python3.10/dist-packages (from requests<3.0.0,>=2.32.1->openbb-core<2.0.0,>=1.2.5->openbb) (2024.6.2)\n",
            "Requirement already satisfied: cattrs>=22.2 in /usr/local/lib/python3.10/dist-packages (from requests-cache<2.0.0,>=1.1.0->openbb-intrinio<2.0.0,>=1.2.3->openbb) (23.2.3)\n",
            "Requirement already satisfied: platformdirs>=2.5 in /usr/local/lib/python3.10/dist-packages (from requests-cache<2.0.0,>=1.1.0->openbb-intrinio<2.0.0,>=1.2.3->openbb) (4.2.2)\n",
            "Requirement already satisfied: click>=7.0 in /usr/local/lib/python3.10/dist-packages (from uvicorn<0.25,>=0.24->openbb-core<2.0.0,>=1.2.5->openbb) (8.1.7)\n",
            "Requirement already satisfied: h11>=0.8 in /usr/local/lib/python3.10/dist-packages (from uvicorn<0.25,>=0.24->openbb-core<2.0.0,>=1.2.5->openbb) (0.14.0)\n",
            "Requirement already satisfied: multitasking>=0.0.7 in /usr/local/lib/python3.10/dist-packages (from yfinance<0.3.0,>=0.2.27->openbb-yfinance<2.0.0,>=1.2.3->openbb) (0.0.11)\n",
            "Requirement already satisfied: frozendict>=2.3.4 in /usr/local/lib/python3.10/dist-packages (from yfinance<0.3.0,>=0.2.27->openbb-yfinance<2.0.0,>=1.2.3->openbb) (2.4.4)\n",
            "Requirement already satisfied: peewee>=3.16.2 in /usr/local/lib/python3.10/dist-packages (from yfinance<0.3.0,>=0.2.27->openbb-yfinance<2.0.0,>=1.2.3->openbb) (3.17.5)\n",
            "Requirement already satisfied: soupsieve>1.2 in /usr/local/lib/python3.10/dist-packages (from beautifulsoup4->bs4<0.0.3,>=0.0.2->openbb-sec<2.0.0,>=1.2.3->openbb) (2.5)\n",
            "Requirement already satisfied: exceptiongroup>=1.1.1 in /usr/local/lib/python3.10/dist-packages (from cattrs>=22.2->requests-cache<2.0.0,>=1.1.0->openbb-intrinio<2.0.0,>=1.2.3->openbb) (1.2.1)\n",
            "Requirement already satisfied: dnspython>=2.0.0 in /usr/local/lib/python3.10/dist-packages (from email_validator>=2.0.0->fastapi<0.112.0,>=0.111.0->openbb-core<2.0.0,>=1.2.5->openbb) (2.6.1)\n",
            "Requirement already satisfied: typer>=0.12.3 in /usr/local/lib/python3.10/dist-packages (from fastapi-cli>=0.0.2->fastapi<0.112.0,>=0.111.0->openbb-core<2.0.0,>=1.2.5->openbb) (0.12.3)\n",
            "Requirement already satisfied: anyio in /usr/local/lib/python3.10/dist-packages (from httpx>=0.23.0->fastapi<0.112.0,>=0.111.0->openbb-core<2.0.0,>=1.2.5->openbb) (3.7.1)\n",
            "Requirement already satisfied: httpcore==1.* in /usr/local/lib/python3.10/dist-packages (from httpx>=0.23.0->fastapi<0.112.0,>=0.111.0->openbb-core<2.0.0,>=1.2.5->openbb) (1.0.5)\n",
            "Requirement already satisfied: sniffio in /usr/local/lib/python3.10/dist-packages (from httpx>=0.23.0->fastapi<0.112.0,>=0.111.0->openbb-core<2.0.0,>=1.2.5->openbb) (1.3.1)\n",
            "Requirement already satisfied: MarkupSafe>=2.0 in /usr/local/lib/python3.10/dist-packages (from jinja2>=2.11.2->fastapi<0.112.0,>=0.111.0->openbb-core<2.0.0,>=1.2.5->openbb) (2.1.5)\n",
            "Requirement already satisfied: httptools>=0.5.0 in /usr/local/lib/python3.10/dist-packages (from uvicorn<0.25,>=0.24->openbb-core<2.0.0,>=1.2.5->openbb) (0.6.1)\n",
            "Requirement already satisfied: pyyaml>=5.1 in /usr/local/lib/python3.10/dist-packages (from uvicorn<0.25,>=0.24->openbb-core<2.0.0,>=1.2.5->openbb) (6.0.1)\n",
            "Requirement already satisfied: uvloop!=0.15.0,!=0.15.1,>=0.14.0 in /usr/local/lib/python3.10/dist-packages (from uvicorn<0.25,>=0.24->openbb-core<2.0.0,>=1.2.5->openbb) (0.19.0)\n",
            "Requirement already satisfied: watchfiles>=0.13 in /usr/local/lib/python3.10/dist-packages (from uvicorn<0.25,>=0.24->openbb-core<2.0.0,>=1.2.5->openbb) (0.22.0)\n",
            "Requirement already satisfied: shellingham>=1.3.0 in /usr/local/lib/python3.10/dist-packages (from typer>=0.12.3->fastapi-cli>=0.0.2->fastapi<0.112.0,>=0.111.0->openbb-core<2.0.0,>=1.2.5->openbb) (1.5.4)\n",
            "Requirement already satisfied: rich>=10.11.0 in /usr/local/lib/python3.10/dist-packages (from typer>=0.12.3->fastapi-cli>=0.0.2->fastapi<0.112.0,>=0.111.0->openbb-core<2.0.0,>=1.2.5->openbb) (13.7.1)\n",
            "Requirement already satisfied: markdown-it-py>=2.2.0 in /usr/local/lib/python3.10/dist-packages (from rich>=10.11.0->typer>=0.12.3->fastapi-cli>=0.0.2->fastapi<0.112.0,>=0.111.0->openbb-core<2.0.0,>=1.2.5->openbb) (3.0.0)\n",
            "Requirement already satisfied: pygments<3.0.0,>=2.13.0 in /usr/local/lib/python3.10/dist-packages (from rich>=10.11.0->typer>=0.12.3->fastapi-cli>=0.0.2->fastapi<0.112.0,>=0.111.0->openbb-core<2.0.0,>=1.2.5->openbb) (2.16.1)\n",
            "Requirement already satisfied: mdurl~=0.1 in /usr/local/lib/python3.10/dist-packages (from markdown-it-py>=2.2.0->rich>=10.11.0->typer>=0.12.3->fastapi-cli>=0.0.2->fastapi<0.112.0,>=0.111.0->openbb-core<2.0.0,>=1.2.5->openbb) (0.1.2)\n",
            "Requirement already satisfied: openbb-charting in /usr/local/lib/python3.10/dist-packages (2.1.3)\n",
            "Requirement already satisfied: nbformat<6.0.0,>=5.9.2 in /usr/local/lib/python3.10/dist-packages (from openbb-charting) (5.10.4)\n",
            "Requirement already satisfied: openbb-core<2.0.0,>=1.2.4 in /usr/local/lib/python3.10/dist-packages (from openbb-charting) (1.2.5)\n",
            "Requirement already satisfied: pandas-ta<0.4.0,>=0.3.14b in /usr/local/lib/python3.10/dist-packages (from openbb-charting) (0.3.14b0)\n",
            "Requirement already satisfied: plotly<6.0.0,>=5.17.0 in /usr/local/lib/python3.10/dist-packages (from openbb-charting) (5.22.0)\n",
            "Requirement already satisfied: pywry<0.7.0,>=0.6.1 in /usr/local/lib/python3.10/dist-packages (from openbb-charting) (0.6.2)\n",
            "Requirement already satisfied: scipy<2.0.0,>=1.10.0 in /usr/local/lib/python3.10/dist-packages (from openbb-charting) (1.11.4)\n",
            "Requirement already satisfied: statsmodels<0.15.0,>=0.14.0 in /usr/local/lib/python3.10/dist-packages (from openbb-charting) (0.14.2)\n",
            "Requirement already satisfied: fastjsonschema>=2.15 in /usr/local/lib/python3.10/dist-packages (from nbformat<6.0.0,>=5.9.2->openbb-charting) (2.20.0)\n",
            "Requirement already satisfied: jsonschema>=2.6 in /usr/local/lib/python3.10/dist-packages (from nbformat<6.0.0,>=5.9.2->openbb-charting) (4.19.2)\n",
            "Requirement already satisfied: jupyter-core!=5.0.*,>=4.12 in /usr/local/lib/python3.10/dist-packages (from nbformat<6.0.0,>=5.9.2->openbb-charting) (5.7.2)\n",
            "Requirement already satisfied: traitlets>=5.1 in /usr/local/lib/python3.10/dist-packages (from nbformat<6.0.0,>=5.9.2->openbb-charting) (5.7.1)\n",
            "Requirement already satisfied: aiohttp<4.0.0,>=3.9.5 in /usr/local/lib/python3.10/dist-packages (from openbb-core<2.0.0,>=1.2.4->openbb-charting) (3.9.5)\n",
            "Requirement already satisfied: fastapi<0.112.0,>=0.111.0 in /usr/local/lib/python3.10/dist-packages (from openbb-core<2.0.0,>=1.2.4->openbb-charting) (0.111.0)\n",
            "Requirement already satisfied: html5lib<2.0,>=1.1 in /usr/local/lib/python3.10/dist-packages (from openbb-core<2.0.0,>=1.2.4->openbb-charting) (1.1)\n",
            "Requirement already satisfied: importlib-metadata<7.0.0,>=6.8.0 in /usr/local/lib/python3.10/dist-packages (from openbb-core<2.0.0,>=1.2.4->openbb-charting) (6.11.0)\n",
            "Requirement already satisfied: pandas>=1.5.3 in /usr/local/lib/python3.10/dist-packages (from openbb-core<2.0.0,>=1.2.4->openbb-charting) (2.0.3)\n",
            "Requirement already satisfied: posthog<4.0.0,>=3.3.1 in /usr/local/lib/python3.10/dist-packages (from openbb-core<2.0.0,>=1.2.4->openbb-charting) (3.5.0)\n",
            "Requirement already satisfied: pydantic<3.0.0,>=2.5.1 in /usr/local/lib/python3.10/dist-packages (from openbb-core<2.0.0,>=1.2.4->openbb-charting) (2.7.4)\n",
            "Requirement already satisfied: pyjwt<3.0.0,>=2.8.0 in /usr/local/lib/python3.10/dist-packages (from openbb-core<2.0.0,>=1.2.4->openbb-charting) (2.8.0)\n",
            "Requirement already satisfied: python-dotenv<2.0.0,>=1.0.0 in /usr/local/lib/python3.10/dist-packages (from openbb-core<2.0.0,>=1.2.4->openbb-charting) (1.0.1)\n",
            "Requirement already satisfied: python-multipart<0.0.8,>=0.0.7 in /usr/local/lib/python3.10/dist-packages (from openbb-core<2.0.0,>=1.2.4->openbb-charting) (0.0.7)\n",
            "Requirement already satisfied: requests<3.0.0,>=2.32.1 in /usr/local/lib/python3.10/dist-packages (from openbb-core<2.0.0,>=1.2.4->openbb-charting) (2.32.3)\n",
            "Requirement already satisfied: ruff>=0.1.6 in /usr/local/lib/python3.10/dist-packages (from openbb-core<2.0.0,>=1.2.4->openbb-charting) (0.4.10)\n",
            "Requirement already satisfied: uuid7<0.2.0,>=0.1.0 in /usr/local/lib/python3.10/dist-packages (from openbb-core<2.0.0,>=1.2.4->openbb-charting) (0.1.0)\n",
            "Requirement already satisfied: uvicorn<0.25,>=0.24 in /usr/local/lib/python3.10/dist-packages (from openbb-core<2.0.0,>=1.2.4->openbb-charting) (0.24.0.post1)\n",
            "Requirement already satisfied: websockets<13.0,>=12.0 in /usr/local/lib/python3.10/dist-packages (from openbb-core<2.0.0,>=1.2.4->openbb-charting) (12.0)\n",
            "Requirement already satisfied: tenacity>=6.2.0 in /usr/local/lib/python3.10/dist-packages (from plotly<6.0.0,>=5.17.0->openbb-charting) (8.4.1)\n",
            "Requirement already satisfied: packaging in /usr/local/lib/python3.10/dist-packages (from plotly<6.0.0,>=5.17.0->openbb-charting) (24.1)\n",
            "Requirement already satisfied: setproctitle in /usr/local/lib/python3.10/dist-packages (from pywry<0.7.0,>=0.6.1->openbb-charting) (1.3.3)\n",
            "Requirement already satisfied: numpy<1.28.0,>=1.21.6 in /usr/local/lib/python3.10/dist-packages (from scipy<2.0.0,>=1.10.0->openbb-charting) (1.25.2)\n",
            "Requirement already satisfied: patsy>=0.5.6 in /usr/local/lib/python3.10/dist-packages (from statsmodels<0.15.0,>=0.14.0->openbb-charting) (0.5.6)\n",
            "Requirement already satisfied: aiosignal>=1.1.2 in /usr/local/lib/python3.10/dist-packages (from aiohttp<4.0.0,>=3.9.5->openbb-core<2.0.0,>=1.2.4->openbb-charting) (1.3.1)\n",
            "Requirement already satisfied: attrs>=17.3.0 in /usr/local/lib/python3.10/dist-packages (from aiohttp<4.0.0,>=3.9.5->openbb-core<2.0.0,>=1.2.4->openbb-charting) (23.2.0)\n",
            "Requirement already satisfied: frozenlist>=1.1.1 in /usr/local/lib/python3.10/dist-packages (from aiohttp<4.0.0,>=3.9.5->openbb-core<2.0.0,>=1.2.4->openbb-charting) (1.4.1)\n",
            "Requirement already satisfied: multidict<7.0,>=4.5 in /usr/local/lib/python3.10/dist-packages (from aiohttp<4.0.0,>=3.9.5->openbb-core<2.0.0,>=1.2.4->openbb-charting) (6.0.5)\n",
            "Requirement already satisfied: yarl<2.0,>=1.0 in /usr/local/lib/python3.10/dist-packages (from aiohttp<4.0.0,>=3.9.5->openbb-core<2.0.0,>=1.2.4->openbb-charting) (1.9.4)\n",
            "Requirement already satisfied: async-timeout<5.0,>=4.0 in /usr/local/lib/python3.10/dist-packages (from aiohttp<4.0.0,>=3.9.5->openbb-core<2.0.0,>=1.2.4->openbb-charting) (4.0.3)\n",
            "Requirement already satisfied: starlette<0.38.0,>=0.37.2 in /usr/local/lib/python3.10/dist-packages (from fastapi<0.112.0,>=0.111.0->openbb-core<2.0.0,>=1.2.4->openbb-charting) (0.37.2)\n",
            "Requirement already satisfied: typing-extensions>=4.8.0 in /usr/local/lib/python3.10/dist-packages (from fastapi<0.112.0,>=0.111.0->openbb-core<2.0.0,>=1.2.4->openbb-charting) (4.12.2)\n",
            "Requirement already satisfied: fastapi-cli>=0.0.2 in /usr/local/lib/python3.10/dist-packages (from fastapi<0.112.0,>=0.111.0->openbb-core<2.0.0,>=1.2.4->openbb-charting) (0.0.4)\n",
            "Requirement already satisfied: httpx>=0.23.0 in /usr/local/lib/python3.10/dist-packages (from fastapi<0.112.0,>=0.111.0->openbb-core<2.0.0,>=1.2.4->openbb-charting) (0.27.0)\n",
            "Requirement already satisfied: jinja2>=2.11.2 in /usr/local/lib/python3.10/dist-packages (from fastapi<0.112.0,>=0.111.0->openbb-core<2.0.0,>=1.2.4->openbb-charting) (3.1.4)\n",
            "Requirement already satisfied: ujson!=4.0.2,!=4.1.0,!=4.2.0,!=4.3.0,!=5.0.0,!=5.1.0,>=4.0.1 in /usr/local/lib/python3.10/dist-packages (from fastapi<0.112.0,>=0.111.0->openbb-core<2.0.0,>=1.2.4->openbb-charting) (5.10.0)\n",
            "Requirement already satisfied: orjson>=3.2.1 in /usr/local/lib/python3.10/dist-packages (from fastapi<0.112.0,>=0.111.0->openbb-core<2.0.0,>=1.2.4->openbb-charting) (3.10.5)\n",
            "Requirement already satisfied: email_validator>=2.0.0 in /usr/local/lib/python3.10/dist-packages (from fastapi<0.112.0,>=0.111.0->openbb-core<2.0.0,>=1.2.4->openbb-charting) (2.2.0)\n",
            "Requirement already satisfied: six>=1.9 in /usr/local/lib/python3.10/dist-packages (from html5lib<2.0,>=1.1->openbb-core<2.0.0,>=1.2.4->openbb-charting) (1.16.0)\n",
            "Requirement already satisfied: webencodings in /usr/local/lib/python3.10/dist-packages (from html5lib<2.0,>=1.1->openbb-core<2.0.0,>=1.2.4->openbb-charting) (0.5.1)\n",
            "Requirement already satisfied: zipp>=0.5 in /usr/local/lib/python3.10/dist-packages (from importlib-metadata<7.0.0,>=6.8.0->openbb-core<2.0.0,>=1.2.4->openbb-charting) (3.19.2)\n",
            "Requirement already satisfied: jsonschema-specifications>=2023.03.6 in /usr/local/lib/python3.10/dist-packages (from jsonschema>=2.6->nbformat<6.0.0,>=5.9.2->openbb-charting) (2023.12.1)\n",
            "Requirement already satisfied: referencing>=0.28.4 in /usr/local/lib/python3.10/dist-packages (from jsonschema>=2.6->nbformat<6.0.0,>=5.9.2->openbb-charting) (0.35.1)\n",
            "Requirement already satisfied: rpds-py>=0.7.1 in /usr/local/lib/python3.10/dist-packages (from jsonschema>=2.6->nbformat<6.0.0,>=5.9.2->openbb-charting) (0.18.1)\n",
            "Requirement already satisfied: platformdirs>=2.5 in /usr/local/lib/python3.10/dist-packages (from jupyter-core!=5.0.*,>=4.12->nbformat<6.0.0,>=5.9.2->openbb-charting) (4.2.2)\n",
            "Requirement already satisfied: python-dateutil>=2.8.2 in /usr/local/lib/python3.10/dist-packages (from pandas>=1.5.3->openbb-core<2.0.0,>=1.2.4->openbb-charting) (2.8.2)\n",
            "Requirement already satisfied: pytz>=2020.1 in /usr/local/lib/python3.10/dist-packages (from pandas>=1.5.3->openbb-core<2.0.0,>=1.2.4->openbb-charting) (2023.4)\n",
            "Requirement already satisfied: tzdata>=2022.1 in /usr/local/lib/python3.10/dist-packages (from pandas>=1.5.3->openbb-core<2.0.0,>=1.2.4->openbb-charting) (2024.1)\n",
            "Requirement already satisfied: monotonic>=1.5 in /usr/local/lib/python3.10/dist-packages (from posthog<4.0.0,>=3.3.1->openbb-core<2.0.0,>=1.2.4->openbb-charting) (1.6)\n",
            "Requirement already satisfied: backoff>=1.10.0 in /usr/local/lib/python3.10/dist-packages (from posthog<4.0.0,>=3.3.1->openbb-core<2.0.0,>=1.2.4->openbb-charting) (2.2.1)\n",
            "Requirement already satisfied: annotated-types>=0.4.0 in /usr/local/lib/python3.10/dist-packages (from pydantic<3.0.0,>=2.5.1->openbb-core<2.0.0,>=1.2.4->openbb-charting) (0.7.0)\n",
            "Requirement already satisfied: pydantic-core==2.18.4 in /usr/local/lib/python3.10/dist-packages (from pydantic<3.0.0,>=2.5.1->openbb-core<2.0.0,>=1.2.4->openbb-charting) (2.18.4)\n",
            "Requirement already satisfied: charset-normalizer<4,>=2 in /usr/local/lib/python3.10/dist-packages (from requests<3.0.0,>=2.32.1->openbb-core<2.0.0,>=1.2.4->openbb-charting) (3.3.2)\n",
            "Requirement already satisfied: idna<4,>=2.5 in /usr/local/lib/python3.10/dist-packages (from requests<3.0.0,>=2.32.1->openbb-core<2.0.0,>=1.2.4->openbb-charting) (3.7)\n",
            "Requirement already satisfied: urllib3<3,>=1.21.1 in /usr/local/lib/python3.10/dist-packages (from requests<3.0.0,>=2.32.1->openbb-core<2.0.0,>=1.2.4->openbb-charting) (2.0.7)\n",
            "Requirement already satisfied: certifi>=2017.4.17 in /usr/local/lib/python3.10/dist-packages (from requests<3.0.0,>=2.32.1->openbb-core<2.0.0,>=1.2.4->openbb-charting) (2024.6.2)\n",
            "Requirement already satisfied: click>=7.0 in /usr/local/lib/python3.10/dist-packages (from uvicorn<0.25,>=0.24->openbb-core<2.0.0,>=1.2.4->openbb-charting) (8.1.7)\n",
            "Requirement already satisfied: h11>=0.8 in /usr/local/lib/python3.10/dist-packages (from uvicorn<0.25,>=0.24->openbb-core<2.0.0,>=1.2.4->openbb-charting) (0.14.0)\n",
            "Requirement already satisfied: dnspython>=2.0.0 in /usr/local/lib/python3.10/dist-packages (from email_validator>=2.0.0->fastapi<0.112.0,>=0.111.0->openbb-core<2.0.0,>=1.2.4->openbb-charting) (2.6.1)\n",
            "Requirement already satisfied: typer>=0.12.3 in /usr/local/lib/python3.10/dist-packages (from fastapi-cli>=0.0.2->fastapi<0.112.0,>=0.111.0->openbb-core<2.0.0,>=1.2.4->openbb-charting) (0.12.3)\n",
            "Requirement already satisfied: anyio in /usr/local/lib/python3.10/dist-packages (from httpx>=0.23.0->fastapi<0.112.0,>=0.111.0->openbb-core<2.0.0,>=1.2.4->openbb-charting) (3.7.1)\n",
            "Requirement already satisfied: httpcore==1.* in /usr/local/lib/python3.10/dist-packages (from httpx>=0.23.0->fastapi<0.112.0,>=0.111.0->openbb-core<2.0.0,>=1.2.4->openbb-charting) (1.0.5)\n",
            "Requirement already satisfied: sniffio in /usr/local/lib/python3.10/dist-packages (from httpx>=0.23.0->fastapi<0.112.0,>=0.111.0->openbb-core<2.0.0,>=1.2.4->openbb-charting) (1.3.1)\n",
            "Requirement already satisfied: MarkupSafe>=2.0 in /usr/local/lib/python3.10/dist-packages (from jinja2>=2.11.2->fastapi<0.112.0,>=0.111.0->openbb-core<2.0.0,>=1.2.4->openbb-charting) (2.1.5)\n",
            "Requirement already satisfied: httptools>=0.5.0 in /usr/local/lib/python3.10/dist-packages (from uvicorn<0.25,>=0.24->openbb-core<2.0.0,>=1.2.4->openbb-charting) (0.6.1)\n",
            "Requirement already satisfied: pyyaml>=5.1 in /usr/local/lib/python3.10/dist-packages (from uvicorn<0.25,>=0.24->openbb-core<2.0.0,>=1.2.4->openbb-charting) (6.0.1)\n",
            "Requirement already satisfied: uvloop!=0.15.0,!=0.15.1,>=0.14.0 in /usr/local/lib/python3.10/dist-packages (from uvicorn<0.25,>=0.24->openbb-core<2.0.0,>=1.2.4->openbb-charting) (0.19.0)\n",
            "Requirement already satisfied: watchfiles>=0.13 in /usr/local/lib/python3.10/dist-packages (from uvicorn<0.25,>=0.24->openbb-core<2.0.0,>=1.2.4->openbb-charting) (0.22.0)\n",
            "Requirement already satisfied: exceptiongroup in /usr/local/lib/python3.10/dist-packages (from anyio->httpx>=0.23.0->fastapi<0.112.0,>=0.111.0->openbb-core<2.0.0,>=1.2.4->openbb-charting) (1.2.1)\n",
            "Requirement already satisfied: shellingham>=1.3.0 in /usr/local/lib/python3.10/dist-packages (from typer>=0.12.3->fastapi-cli>=0.0.2->fastapi<0.112.0,>=0.111.0->openbb-core<2.0.0,>=1.2.4->openbb-charting) (1.5.4)\n",
            "Requirement already satisfied: rich>=10.11.0 in /usr/local/lib/python3.10/dist-packages (from typer>=0.12.3->fastapi-cli>=0.0.2->fastapi<0.112.0,>=0.111.0->openbb-core<2.0.0,>=1.2.4->openbb-charting) (13.7.1)\n",
            "Requirement already satisfied: markdown-it-py>=2.2.0 in /usr/local/lib/python3.10/dist-packages (from rich>=10.11.0->typer>=0.12.3->fastapi-cli>=0.0.2->fastapi<0.112.0,>=0.111.0->openbb-core<2.0.0,>=1.2.4->openbb-charting) (3.0.0)\n",
            "Requirement already satisfied: pygments<3.0.0,>=2.13.0 in /usr/local/lib/python3.10/dist-packages (from rich>=10.11.0->typer>=0.12.3->fastapi-cli>=0.0.2->fastapi<0.112.0,>=0.111.0->openbb-core<2.0.0,>=1.2.4->openbb-charting) (2.16.1)\n",
            "Requirement already satisfied: mdurl~=0.1 in /usr/local/lib/python3.10/dist-packages (from markdown-it-py>=2.2.0->rich>=10.11.0->typer>=0.12.3->fastapi-cli>=0.0.2->fastapi<0.112.0,>=0.111.0->openbb-core<2.0.0,>=1.2.4->openbb-charting) (0.1.2)\n",
            "Requirement already satisfied: pydantic in /usr/local/lib/python3.10/dist-packages (2.7.4)\n",
            "Requirement already satisfied: annotated-types>=0.4.0 in /usr/local/lib/python3.10/dist-packages (from pydantic) (0.7.0)\n",
            "Requirement already satisfied: pydantic-core==2.18.4 in /usr/local/lib/python3.10/dist-packages (from pydantic) (2.18.4)\n",
            "Requirement already satisfied: typing-extensions>=4.6.1 in /usr/local/lib/python3.10/dist-packages (from pydantic) (4.12.2)\n",
            "Requirement already satisfied: langchain in /usr/local/lib/python3.10/dist-packages (0.2.5)\n",
            "Requirement already satisfied: PyYAML>=5.3 in /usr/local/lib/python3.10/dist-packages (from langchain) (6.0.1)\n",
            "Requirement already satisfied: SQLAlchemy<3,>=1.4 in /usr/local/lib/python3.10/dist-packages (from langchain) (2.0.30)\n",
            "Requirement already satisfied: aiohttp<4.0.0,>=3.8.3 in /usr/local/lib/python3.10/dist-packages (from langchain) (3.9.5)\n",
            "Requirement already satisfied: async-timeout<5.0.0,>=4.0.0 in /usr/local/lib/python3.10/dist-packages (from langchain) (4.0.3)\n",
            "Requirement already satisfied: langchain-core<0.3.0,>=0.2.7 in /usr/local/lib/python3.10/dist-packages (from langchain) (0.2.9)\n",
            "Requirement already satisfied: langchain-text-splitters<0.3.0,>=0.2.0 in /usr/local/lib/python3.10/dist-packages (from langchain) (0.2.1)\n",
            "Requirement already satisfied: langsmith<0.2.0,>=0.1.17 in /usr/local/lib/python3.10/dist-packages (from langchain) (0.1.81)\n",
            "Requirement already satisfied: numpy<2,>=1 in /usr/local/lib/python3.10/dist-packages (from langchain) (1.25.2)\n",
            "Requirement already satisfied: pydantic<3,>=1 in /usr/local/lib/python3.10/dist-packages (from langchain) (2.7.4)\n",
            "Requirement already satisfied: requests<3,>=2 in /usr/local/lib/python3.10/dist-packages (from langchain) (2.32.3)\n",
            "Requirement already satisfied: tenacity<9.0.0,>=8.1.0 in /usr/local/lib/python3.10/dist-packages (from langchain) (8.4.1)\n",
            "Requirement already satisfied: aiosignal>=1.1.2 in /usr/local/lib/python3.10/dist-packages (from aiohttp<4.0.0,>=3.8.3->langchain) (1.3.1)\n",
            "Requirement already satisfied: attrs>=17.3.0 in /usr/local/lib/python3.10/dist-packages (from aiohttp<4.0.0,>=3.8.3->langchain) (23.2.0)\n",
            "Requirement already satisfied: frozenlist>=1.1.1 in /usr/local/lib/python3.10/dist-packages (from aiohttp<4.0.0,>=3.8.3->langchain) (1.4.1)\n",
            "Requirement already satisfied: multidict<7.0,>=4.5 in /usr/local/lib/python3.10/dist-packages (from aiohttp<4.0.0,>=3.8.3->langchain) (6.0.5)\n",
            "Requirement already satisfied: yarl<2.0,>=1.0 in /usr/local/lib/python3.10/dist-packages (from aiohttp<4.0.0,>=3.8.3->langchain) (1.9.4)\n",
            "Requirement already satisfied: jsonpatch<2.0,>=1.33 in /usr/local/lib/python3.10/dist-packages (from langchain-core<0.3.0,>=0.2.7->langchain) (1.33)\n",
            "Requirement already satisfied: packaging<25,>=23.2 in /usr/local/lib/python3.10/dist-packages (from langchain-core<0.3.0,>=0.2.7->langchain) (24.1)\n",
            "Requirement already satisfied: orjson<4.0.0,>=3.9.14 in /usr/local/lib/python3.10/dist-packages (from langsmith<0.2.0,>=0.1.17->langchain) (3.10.5)\n",
            "Requirement already satisfied: annotated-types>=0.4.0 in /usr/local/lib/python3.10/dist-packages (from pydantic<3,>=1->langchain) (0.7.0)\n",
            "Requirement already satisfied: pydantic-core==2.18.4 in /usr/local/lib/python3.10/dist-packages (from pydantic<3,>=1->langchain) (2.18.4)\n",
            "Requirement already satisfied: typing-extensions>=4.6.1 in /usr/local/lib/python3.10/dist-packages (from pydantic<3,>=1->langchain) (4.12.2)\n",
            "Requirement already satisfied: charset-normalizer<4,>=2 in /usr/local/lib/python3.10/dist-packages (from requests<3,>=2->langchain) (3.3.2)\n",
            "Requirement already satisfied: idna<4,>=2.5 in /usr/local/lib/python3.10/dist-packages (from requests<3,>=2->langchain) (3.7)\n",
            "Requirement already satisfied: urllib3<3,>=1.21.1 in /usr/local/lib/python3.10/dist-packages (from requests<3,>=2->langchain) (2.0.7)\n",
            "Requirement already satisfied: certifi>=2017.4.17 in /usr/local/lib/python3.10/dist-packages (from requests<3,>=2->langchain) (2024.6.2)\n",
            "Requirement already satisfied: greenlet!=0.4.17 in /usr/local/lib/python3.10/dist-packages (from SQLAlchemy<3,>=1.4->langchain) (3.0.3)\n",
            "Requirement already satisfied: jsonpointer>=1.9 in /usr/local/lib/python3.10/dist-packages (from jsonpatch<2.0,>=1.33->langchain-core<0.3.0,>=0.2.7->langchain) (3.0.0)\n",
            "Requirement already satisfied: langchain_community in /usr/local/lib/python3.10/dist-packages (0.2.5)\n",
            "Requirement already satisfied: PyYAML>=5.3 in /usr/local/lib/python3.10/dist-packages (from langchain_community) (6.0.1)\n",
            "Requirement already satisfied: SQLAlchemy<3,>=1.4 in /usr/local/lib/python3.10/dist-packages (from langchain_community) (2.0.30)\n",
            "Requirement already satisfied: aiohttp<4.0.0,>=3.8.3 in /usr/local/lib/python3.10/dist-packages (from langchain_community) (3.9.5)\n",
            "Requirement already satisfied: dataclasses-json<0.7,>=0.5.7 in /usr/local/lib/python3.10/dist-packages (from langchain_community) (0.6.7)\n",
            "Requirement already satisfied: langchain<0.3.0,>=0.2.5 in /usr/local/lib/python3.10/dist-packages (from langchain_community) (0.2.5)\n",
            "Requirement already satisfied: langchain-core<0.3.0,>=0.2.7 in /usr/local/lib/python3.10/dist-packages (from langchain_community) (0.2.9)\n",
            "Requirement already satisfied: langsmith<0.2.0,>=0.1.0 in /usr/local/lib/python3.10/dist-packages (from langchain_community) (0.1.81)\n",
            "Requirement already satisfied: numpy<2,>=1 in /usr/local/lib/python3.10/dist-packages (from langchain_community) (1.25.2)\n",
            "Requirement already satisfied: requests<3,>=2 in /usr/local/lib/python3.10/dist-packages (from langchain_community) (2.32.3)\n",
            "Requirement already satisfied: tenacity<9.0.0,>=8.1.0 in /usr/local/lib/python3.10/dist-packages (from langchain_community) (8.4.1)\n",
            "Requirement already satisfied: aiosignal>=1.1.2 in /usr/local/lib/python3.10/dist-packages (from aiohttp<4.0.0,>=3.8.3->langchain_community) (1.3.1)\n",
            "Requirement already satisfied: attrs>=17.3.0 in /usr/local/lib/python3.10/dist-packages (from aiohttp<4.0.0,>=3.8.3->langchain_community) (23.2.0)\n",
            "Requirement already satisfied: frozenlist>=1.1.1 in /usr/local/lib/python3.10/dist-packages (from aiohttp<4.0.0,>=3.8.3->langchain_community) (1.4.1)\n",
            "Requirement already satisfied: multidict<7.0,>=4.5 in /usr/local/lib/python3.10/dist-packages (from aiohttp<4.0.0,>=3.8.3->langchain_community) (6.0.5)\n",
            "Requirement already satisfied: yarl<2.0,>=1.0 in /usr/local/lib/python3.10/dist-packages (from aiohttp<4.0.0,>=3.8.3->langchain_community) (1.9.4)\n",
            "Requirement already satisfied: async-timeout<5.0,>=4.0 in /usr/local/lib/python3.10/dist-packages (from aiohttp<4.0.0,>=3.8.3->langchain_community) (4.0.3)\n",
            "Requirement already satisfied: marshmallow<4.0.0,>=3.18.0 in /usr/local/lib/python3.10/dist-packages (from dataclasses-json<0.7,>=0.5.7->langchain_community) (3.21.3)\n",
            "Requirement already satisfied: typing-inspect<1,>=0.4.0 in /usr/local/lib/python3.10/dist-packages (from dataclasses-json<0.7,>=0.5.7->langchain_community) (0.9.0)\n",
            "Requirement already satisfied: langchain-text-splitters<0.3.0,>=0.2.0 in /usr/local/lib/python3.10/dist-packages (from langchain<0.3.0,>=0.2.5->langchain_community) (0.2.1)\n",
            "Requirement already satisfied: pydantic<3,>=1 in /usr/local/lib/python3.10/dist-packages (from langchain<0.3.0,>=0.2.5->langchain_community) (2.7.4)\n",
            "Requirement already satisfied: jsonpatch<2.0,>=1.33 in /usr/local/lib/python3.10/dist-packages (from langchain-core<0.3.0,>=0.2.7->langchain_community) (1.33)\n",
            "Requirement already satisfied: packaging<25,>=23.2 in /usr/local/lib/python3.10/dist-packages (from langchain-core<0.3.0,>=0.2.7->langchain_community) (24.1)\n",
            "Requirement already satisfied: orjson<4.0.0,>=3.9.14 in /usr/local/lib/python3.10/dist-packages (from langsmith<0.2.0,>=0.1.0->langchain_community) (3.10.5)\n",
            "Requirement already satisfied: charset-normalizer<4,>=2 in /usr/local/lib/python3.10/dist-packages (from requests<3,>=2->langchain_community) (3.3.2)\n",
            "Requirement already satisfied: idna<4,>=2.5 in /usr/local/lib/python3.10/dist-packages (from requests<3,>=2->langchain_community) (3.7)\n",
            "Requirement already satisfied: urllib3<3,>=1.21.1 in /usr/local/lib/python3.10/dist-packages (from requests<3,>=2->langchain_community) (2.0.7)\n",
            "Requirement already satisfied: certifi>=2017.4.17 in /usr/local/lib/python3.10/dist-packages (from requests<3,>=2->langchain_community) (2024.6.2)\n",
            "Requirement already satisfied: typing-extensions>=4.6.0 in /usr/local/lib/python3.10/dist-packages (from SQLAlchemy<3,>=1.4->langchain_community) (4.12.2)\n",
            "Requirement already satisfied: greenlet!=0.4.17 in /usr/local/lib/python3.10/dist-packages (from SQLAlchemy<3,>=1.4->langchain_community) (3.0.3)\n",
            "Requirement already satisfied: jsonpointer>=1.9 in /usr/local/lib/python3.10/dist-packages (from jsonpatch<2.0,>=1.33->langchain-core<0.3.0,>=0.2.7->langchain_community) (3.0.0)\n",
            "Requirement already satisfied: annotated-types>=0.4.0 in /usr/local/lib/python3.10/dist-packages (from pydantic<3,>=1->langchain<0.3.0,>=0.2.5->langchain_community) (0.7.0)\n",
            "Requirement already satisfied: pydantic-core==2.18.4 in /usr/local/lib/python3.10/dist-packages (from pydantic<3,>=1->langchain<0.3.0,>=0.2.5->langchain_community) (2.18.4)\n",
            "Requirement already satisfied: mypy-extensions>=0.3.0 in /usr/local/lib/python3.10/dist-packages (from typing-inspect<1,>=0.4.0->dataclasses-json<0.7,>=0.5.7->langchain_community) (1.0.0)\n",
            "Requirement already satisfied: langchain-google-vertexai in /usr/local/lib/python3.10/dist-packages (1.0.5)\n",
            "Requirement already satisfied: google-cloud-aiplatform<2.0.0,>=1.47.0 in /usr/local/lib/python3.10/dist-packages (from langchain-google-vertexai) (1.55.0)\n",
            "Requirement already satisfied: google-cloud-storage<3.0.0,>=2.14.0 in /usr/local/lib/python3.10/dist-packages (from langchain-google-vertexai) (2.17.0)\n",
            "Requirement already satisfied: langchain-core<0.3,>=0.2.2 in /usr/local/lib/python3.10/dist-packages (from langchain-google-vertexai) (0.2.9)\n",
            "Requirement already satisfied: google-api-core[grpc]!=2.0.*,!=2.1.*,!=2.2.*,!=2.3.*,!=2.4.*,!=2.5.*,!=2.6.*,!=2.7.*,<3.0.0dev,>=1.34.1 in /usr/local/lib/python3.10/dist-packages (from google-cloud-aiplatform<2.0.0,>=1.47.0->langchain-google-vertexai) (2.19.0)\n",
            "Requirement already satisfied: google-auth<3.0.0dev,>=2.14.1 in /usr/local/lib/python3.10/dist-packages (from google-cloud-aiplatform<2.0.0,>=1.47.0->langchain-google-vertexai) (2.27.0)\n",
            "Requirement already satisfied: proto-plus<2.0.0dev,>=1.22.0 in /usr/local/lib/python3.10/dist-packages (from google-cloud-aiplatform<2.0.0,>=1.47.0->langchain-google-vertexai) (1.23.0)\n",
            "Requirement already satisfied: protobuf!=3.20.0,!=3.20.1,!=4.21.0,!=4.21.1,!=4.21.2,!=4.21.3,!=4.21.4,!=4.21.5,<5.0.0dev,>=3.19.5 in /usr/local/lib/python3.10/dist-packages (from google-cloud-aiplatform<2.0.0,>=1.47.0->langchain-google-vertexai) (3.20.3)\n",
            "Requirement already satisfied: packaging>=14.3 in /usr/local/lib/python3.10/dist-packages (from google-cloud-aiplatform<2.0.0,>=1.47.0->langchain-google-vertexai) (24.1)\n",
            "Requirement already satisfied: google-cloud-bigquery!=3.20.0,<4.0.0dev,>=1.15.0 in /usr/local/lib/python3.10/dist-packages (from google-cloud-aiplatform<2.0.0,>=1.47.0->langchain-google-vertexai) (3.21.0)\n",
            "Requirement already satisfied: google-cloud-resource-manager<3.0.0dev,>=1.3.3 in /usr/local/lib/python3.10/dist-packages (from google-cloud-aiplatform<2.0.0,>=1.47.0->langchain-google-vertexai) (1.12.3)\n",
            "Requirement already satisfied: shapely<3.0.0dev in /usr/local/lib/python3.10/dist-packages (from google-cloud-aiplatform<2.0.0,>=1.47.0->langchain-google-vertexai) (2.0.4)\n",
            "Requirement already satisfied: pydantic<3 in /usr/local/lib/python3.10/dist-packages (from google-cloud-aiplatform<2.0.0,>=1.47.0->langchain-google-vertexai) (2.7.4)\n",
            "Requirement already satisfied: docstring-parser<1 in /usr/local/lib/python3.10/dist-packages (from google-cloud-aiplatform<2.0.0,>=1.47.0->langchain-google-vertexai) (0.16)\n",
            "Requirement already satisfied: google-cloud-core<3.0dev,>=2.3.0 in /usr/local/lib/python3.10/dist-packages (from google-cloud-storage<3.0.0,>=2.14.0->langchain-google-vertexai) (2.3.3)\n",
            "Requirement already satisfied: google-resumable-media>=2.6.0 in /usr/local/lib/python3.10/dist-packages (from google-cloud-storage<3.0.0,>=2.14.0->langchain-google-vertexai) (2.7.1)\n",
            "Requirement already satisfied: requests<3.0.0dev,>=2.18.0 in /usr/local/lib/python3.10/dist-packages (from google-cloud-storage<3.0.0,>=2.14.0->langchain-google-vertexai) (2.32.3)\n",
            "Requirement already satisfied: google-crc32c<2.0dev,>=1.0 in /usr/local/lib/python3.10/dist-packages (from google-cloud-storage<3.0.0,>=2.14.0->langchain-google-vertexai) (1.5.0)\n",
            "Requirement already satisfied: PyYAML>=5.3 in /usr/local/lib/python3.10/dist-packages (from langchain-core<0.3,>=0.2.2->langchain-google-vertexai) (6.0.1)\n",
            "Requirement already satisfied: jsonpatch<2.0,>=1.33 in /usr/local/lib/python3.10/dist-packages (from langchain-core<0.3,>=0.2.2->langchain-google-vertexai) (1.33)\n",
            "Requirement already satisfied: langsmith<0.2.0,>=0.1.75 in /usr/local/lib/python3.10/dist-packages (from langchain-core<0.3,>=0.2.2->langchain-google-vertexai) (0.1.81)\n",
            "Requirement already satisfied: tenacity!=8.4.0,<9.0.0,>=8.1.0 in /usr/local/lib/python3.10/dist-packages (from langchain-core<0.3,>=0.2.2->langchain-google-vertexai) (8.4.1)\n",
            "Requirement already satisfied: googleapis-common-protos<2.0.dev0,>=1.56.2 in /usr/local/lib/python3.10/dist-packages (from google-api-core[grpc]!=2.0.*,!=2.1.*,!=2.2.*,!=2.3.*,!=2.4.*,!=2.5.*,!=2.6.*,!=2.7.*,<3.0.0dev,>=1.34.1->google-cloud-aiplatform<2.0.0,>=1.47.0->langchain-google-vertexai) (1.63.1)\n",
            "Requirement already satisfied: grpcio<2.0dev,>=1.33.2 in /usr/local/lib/python3.10/dist-packages (from google-api-core[grpc]!=2.0.*,!=2.1.*,!=2.2.*,!=2.3.*,!=2.4.*,!=2.5.*,!=2.6.*,!=2.7.*,<3.0.0dev,>=1.34.1->google-cloud-aiplatform<2.0.0,>=1.47.0->langchain-google-vertexai) (1.64.1)\n",
            "Requirement already satisfied: grpcio-status<2.0.dev0,>=1.33.2 in /usr/local/lib/python3.10/dist-packages (from google-api-core[grpc]!=2.0.*,!=2.1.*,!=2.2.*,!=2.3.*,!=2.4.*,!=2.5.*,!=2.6.*,!=2.7.*,<3.0.0dev,>=1.34.1->google-cloud-aiplatform<2.0.0,>=1.47.0->langchain-google-vertexai) (1.48.2)\n",
            "Requirement already satisfied: cachetools<6.0,>=2.0.0 in /usr/local/lib/python3.10/dist-packages (from google-auth<3.0.0dev,>=2.14.1->google-cloud-aiplatform<2.0.0,>=1.47.0->langchain-google-vertexai) (5.3.3)\n",
            "Requirement already satisfied: pyasn1-modules>=0.2.1 in /usr/local/lib/python3.10/dist-packages (from google-auth<3.0.0dev,>=2.14.1->google-cloud-aiplatform<2.0.0,>=1.47.0->langchain-google-vertexai) (0.4.0)\n",
            "Requirement already satisfied: rsa<5,>=3.1.4 in /usr/local/lib/python3.10/dist-packages (from google-auth<3.0.0dev,>=2.14.1->google-cloud-aiplatform<2.0.0,>=1.47.0->langchain-google-vertexai) (4.9)\n",
            "Requirement already satisfied: python-dateutil<3.0dev,>=2.7.2 in /usr/local/lib/python3.10/dist-packages (from google-cloud-bigquery!=3.20.0,<4.0.0dev,>=1.15.0->google-cloud-aiplatform<2.0.0,>=1.47.0->langchain-google-vertexai) (2.8.2)\n",
            "Requirement already satisfied: grpc-google-iam-v1<1.0.0dev,>=0.12.4 in /usr/local/lib/python3.10/dist-packages (from google-cloud-resource-manager<3.0.0dev,>=1.3.3->google-cloud-aiplatform<2.0.0,>=1.47.0->langchain-google-vertexai) (0.13.0)\n",
            "Requirement already satisfied: jsonpointer>=1.9 in /usr/local/lib/python3.10/dist-packages (from jsonpatch<2.0,>=1.33->langchain-core<0.3,>=0.2.2->langchain-google-vertexai) (3.0.0)\n",
            "Requirement already satisfied: orjson<4.0.0,>=3.9.14 in /usr/local/lib/python3.10/dist-packages (from langsmith<0.2.0,>=0.1.75->langchain-core<0.3,>=0.2.2->langchain-google-vertexai) (3.10.5)\n",
            "Requirement already satisfied: annotated-types>=0.4.0 in /usr/local/lib/python3.10/dist-packages (from pydantic<3->google-cloud-aiplatform<2.0.0,>=1.47.0->langchain-google-vertexai) (0.7.0)\n",
            "Requirement already satisfied: pydantic-core==2.18.4 in /usr/local/lib/python3.10/dist-packages (from pydantic<3->google-cloud-aiplatform<2.0.0,>=1.47.0->langchain-google-vertexai) (2.18.4)\n",
            "Requirement already satisfied: typing-extensions>=4.6.1 in /usr/local/lib/python3.10/dist-packages (from pydantic<3->google-cloud-aiplatform<2.0.0,>=1.47.0->langchain-google-vertexai) (4.12.2)\n",
            "Requirement already satisfied: charset-normalizer<4,>=2 in /usr/local/lib/python3.10/dist-packages (from requests<3.0.0dev,>=2.18.0->google-cloud-storage<3.0.0,>=2.14.0->langchain-google-vertexai) (3.3.2)\n",
            "Requirement already satisfied: idna<4,>=2.5 in /usr/local/lib/python3.10/dist-packages (from requests<3.0.0dev,>=2.18.0->google-cloud-storage<3.0.0,>=2.14.0->langchain-google-vertexai) (3.7)\n",
            "Requirement already satisfied: urllib3<3,>=1.21.1 in /usr/local/lib/python3.10/dist-packages (from requests<3.0.0dev,>=2.18.0->google-cloud-storage<3.0.0,>=2.14.0->langchain-google-vertexai) (2.0.7)\n",
            "Requirement already satisfied: certifi>=2017.4.17 in /usr/local/lib/python3.10/dist-packages (from requests<3.0.0dev,>=2.18.0->google-cloud-storage<3.0.0,>=2.14.0->langchain-google-vertexai) (2024.6.2)\n",
            "Requirement already satisfied: numpy<3,>=1.14 in /usr/local/lib/python3.10/dist-packages (from shapely<3.0.0dev->google-cloud-aiplatform<2.0.0,>=1.47.0->langchain-google-vertexai) (1.25.2)\n",
            "Requirement already satisfied: pyasn1<0.7.0,>=0.4.6 in /usr/local/lib/python3.10/dist-packages (from pyasn1-modules>=0.2.1->google-auth<3.0.0dev,>=2.14.1->google-cloud-aiplatform<2.0.0,>=1.47.0->langchain-google-vertexai) (0.6.0)\n",
            "Requirement already satisfied: six>=1.5 in /usr/local/lib/python3.10/dist-packages (from python-dateutil<3.0dev,>=2.7.2->google-cloud-bigquery!=3.20.0,<4.0.0dev,>=1.15.0->google-cloud-aiplatform<2.0.0,>=1.47.0->langchain-google-vertexai) (1.16.0)\n"
          ]
        }
      ],
      "source": [
        "!pip install openbb\n",
        "!pip install openbb-charting\n",
        "\n",
        "!pip install pydantic\n",
        "\n",
        "!pip install langchain\n",
        "!pip install langchain_community\n",
        "#!pip install langchain_openai\n",
        "!pip install langchain-google-vertexai\n",
        "# need to restart runtime after installing pydantic"
      ]
    },
    {
      "cell_type": "markdown",
      "metadata": {
        "id": "zEsdR9RfHQnI"
      },
      "source": [
        "### Set the OpenAI API Key"
      ]
    },
    {
      "cell_type": "code",
      "execution_count": 1,
      "metadata": {
        "colab": {
          "base_uri": "https://localhost:8080/",
          "height": 106
        },
        "id": "SCCCgrDhHQnI",
        "outputId": "bc744f2e-5662-48c9-a085-6ddc29aca106"
      },
      "outputs": [
        {
          "output_type": "error",
          "ename": "SyntaxError",
          "evalue": "unterminated string literal (detected at line 2) (<ipython-input-1-4f07ad322e01>, line 2)",
          "traceback": [
            "\u001b[0;36m  File \u001b[0;32m\"<ipython-input-1-4f07ad322e01>\"\u001b[0;36m, line \u001b[0;32m2\u001b[0m\n\u001b[0;31m    os.environ['OPENAI_API_KEY'] = \"your-api-key\u001b[0m\n\u001b[0m                                   ^\u001b[0m\n\u001b[0;31mSyntaxError\u001b[0m\u001b[0;31m:\u001b[0m unterminated string literal (detected at line 2)\n"
          ]
        }
      ],
      "source": [
        "#import os\n",
        "#os.environ['OPENAI_API_KEY'] = \"your-api-key"
      ]
    },
    {
      "cell_type": "markdown",
      "source": [
        "### Set the VertexAI Key"
      ],
      "metadata": {
        "id": "3kLWP09WJhDN"
      }
    },
    {
      "cell_type": "code",
      "source": [
        "import google.generativeai as genai\n",
        "from google.api_core import retry\n",
        "from google.colab import userdata\n",
        "gkey = userdata.get('AI_STUDIO_KEY')\n",
        "pat = userdata.get('PAT')\n",
        "\n",
        "genai.configure(api_key=gkey)"
      ],
      "metadata": {
        "id": "R6Z4svaOJjvX"
      },
      "execution_count": 2,
      "outputs": []
    },
    {
      "cell_type": "markdown",
      "metadata": {
        "id": "yKSfogJeHQnJ"
      },
      "source": [
        "### Import packages"
      ]
    },
    {
      "cell_type": "code",
      "execution_count": 3,
      "metadata": {
        "colab": {
          "base_uri": "https://localhost:8080/"
        },
        "id": "yGkfPhGrHQnJ",
        "outputId": "81f6d068-b4d1-4209-b1e9-eb28a6f9d67a"
      },
      "outputs": [
        {
          "output_type": "stream",
          "name": "stdout",
          "text": [
            "Extensions to add: derivatives@1.2.4, intrinio@1.2.4, openbb_charting@2.1.3\n",
            "Extensions to remove: derivatives@1.2.3, intrinio@1.2.3\n",
            "\n",
            "Building...\n"
          ]
        }
      ],
      "source": [
        "from openbb import obb"
      ]
    },
    {
      "cell_type": "markdown",
      "metadata": {
        "id": "DEdbozfgHQnJ"
      },
      "source": [
        "### Login"
      ]
    },
    {
      "cell_type": "code",
      "execution_count": 4,
      "metadata": {
        "id": "RjqE5z5GHQnK"
      },
      "outputs": [],
      "source": [
        "obb.account.login(pat=pat)"
      ]
    },
    {
      "cell_type": "markdown",
      "metadata": {
        "id": "2zrASz1YHQnK"
      },
      "source": [
        "## OpenBB tool pre-requisites"
      ]
    },
    {
      "cell_type": "markdown",
      "metadata": {
        "id": "ECRWUpM2HQnK"
      },
      "source": [
        "### Callable"
      ]
    },
    {
      "cell_type": "code",
      "execution_count": 5,
      "metadata": {
        "colab": {
          "base_uri": "https://localhost:8080/",
          "height": 455
        },
        "id": "1azxmLAFHQnK",
        "outputId": "774b38de-9667-45a4-af03-d14328ece66b"
      },
      "outputs": [
        {
          "output_type": "execute_result",
          "data": {
            "text/plain": [
              "              open    high     low   close    volume      vwap  adj_close  \\\n",
              "date                                                                        \n",
              "2023-06-21  184.90  185.41  182.59  183.96  49515697  184.2150     182.99   \n",
              "2023-06-22  183.74  187.05  183.67  187.00  51245327  185.3650     186.01   \n",
              "2023-06-23  185.55  187.56  185.01  186.68  53116996  186.2000     185.69   \n",
              "2023-06-26  186.83  188.05  185.23  185.27  48088661  186.3450     184.29   \n",
              "2023-06-27  185.89  188.39  185.67  188.06  50730846  187.0025     187.07   \n",
              "...            ...     ...     ...     ...       ...       ...        ...   \n",
              "2024-06-13  214.74  216.75  211.60  214.24  97862729  214.3325     214.24   \n",
              "2024-06-14  213.85  215.17  211.30  212.49  70122748  213.2025     212.49   \n",
              "2024-06-17  213.37  218.95  212.72  216.67  93728300  215.4275     216.67   \n",
              "2024-06-18  217.59  218.63  213.00  214.29  79943254  215.8775     214.29   \n",
              "2024-06-20  213.93  214.24  208.85  209.68  67116914  211.6750     209.68   \n",
              "\n",
              "            unadjusted_volume  change  change_percent  \n",
              "date                                                   \n",
              "2023-06-21         49515697.0   -0.94       -0.005084  \n",
              "2023-06-22         51245327.0    3.26        0.017700  \n",
              "2023-06-23         53116996.0    1.13        0.006090  \n",
              "2023-06-26         48088661.0   -1.56       -0.008350  \n",
              "2023-06-27         50730846.0    2.17        0.011700  \n",
              "...                       ...     ...             ...  \n",
              "2024-06-13         97862729.0   -0.50       -0.002328  \n",
              "2024-06-14         70122748.0   -1.36       -0.006360  \n",
              "2024-06-17         93728300.0    3.30        0.015500  \n",
              "2024-06-18         79943254.0   -3.30       -0.015200  \n",
              "2024-06-20         67116914.0   -4.25       -0.019900  \n",
              "\n",
              "[252 rows x 10 columns]"
            ],
            "text/html": [
              "\n",
              "  <div id=\"df-25cc6fba-20b7-4c78-8784-040531ca0c0b\" class=\"colab-df-container\">\n",
              "    <div>\n",
              "<style scoped>\n",
              "    .dataframe tbody tr th:only-of-type {\n",
              "        vertical-align: middle;\n",
              "    }\n",
              "\n",
              "    .dataframe tbody tr th {\n",
              "        vertical-align: top;\n",
              "    }\n",
              "\n",
              "    .dataframe thead th {\n",
              "        text-align: right;\n",
              "    }\n",
              "</style>\n",
              "<table border=\"1\" class=\"dataframe\">\n",
              "  <thead>\n",
              "    <tr style=\"text-align: right;\">\n",
              "      <th></th>\n",
              "      <th>open</th>\n",
              "      <th>high</th>\n",
              "      <th>low</th>\n",
              "      <th>close</th>\n",
              "      <th>volume</th>\n",
              "      <th>vwap</th>\n",
              "      <th>adj_close</th>\n",
              "      <th>unadjusted_volume</th>\n",
              "      <th>change</th>\n",
              "      <th>change_percent</th>\n",
              "    </tr>\n",
              "    <tr>\n",
              "      <th>date</th>\n",
              "      <th></th>\n",
              "      <th></th>\n",
              "      <th></th>\n",
              "      <th></th>\n",
              "      <th></th>\n",
              "      <th></th>\n",
              "      <th></th>\n",
              "      <th></th>\n",
              "      <th></th>\n",
              "      <th></th>\n",
              "    </tr>\n",
              "  </thead>\n",
              "  <tbody>\n",
              "    <tr>\n",
              "      <th>2023-06-21</th>\n",
              "      <td>184.90</td>\n",
              "      <td>185.41</td>\n",
              "      <td>182.59</td>\n",
              "      <td>183.96</td>\n",
              "      <td>49515697</td>\n",
              "      <td>184.2150</td>\n",
              "      <td>182.99</td>\n",
              "      <td>49515697.0</td>\n",
              "      <td>-0.94</td>\n",
              "      <td>-0.005084</td>\n",
              "    </tr>\n",
              "    <tr>\n",
              "      <th>2023-06-22</th>\n",
              "      <td>183.74</td>\n",
              "      <td>187.05</td>\n",
              "      <td>183.67</td>\n",
              "      <td>187.00</td>\n",
              "      <td>51245327</td>\n",
              "      <td>185.3650</td>\n",
              "      <td>186.01</td>\n",
              "      <td>51245327.0</td>\n",
              "      <td>3.26</td>\n",
              "      <td>0.017700</td>\n",
              "    </tr>\n",
              "    <tr>\n",
              "      <th>2023-06-23</th>\n",
              "      <td>185.55</td>\n",
              "      <td>187.56</td>\n",
              "      <td>185.01</td>\n",
              "      <td>186.68</td>\n",
              "      <td>53116996</td>\n",
              "      <td>186.2000</td>\n",
              "      <td>185.69</td>\n",
              "      <td>53116996.0</td>\n",
              "      <td>1.13</td>\n",
              "      <td>0.006090</td>\n",
              "    </tr>\n",
              "    <tr>\n",
              "      <th>2023-06-26</th>\n",
              "      <td>186.83</td>\n",
              "      <td>188.05</td>\n",
              "      <td>185.23</td>\n",
              "      <td>185.27</td>\n",
              "      <td>48088661</td>\n",
              "      <td>186.3450</td>\n",
              "      <td>184.29</td>\n",
              "      <td>48088661.0</td>\n",
              "      <td>-1.56</td>\n",
              "      <td>-0.008350</td>\n",
              "    </tr>\n",
              "    <tr>\n",
              "      <th>2023-06-27</th>\n",
              "      <td>185.89</td>\n",
              "      <td>188.39</td>\n",
              "      <td>185.67</td>\n",
              "      <td>188.06</td>\n",
              "      <td>50730846</td>\n",
              "      <td>187.0025</td>\n",
              "      <td>187.07</td>\n",
              "      <td>50730846.0</td>\n",
              "      <td>2.17</td>\n",
              "      <td>0.011700</td>\n",
              "    </tr>\n",
              "    <tr>\n",
              "      <th>...</th>\n",
              "      <td>...</td>\n",
              "      <td>...</td>\n",
              "      <td>...</td>\n",
              "      <td>...</td>\n",
              "      <td>...</td>\n",
              "      <td>...</td>\n",
              "      <td>...</td>\n",
              "      <td>...</td>\n",
              "      <td>...</td>\n",
              "      <td>...</td>\n",
              "    </tr>\n",
              "    <tr>\n",
              "      <th>2024-06-13</th>\n",
              "      <td>214.74</td>\n",
              "      <td>216.75</td>\n",
              "      <td>211.60</td>\n",
              "      <td>214.24</td>\n",
              "      <td>97862729</td>\n",
              "      <td>214.3325</td>\n",
              "      <td>214.24</td>\n",
              "      <td>97862729.0</td>\n",
              "      <td>-0.50</td>\n",
              "      <td>-0.002328</td>\n",
              "    </tr>\n",
              "    <tr>\n",
              "      <th>2024-06-14</th>\n",
              "      <td>213.85</td>\n",
              "      <td>215.17</td>\n",
              "      <td>211.30</td>\n",
              "      <td>212.49</td>\n",
              "      <td>70122748</td>\n",
              "      <td>213.2025</td>\n",
              "      <td>212.49</td>\n",
              "      <td>70122748.0</td>\n",
              "      <td>-1.36</td>\n",
              "      <td>-0.006360</td>\n",
              "    </tr>\n",
              "    <tr>\n",
              "      <th>2024-06-17</th>\n",
              "      <td>213.37</td>\n",
              "      <td>218.95</td>\n",
              "      <td>212.72</td>\n",
              "      <td>216.67</td>\n",
              "      <td>93728300</td>\n",
              "      <td>215.4275</td>\n",
              "      <td>216.67</td>\n",
              "      <td>93728300.0</td>\n",
              "      <td>3.30</td>\n",
              "      <td>0.015500</td>\n",
              "    </tr>\n",
              "    <tr>\n",
              "      <th>2024-06-18</th>\n",
              "      <td>217.59</td>\n",
              "      <td>218.63</td>\n",
              "      <td>213.00</td>\n",
              "      <td>214.29</td>\n",
              "      <td>79943254</td>\n",
              "      <td>215.8775</td>\n",
              "      <td>214.29</td>\n",
              "      <td>79943254.0</td>\n",
              "      <td>-3.30</td>\n",
              "      <td>-0.015200</td>\n",
              "    </tr>\n",
              "    <tr>\n",
              "      <th>2024-06-20</th>\n",
              "      <td>213.93</td>\n",
              "      <td>214.24</td>\n",
              "      <td>208.85</td>\n",
              "      <td>209.68</td>\n",
              "      <td>67116914</td>\n",
              "      <td>211.6750</td>\n",
              "      <td>209.68</td>\n",
              "      <td>67116914.0</td>\n",
              "      <td>-4.25</td>\n",
              "      <td>-0.019900</td>\n",
              "    </tr>\n",
              "  </tbody>\n",
              "</table>\n",
              "<p>252 rows × 10 columns</p>\n",
              "</div>\n",
              "    <div class=\"colab-df-buttons\">\n",
              "\n",
              "  <div class=\"colab-df-container\">\n",
              "    <button class=\"colab-df-convert\" onclick=\"convertToInteractive('df-25cc6fba-20b7-4c78-8784-040531ca0c0b')\"\n",
              "            title=\"Convert this dataframe to an interactive table.\"\n",
              "            style=\"display:none;\">\n",
              "\n",
              "  <svg xmlns=\"http://www.w3.org/2000/svg\" height=\"24px\" viewBox=\"0 -960 960 960\">\n",
              "    <path d=\"M120-120v-720h720v720H120Zm60-500h600v-160H180v160Zm220 220h160v-160H400v160Zm0 220h160v-160H400v160ZM180-400h160v-160H180v160Zm440 0h160v-160H620v160ZM180-180h160v-160H180v160Zm440 0h160v-160H620v160Z\"/>\n",
              "  </svg>\n",
              "    </button>\n",
              "\n",
              "  <style>\n",
              "    .colab-df-container {\n",
              "      display:flex;\n",
              "      gap: 12px;\n",
              "    }\n",
              "\n",
              "    .colab-df-convert {\n",
              "      background-color: #E8F0FE;\n",
              "      border: none;\n",
              "      border-radius: 50%;\n",
              "      cursor: pointer;\n",
              "      display: none;\n",
              "      fill: #1967D2;\n",
              "      height: 32px;\n",
              "      padding: 0 0 0 0;\n",
              "      width: 32px;\n",
              "    }\n",
              "\n",
              "    .colab-df-convert:hover {\n",
              "      background-color: #E2EBFA;\n",
              "      box-shadow: 0px 1px 2px rgba(60, 64, 67, 0.3), 0px 1px 3px 1px rgba(60, 64, 67, 0.15);\n",
              "      fill: #174EA6;\n",
              "    }\n",
              "\n",
              "    .colab-df-buttons div {\n",
              "      margin-bottom: 4px;\n",
              "    }\n",
              "\n",
              "    [theme=dark] .colab-df-convert {\n",
              "      background-color: #3B4455;\n",
              "      fill: #D2E3FC;\n",
              "    }\n",
              "\n",
              "    [theme=dark] .colab-df-convert:hover {\n",
              "      background-color: #434B5C;\n",
              "      box-shadow: 0px 1px 3px 1px rgba(0, 0, 0, 0.15);\n",
              "      filter: drop-shadow(0px 1px 2px rgba(0, 0, 0, 0.3));\n",
              "      fill: #FFFFFF;\n",
              "    }\n",
              "  </style>\n",
              "\n",
              "    <script>\n",
              "      const buttonEl =\n",
              "        document.querySelector('#df-25cc6fba-20b7-4c78-8784-040531ca0c0b button.colab-df-convert');\n",
              "      buttonEl.style.display =\n",
              "        google.colab.kernel.accessAllowed ? 'block' : 'none';\n",
              "\n",
              "      async function convertToInteractive(key) {\n",
              "        const element = document.querySelector('#df-25cc6fba-20b7-4c78-8784-040531ca0c0b');\n",
              "        const dataTable =\n",
              "          await google.colab.kernel.invokeFunction('convertToInteractive',\n",
              "                                                    [key], {});\n",
              "        if (!dataTable) return;\n",
              "\n",
              "        const docLinkHtml = 'Like what you see? Visit the ' +\n",
              "          '<a target=\"_blank\" href=https://colab.research.google.com/notebooks/data_table.ipynb>data table notebook</a>'\n",
              "          + ' to learn more about interactive tables.';\n",
              "        element.innerHTML = '';\n",
              "        dataTable['output_type'] = 'display_data';\n",
              "        await google.colab.output.renderOutput(dataTable, element);\n",
              "        const docLink = document.createElement('div');\n",
              "        docLink.innerHTML = docLinkHtml;\n",
              "        element.appendChild(docLink);\n",
              "      }\n",
              "    </script>\n",
              "  </div>\n",
              "\n",
              "\n",
              "<div id=\"df-19510309-2fe5-4043-96ed-86dff734e496\">\n",
              "  <button class=\"colab-df-quickchart\" onclick=\"quickchart('df-19510309-2fe5-4043-96ed-86dff734e496')\"\n",
              "            title=\"Suggest charts\"\n",
              "            style=\"display:none;\">\n",
              "\n",
              "<svg xmlns=\"http://www.w3.org/2000/svg\" height=\"24px\"viewBox=\"0 0 24 24\"\n",
              "     width=\"24px\">\n",
              "    <g>\n",
              "        <path d=\"M19 3H5c-1.1 0-2 .9-2 2v14c0 1.1.9 2 2 2h14c1.1 0 2-.9 2-2V5c0-1.1-.9-2-2-2zM9 17H7v-7h2v7zm4 0h-2V7h2v10zm4 0h-2v-4h2v4z\"/>\n",
              "    </g>\n",
              "</svg>\n",
              "  </button>\n",
              "\n",
              "<style>\n",
              "  .colab-df-quickchart {\n",
              "      --bg-color: #E8F0FE;\n",
              "      --fill-color: #1967D2;\n",
              "      --hover-bg-color: #E2EBFA;\n",
              "      --hover-fill-color: #174EA6;\n",
              "      --disabled-fill-color: #AAA;\n",
              "      --disabled-bg-color: #DDD;\n",
              "  }\n",
              "\n",
              "  [theme=dark] .colab-df-quickchart {\n",
              "      --bg-color: #3B4455;\n",
              "      --fill-color: #D2E3FC;\n",
              "      --hover-bg-color: #434B5C;\n",
              "      --hover-fill-color: #FFFFFF;\n",
              "      --disabled-bg-color: #3B4455;\n",
              "      --disabled-fill-color: #666;\n",
              "  }\n",
              "\n",
              "  .colab-df-quickchart {\n",
              "    background-color: var(--bg-color);\n",
              "    border: none;\n",
              "    border-radius: 50%;\n",
              "    cursor: pointer;\n",
              "    display: none;\n",
              "    fill: var(--fill-color);\n",
              "    height: 32px;\n",
              "    padding: 0;\n",
              "    width: 32px;\n",
              "  }\n",
              "\n",
              "  .colab-df-quickchart:hover {\n",
              "    background-color: var(--hover-bg-color);\n",
              "    box-shadow: 0 1px 2px rgba(60, 64, 67, 0.3), 0 1px 3px 1px rgba(60, 64, 67, 0.15);\n",
              "    fill: var(--button-hover-fill-color);\n",
              "  }\n",
              "\n",
              "  .colab-df-quickchart-complete:disabled,\n",
              "  .colab-df-quickchart-complete:disabled:hover {\n",
              "    background-color: var(--disabled-bg-color);\n",
              "    fill: var(--disabled-fill-color);\n",
              "    box-shadow: none;\n",
              "  }\n",
              "\n",
              "  .colab-df-spinner {\n",
              "    border: 2px solid var(--fill-color);\n",
              "    border-color: transparent;\n",
              "    border-bottom-color: var(--fill-color);\n",
              "    animation:\n",
              "      spin 1s steps(1) infinite;\n",
              "  }\n",
              "\n",
              "  @keyframes spin {\n",
              "    0% {\n",
              "      border-color: transparent;\n",
              "      border-bottom-color: var(--fill-color);\n",
              "      border-left-color: var(--fill-color);\n",
              "    }\n",
              "    20% {\n",
              "      border-color: transparent;\n",
              "      border-left-color: var(--fill-color);\n",
              "      border-top-color: var(--fill-color);\n",
              "    }\n",
              "    30% {\n",
              "      border-color: transparent;\n",
              "      border-left-color: var(--fill-color);\n",
              "      border-top-color: var(--fill-color);\n",
              "      border-right-color: var(--fill-color);\n",
              "    }\n",
              "    40% {\n",
              "      border-color: transparent;\n",
              "      border-right-color: var(--fill-color);\n",
              "      border-top-color: var(--fill-color);\n",
              "    }\n",
              "    60% {\n",
              "      border-color: transparent;\n",
              "      border-right-color: var(--fill-color);\n",
              "    }\n",
              "    80% {\n",
              "      border-color: transparent;\n",
              "      border-right-color: var(--fill-color);\n",
              "      border-bottom-color: var(--fill-color);\n",
              "    }\n",
              "    90% {\n",
              "      border-color: transparent;\n",
              "      border-bottom-color: var(--fill-color);\n",
              "    }\n",
              "  }\n",
              "</style>\n",
              "\n",
              "  <script>\n",
              "    async function quickchart(key) {\n",
              "      const quickchartButtonEl =\n",
              "        document.querySelector('#' + key + ' button');\n",
              "      quickchartButtonEl.disabled = true;  // To prevent multiple clicks.\n",
              "      quickchartButtonEl.classList.add('colab-df-spinner');\n",
              "      try {\n",
              "        const charts = await google.colab.kernel.invokeFunction(\n",
              "            'suggestCharts', [key], {});\n",
              "      } catch (error) {\n",
              "        console.error('Error during call to suggestCharts:', error);\n",
              "      }\n",
              "      quickchartButtonEl.classList.remove('colab-df-spinner');\n",
              "      quickchartButtonEl.classList.add('colab-df-quickchart-complete');\n",
              "    }\n",
              "    (() => {\n",
              "      let quickchartButtonEl =\n",
              "        document.querySelector('#df-19510309-2fe5-4043-96ed-86dff734e496 button');\n",
              "      quickchartButtonEl.style.display =\n",
              "        google.colab.kernel.accessAllowed ? 'block' : 'none';\n",
              "    })();\n",
              "  </script>\n",
              "</div>\n",
              "    </div>\n",
              "  </div>\n"
            ],
            "application/vnd.google.colaboratory.intrinsic+json": {
              "type": "dataframe",
              "summary": "{\n  \"name\": \"obb\",\n  \"rows\": 252,\n  \"fields\": [\n    {\n      \"column\": \"date\",\n      \"properties\": {\n        \"dtype\": \"date\",\n        \"min\": \"2023-06-21\",\n        \"max\": \"2024-06-20\",\n        \"num_unique_values\": 252,\n        \"samples\": [\n          \"2024-02-15\",\n          \"2023-06-29\",\n          \"2023-11-28\"\n        ],\n        \"semantic_type\": \"\",\n        \"description\": \"\"\n      }\n    },\n    {\n      \"column\": \"open\",\n      \"properties\": {\n        \"dtype\": \"number\",\n        \"std\": 9.93151849080972,\n        \"min\": 165.35,\n        \"max\": 217.59,\n        \"num_unique_values\": 240,\n        \"samples\": [\n          193.67,\n          189.08,\n          176.38\n        ],\n        \"semantic_type\": \"\",\n        \"description\": \"\"\n      }\n    },\n    {\n      \"column\": \"high\",\n      \"properties\": {\n        \"dtype\": \"number\",\n        \"std\": 10.023428624272485,\n        \"min\": 166.4,\n        \"max\": 220.2,\n        \"num_unique_values\": 244,\n        \"samples\": [\n          195.64,\n          190.07,\n          189.25\n        ],\n        \"semantic_type\": \"\",\n        \"description\": \"\"\n      }\n    },\n    {\n      \"column\": \"low\",\n      \"properties\": {\n        \"dtype\": \"number\",\n        \"std\": 9.83491584935031,\n        \"min\": 164.08,\n        \"max\": 213.0,\n        \"num_unique_values\": 249,\n        \"samples\": [\n          181.5,\n          188.94,\n          181.59\n        ],\n        \"semantic_type\": \"\",\n        \"description\": \"\"\n      }\n    },\n    {\n      \"column\": \"close\",\n      \"properties\": {\n        \"dtype\": \"number\",\n        \"std\": 9.959302077635009,\n        \"min\": 165.0,\n        \"max\": 216.67,\n        \"num_unique_values\": 244,\n        \"samples\": [\n          194.5,\n          189.59,\n          189.3\n        ],\n        \"semantic_type\": \"\",\n        \"description\": \"\"\n      }\n    },\n    {\n      \"column\": \"volume\",\n      \"properties\": {\n        \"dtype\": \"number\",\n        \"std\": 21753607,\n        \"min\": 24048344,\n        \"max\": 198134293,\n        \"num_unique_values\": 252,\n        \"samples\": [\n          65434496,\n          46347308,\n          38415419\n        ],\n        \"semantic_type\": \"\",\n        \"description\": \"\"\n      }\n    },\n    {\n      \"column\": \"vwap\",\n      \"properties\": {\n        \"dtype\": \"number\",\n        \"std\": 9.894219263783636,\n        \"min\": 165.4225,\n        \"max\": 215.8775,\n        \"num_unique_values\": 244,\n        \"samples\": [\n          194.2825,\n          189.42,\n          187.73\n        ],\n        \"semantic_type\": \"\",\n        \"description\": \"\"\n      }\n    },\n    {\n      \"column\": \"adj_close\",\n      \"properties\": {\n        \"dtype\": \"number\",\n        \"std\": 9.959497212280935,\n        \"min\": 164.78,\n        \"max\": 216.67,\n        \"num_unique_values\": 246,\n        \"samples\": [\n          178.85,\n          188.59,\n          172.77\n        ],\n        \"semantic_type\": \"\",\n        \"description\": \"\"\n      }\n    },\n    {\n      \"column\": \"unadjusted_volume\",\n      \"properties\": {\n        \"dtype\": \"number\",\n        \"std\": 21753607.09040661,\n        \"min\": 24048344.0,\n        \"max\": 198134293.0,\n        \"num_unique_values\": 252,\n        \"samples\": [\n          65434496.0,\n          46347308.0,\n          38415419.0\n        ],\n        \"semantic_type\": \"\",\n        \"description\": \"\"\n      }\n    },\n    {\n      \"column\": \"change\",\n      \"properties\": {\n        \"dtype\": \"number\",\n        \"std\": 2.0552064837595383,\n        \"min\": -5.68,\n        \"max\": 13.5,\n        \"num_unique_values\": 211,\n        \"samples\": [\n          -0.4,\n          0.97,\n          -0.47\n        ],\n        \"semantic_type\": \"\",\n        \"description\": \"\"\n      }\n    },\n    {\n      \"column\": \"change_percent\",\n      \"properties\": {\n        \"dtype\": \"number\",\n        \"std\": 0.011137274039176297,\n        \"min\": -0.0321,\n        \"max\": 0.0697,\n        \"num_unique_values\": 240,\n        \"samples\": [\n          -0.0143,\n          0.0026973,\n          0.0162\n        ],\n        \"semantic_type\": \"\",\n        \"description\": \"\"\n      }\n    }\n  ]\n}"
            }
          },
          "metadata": {},
          "execution_count": 5
        }
      ],
      "source": [
        "obb.equity.price.historical(symbol=\"AAPL\", provider=\"fmp\").to_df()"
      ]
    },
    {
      "cell_type": "code",
      "execution_count": 6,
      "metadata": {
        "colab": {
          "base_uri": "https://localhost:8080/",
          "height": 263
        },
        "id": "S4W6Dh8KHQnL",
        "outputId": "f7cef6ad-9e59-47b1-caa3-b58e0a6d5a12"
      },
      "outputs": [
        {
          "output_type": "error",
          "ename": "AttributeError",
          "evalue": "'OBBject' object has no attribute 'to_chart'",
          "traceback": [
            "\u001b[0;31m---------------------------------------------------------------------------\u001b[0m",
            "\u001b[0;31mAttributeError\u001b[0m                            Traceback (most recent call last)",
            "\u001b[0;32m<ipython-input-6-c91d7bad2d2c>\u001b[0m in \u001b[0;36m<cell line: 1>\u001b[0;34m()\u001b[0m\n\u001b[0;32m----> 1\u001b[0;31m \u001b[0mobb\u001b[0m\u001b[0;34m.\u001b[0m\u001b[0mequity\u001b[0m\u001b[0;34m.\u001b[0m\u001b[0mprice\u001b[0m\u001b[0;34m.\u001b[0m\u001b[0mhistorical\u001b[0m\u001b[0;34m(\u001b[0m\u001b[0;34m\"AAPL\"\u001b[0m\u001b[0;34m,\u001b[0m \u001b[0mstart_date\u001b[0m\u001b[0;34m=\u001b[0m\u001b[0;34m\"2022-01-01\"\u001b[0m\u001b[0;34m,\u001b[0m \u001b[0mprovider\u001b[0m\u001b[0;34m=\u001b[0m\u001b[0;34m'fmp'\u001b[0m\u001b[0;34m)\u001b[0m\u001b[0;34m.\u001b[0m\u001b[0mto_chart\u001b[0m\u001b[0;34m(\u001b[0m\u001b[0;34m)\u001b[0m\u001b[0;34m\u001b[0m\u001b[0;34m\u001b[0m\u001b[0m\n\u001b[0m",
            "\u001b[0;32m/usr/local/lib/python3.10/dist-packages/pydantic/main.py\u001b[0m in \u001b[0;36m__getattr__\u001b[0;34m(self, item)\u001b[0m\n\u001b[1;32m    809\u001b[0m                     \u001b[0;32melse\u001b[0m\u001b[0;34m:\u001b[0m\u001b[0;34m\u001b[0m\u001b[0;34m\u001b[0m\u001b[0m\n\u001b[1;32m    810\u001b[0m                         \u001b[0;31m# this is the current error\u001b[0m\u001b[0;34m\u001b[0m\u001b[0;34m\u001b[0m\u001b[0m\n\u001b[0;32m--> 811\u001b[0;31m                         \u001b[0;32mraise\u001b[0m \u001b[0mAttributeError\u001b[0m\u001b[0;34m(\u001b[0m\u001b[0;34mf'{type(self).__name__!r} object has no attribute {item!r}'\u001b[0m\u001b[0;34m)\u001b[0m\u001b[0;34m\u001b[0m\u001b[0;34m\u001b[0m\u001b[0m\n\u001b[0m\u001b[1;32m    812\u001b[0m \u001b[0;34m\u001b[0m\u001b[0m\n\u001b[1;32m    813\u001b[0m         \u001b[0;32mdef\u001b[0m \u001b[0m__setattr__\u001b[0m\u001b[0;34m(\u001b[0m\u001b[0mself\u001b[0m\u001b[0;34m,\u001b[0m \u001b[0mname\u001b[0m\u001b[0;34m:\u001b[0m \u001b[0mstr\u001b[0m\u001b[0;34m,\u001b[0m \u001b[0mvalue\u001b[0m\u001b[0;34m:\u001b[0m \u001b[0mAny\u001b[0m\u001b[0;34m)\u001b[0m \u001b[0;34m->\u001b[0m \u001b[0;32mNone\u001b[0m\u001b[0;34m:\u001b[0m\u001b[0;34m\u001b[0m\u001b[0;34m\u001b[0m\u001b[0m\n",
            "\u001b[0;31mAttributeError\u001b[0m: 'OBBject' object has no attribute 'to_chart'"
          ]
        }
      ],
      "source": [
        "obb.equity.price.historical(\"AAPL\", start_date=\"2022-01-01\", provider='fmp').to_chart()"
      ]
    },
    {
      "cell_type": "markdown",
      "metadata": {
        "id": "RVg0I07zHQnL"
      },
      "source": [
        "### Input Schema"
      ]
    },
    {
      "cell_type": "code",
      "execution_count": 7,
      "metadata": {
        "colab": {
          "base_uri": "https://localhost:8080/"
        },
        "id": "i-EScCueHQnL",
        "outputId": "2b0ea4dd-46ed-4407-e79d-1cba8f8d0126"
      },
      "outputs": [
        {
          "output_type": "execute_result",
          "data": {
            "text/plain": [
              "{'fields': {'symbol': FieldInfo(annotation=str, required=True, description='Symbol to get data for.', json_schema_extra={'fmp': {'multiple_items_allowed': True}, 'polygon': {'multiple_items_allowed': True}, 'tiingo': {'multiple_items_allowed': True}, 'yfinance': {'multiple_items_allowed': True}}),\n",
              "  'interval': FieldInfo(annotation=Union[str, NoneType], required=False, default='1d', description='Time interval of the data to return.'),\n",
              "  'start_date': FieldInfo(annotation=Union[date, NoneType], required=False, default=None, description='Start date of the data, in YYYY-MM-DD format.'),\n",
              "  'end_date': FieldInfo(annotation=Union[date, NoneType], required=False, default=None, description='End date of the data, in YYYY-MM-DD format.')},\n",
              " 'docstring': 'Equity Historical Price Query.'}"
            ]
          },
          "metadata": {},
          "execution_count": 7
        }
      ],
      "source": [
        "obb.coverage.command_model[\".equity.price.historical\"][\"openbb\"][\"QueryParams\"]"
      ]
    },
    {
      "cell_type": "code",
      "execution_count": 8,
      "metadata": {
        "colab": {
          "base_uri": "https://localhost:8080/"
        },
        "id": "7C-mWzhIHQnL",
        "outputId": "13b8a590-2a93-410c-bb0f-d8ea8de79c4e"
      },
      "outputs": [
        {
          "output_type": "execute_result",
          "data": {
            "text/plain": [
              "{'fields': {'interval': FieldInfo(annotation=str, required=False, default='1d', description='Time interval of the data to return. The numeric portion of the interval can be any positive integer. The letter portion can be one of the following: s, m, h, d, W, M, Q, Y'),\n",
              "  'adjustment': FieldInfo(annotation=Literal['splits_only', 'unadjusted'], required=False, default='splits_only', description='The adjustment factor to apply. Default is splits only.'),\n",
              "  'extended_hours': FieldInfo(annotation=bool, required=False, default=False, description='Include Pre and Post market data.'),\n",
              "  'sort': FieldInfo(annotation=Literal['asc', 'desc'], required=False, default='asc', description=\"Sort order of the data. This impacts the results in combination with the 'limit' parameter. The results are always returned in ascending order by date.\"),\n",
              "  'limit': FieldInfo(annotation=int, required=False, default=49999, description='The number of data entries to return.', metadata=[Gt(gt=0)])},\n",
              " 'docstring': 'Polygon Equity Historical Price Query.\\n\\n    Source: https://polygon.io/docs/stocks/getting-started\\n    '}"
            ]
          },
          "metadata": {},
          "execution_count": 8
        }
      ],
      "source": [
        "obb.coverage.command_model[\".equity.price.historical\"][\"polygon\"][\"QueryParams\"]"
      ]
    },
    {
      "cell_type": "markdown",
      "metadata": {
        "id": "kECpK203HQnL"
      },
      "source": [
        "### Documentation"
      ]
    },
    {
      "cell_type": "code",
      "execution_count": 9,
      "metadata": {
        "colab": {
          "base_uri": "https://localhost:8080/"
        },
        "id": "tAzOuZHgHQnM",
        "outputId": "e7ae0fee-d550-4962-e7bf-a400e537dcdb"
      },
      "outputs": [
        {
          "output_type": "stream",
          "name": "stdout",
          "text": [
            "Help on method historical in module openbb.package.equity_price:\n",
            "\n",
            "historical(symbol: Annotated[Union[str, List[str]], OpenBBField(description='Symbol to get data for. Multiple comma separated items allowed for provider(s): fmp, polygon, tiingo, yfinance.')], interval: Annotated[Optional[str], OpenBBField(description='Time interval of the data to return.')] = '1d', start_date: Annotated[Union[datetime.date, NoneType, str], OpenBBField(description='Start date of the data, in YYYY-MM-DD format.')] = None, end_date: Annotated[Union[datetime.date, NoneType, str], OpenBBField(description='End date of the data, in YYYY-MM-DD format.')] = None, chart: typing.Annotated[bool, OpenBBField(description='Whether to create a chart or not, by default False.')] = False, provider: Annotated[Optional[Literal['fmp', 'intrinio', 'polygon', 'tiingo', 'yfinance']], OpenBBField(description='The provider to use, by default None. If None, the priority list configured in the settings is used. Default priority: fmp, intrinio, polygon, tiingo, yfinance.')] = None, **kwargs) -> openbb_core.app.model.obbject.OBBject method of openbb.package.equity_price.ROUTER_equity_price instance\n",
            "    Get historical price data for a given stock. This includes open, high, low, close, and volume.\n",
            "    \n",
            "    Parameters\n",
            "    ----------\n",
            "    symbol : Union[str, List[str]]\n",
            "        Symbol to get data for. Multiple comma separated items allowed for provider(s): fmp, polygon, tiingo, yfinance.\n",
            "    interval : Optional[str]\n",
            "        Time interval of the data to return.\n",
            "    start_date : Union[datetime.date, None, str]\n",
            "        Start date of the data, in YYYY-MM-DD format.\n",
            "    end_date : Union[datetime.date, None, str]\n",
            "        End date of the data, in YYYY-MM-DD format.\n",
            "    chart : bool\n",
            "        Whether to create a chart or not, by default False.\n",
            "    provider : Optional[Literal['fmp', 'intrinio', 'polygon', 'tiingo', 'yfinanc...\n",
            "        The provider to use, by default None. If None, the priority list configured in the settings is used. Default priority: fmp, intrinio, polygon, tiingo, yfinance.\n",
            "    start_time : Optional[datetime.time]\n",
            "        Return intervals starting at the specified time on the `start_date` formatted as 'HH:MM:SS'. (provider: intrinio)\n",
            "    end_time : Optional[datetime.time]\n",
            "        Return intervals stopping at the specified time on the `end_date` formatted as 'HH:MM:SS'. (provider: intrinio)\n",
            "    timezone : Optional[str]\n",
            "        Timezone of the data, in the IANA format (Continent/City). (provider: intrinio)\n",
            "    source : Literal['realtime', 'delayed', 'nasdaq_basic']\n",
            "        The source of the data. (provider: intrinio)\n",
            "    adjustment : Union[Literal['splits_only', 'unadjusted'], Literal['splits_only', 'splits_and_dividends']]\n",
            "        The adjustment factor to apply. Default is splits only. (provider: polygon, yfinance)\n",
            "    extended_hours : bool\n",
            "        Include Pre and Post market data. (provider: polygon, yfinance)\n",
            "    sort : Literal['asc', 'desc']\n",
            "        Sort order of the data. This impacts the results in combination with the 'limit' parameter. The results are always returned in ascending order by date. (provider: polygon)\n",
            "    limit : int\n",
            "        The number of data entries to return. (provider: polygon)\n",
            "    include_actions : bool\n",
            "        Include dividends and stock splits in results. (provider: yfinance)\n",
            "    adjusted : bool\n",
            "        This field is deprecated (4.1.5) and will be removed in a future version. Use 'adjustment' set as 'splits_and_dividends' instead. (provider: yfinance)\n",
            "    prepost : bool\n",
            "        This field is deprecated (4.1.5) and will be removed in a future version. Use 'extended_hours' as True instead. (provider: yfinance)\n",
            "    \n",
            "    Returns\n",
            "    -------\n",
            "    OBBject\n",
            "        results : List[EquityHistorical]\n",
            "            Serializable results.\n",
            "        provider : Optional[Literal['fmp', 'intrinio', 'polygon', 'tiingo', 'yfinance']]\n",
            "            Provider name.\n",
            "        warnings : Optional[List[Warning_]]\n",
            "            List of warnings.\n",
            "        chart : Optional[Chart]\n",
            "            Chart object.\n",
            "        extra : Dict[str, Any]\n",
            "            Extra info.\n",
            "    \n",
            "    EquityHistorical\n",
            "    ----------------\n",
            "    date : Union[date, datetime]\n",
            "        The date of the data. \n",
            "    open : float\n",
            "        The open price. \n",
            "    high : float\n",
            "        The high price. \n",
            "    low : float\n",
            "        The low price. \n",
            "    close : float\n",
            "        The close price. \n",
            "    volume : Optional[Union[int, float]]\n",
            "        The trading volume. \n",
            "    vwap : Optional[float]\n",
            "        Volume Weighted Average Price over the period. \n",
            "    adj_close : Optional[float]\n",
            "        The adjusted close price. (provider: fmp, intrinio, tiingo)\n",
            "    unadjusted_volume : Optional[float]\n",
            "        Unadjusted volume of the symbol. (provider: fmp)\n",
            "    change : Optional[float]\n",
            "        Change in the price from the previous close. (provider: fmp);\n",
            "        Change in the price of the symbol from the previous day. (provider: intrinio)\n",
            "    change_percent : Optional[float]\n",
            "        Change in the price from the previous close, as a normalized percent. (provider: fmp);\n",
            "        Percent change in the price of the symbol from the previous day. (provider: intrinio)\n",
            "    average : Optional[float]\n",
            "        Average trade price of an individual equity during the interval. (provider: intrinio)\n",
            "    adj_open : Optional[float]\n",
            "        The adjusted open price. (provider: intrinio, tiingo)\n",
            "    adj_high : Optional[float]\n",
            "        The adjusted high price. (provider: intrinio, tiingo)\n",
            "    adj_low : Optional[float]\n",
            "        The adjusted low price. (provider: intrinio, tiingo)\n",
            "    adj_volume : Optional[float]\n",
            "        The adjusted volume. (provider: intrinio, tiingo)\n",
            "    fifty_two_week_high : Optional[float]\n",
            "        52 week high price for the symbol. (provider: intrinio)\n",
            "    fifty_two_week_low : Optional[float]\n",
            "        52 week low price for the symbol. (provider: intrinio)\n",
            "    factor : Optional[float]\n",
            "        factor by which to multiply equity prices before this date, in order to calculate historically-adjusted equity prices. (provider: intrinio)\n",
            "    split_ratio : Optional[float]\n",
            "        Ratio of the equity split, if a split occurred. (provider: intrinio, tiingo, yfinance)\n",
            "    dividend : Optional[float]\n",
            "        Dividend amount, if a dividend was paid. (provider: intrinio, tiingo, yfinance)\n",
            "    close_time : Optional[datetime]\n",
            "        The timestamp that represents the end of the interval span. (provider: intrinio)\n",
            "    interval : Optional[str]\n",
            "        The data time frequency. (provider: intrinio)\n",
            "    intra_period : Optional[bool]\n",
            "        If true, the equity price represents an unfinished period (be it day, week, quarter, month, or year), meaning that the close price is the latest price available, not the official close price for the period (provider: intrinio)\n",
            "    transactions : Optional[Annotated[int, Gt(gt=0)]]\n",
            "        Number of transactions for the symbol in the time period. (provider: polygon)\n",
            "    \n",
            "    Examples\n",
            "    --------\n",
            "    >>> from openbb import obb\n",
            "    >>> obb.equity.price.historical(symbol='AAPL', provider='fmp')\n",
            "    >>> obb.equity.price.historical(symbol='AAPL', interval='1d', provider='intrinio')\n",
            "\n"
          ]
        }
      ],
      "source": [
        "help(obb.equity.price.historical)"
      ]
    },
    {
      "cell_type": "markdown",
      "metadata": {
        "id": "OvZPyjjsHQnM"
      },
      "source": [
        "## OpenBB tool"
      ]
    },
    {
      "cell_type": "code",
      "execution_count": 10,
      "metadata": {
        "id": "7qNxZQChHQnM"
      },
      "outputs": [],
      "source": [
        "from langchain_core.tools import StructuredTool\n",
        "\n",
        "llm_historical_price = StructuredTool.from_function(\n",
        "    func=obb.equity.price.historical,\n",
        "    description=obb.equity.price.historical.__doc__.split('\\n')[0]  # Use first line of docstring\n",
        ")"
      ]
    },
    {
      "cell_type": "markdown",
      "metadata": {
        "id": "7ML2koKHHQnM"
      },
      "source": [
        "## Multiple OpenBB Tools"
      ]
    },
    {
      "cell_type": "code",
      "execution_count": 11,
      "metadata": {
        "id": "eYs0KwiRHQnM"
      },
      "outputs": [],
      "source": [
        "llm_tools = [\n",
        "    StructuredTool.from_function(\n",
        "        name=name,\n",
        "        func=schema['callable'],\n",
        "        description=schema['callable'].__doc__.split('\\n')[0]\n",
        "    )\n",
        "    for name, schema\n",
        "    in obb.coverage.command_schemas().items()\n",
        "]"
      ]
    },
    {
      "cell_type": "markdown",
      "metadata": {
        "id": "Xg1gYtIOHQnM"
      },
      "source": [
        "## OpenBB Tools fed to agent"
      ]
    },
    {
      "cell_type": "code",
      "source": [
        "from google.colab import auth\n",
        "\n",
        "auth.authenticate_user()"
      ],
      "metadata": {
        "id": "VILNJGWbNH-R"
      },
      "execution_count": 13,
      "outputs": []
    },
    {
      "cell_type": "code",
      "execution_count": 14,
      "metadata": {
        "colab": {
          "base_uri": "https://localhost:8080/",
          "height": 478
        },
        "id": "rJo2TDyLHQnM",
        "outputId": "b9ecfc2d-b2cd-4869-fbfa-0c4d3acfebbd"
      },
      "outputs": [
        {
          "output_type": "error",
          "ename": "ValidationError",
          "evalue": "1 validation error for VertexAI\n__root__\n  Unable to find your project. Please provide a project ID by:\n- Passing a constructor argument\n- Using vertexai.init()\n- Setting project using 'gcloud config set project my-project'\n- Setting a GCP environment variable\n- To create a Google Cloud project, please follow guidance at https://developers.google.com/workspace/guides/create-project (type=value_error)",
          "traceback": [
            "\u001b[0;31m---------------------------------------------------------------------------\u001b[0m",
            "\u001b[0;31mValidationError\u001b[0m                           Traceback (most recent call last)",
            "\u001b[0;32m<ipython-input-14-ba7367832abc>\u001b[0m in \u001b[0;36m<cell line: 21>\u001b[0;34m()\u001b[0m\n\u001b[1;32m     19\u001b[0m ]\n\u001b[1;32m     20\u001b[0m \u001b[0;34m\u001b[0m\u001b[0m\n\u001b[0;32m---> 21\u001b[0;31m \u001b[0mllm\u001b[0m \u001b[0;34m=\u001b[0m \u001b[0mVertexAI\u001b[0m\u001b[0;34m(\u001b[0m\u001b[0mmodel_name\u001b[0m\u001b[0;34m=\u001b[0m\u001b[0;34m\"gemini-pro\"\u001b[0m\u001b[0;34m)\u001b[0m\u001b[0;34m\u001b[0m\u001b[0;34m\u001b[0m\u001b[0m\n\u001b[0m\u001b[1;32m     22\u001b[0m \u001b[0;34m\u001b[0m\u001b[0m\n\u001b[1;32m     23\u001b[0m \u001b[0magent\u001b[0m \u001b[0;34m=\u001b[0m \u001b[0mcreate_openai_functions_agent\u001b[0m\u001b[0;34m(\u001b[0m\u001b[0mllm\u001b[0m\u001b[0;34m=\u001b[0m\u001b[0mllm\u001b[0m\u001b[0;34m,\u001b[0m \u001b[0mtools\u001b[0m\u001b[0;34m=\u001b[0m\u001b[0mllm_tools\u001b[0m\u001b[0;34m,\u001b[0m \u001b[0mprompt\u001b[0m\u001b[0;34m=\u001b[0m\u001b[0mprompt\u001b[0m\u001b[0;34m)\u001b[0m\u001b[0;34m\u001b[0m\u001b[0;34m\u001b[0m\u001b[0m\n",
            "\u001b[0;32m/usr/local/lib/python3.10/dist-packages/langchain_google_vertexai/llms.py\u001b[0m in \u001b[0;36m__init__\u001b[0;34m(self, model_name, **kwargs)\u001b[0m\n\u001b[1;32m    119\u001b[0m         \u001b[0;32mif\u001b[0m \u001b[0mmodel_name\u001b[0m\u001b[0;34m:\u001b[0m\u001b[0;34m\u001b[0m\u001b[0;34m\u001b[0m\u001b[0m\n\u001b[1;32m    120\u001b[0m             \u001b[0mkwargs\u001b[0m\u001b[0;34m[\u001b[0m\u001b[0;34m\"model_name\"\u001b[0m\u001b[0;34m]\u001b[0m \u001b[0;34m=\u001b[0m \u001b[0mmodel_name\u001b[0m\u001b[0;34m\u001b[0m\u001b[0;34m\u001b[0m\u001b[0m\n\u001b[0;32m--> 121\u001b[0;31m         \u001b[0msuper\u001b[0m\u001b[0;34m(\u001b[0m\u001b[0;34m)\u001b[0m\u001b[0;34m.\u001b[0m\u001b[0m__init__\u001b[0m\u001b[0;34m(\u001b[0m\u001b[0;34m**\u001b[0m\u001b[0mkwargs\u001b[0m\u001b[0;34m)\u001b[0m\u001b[0;34m\u001b[0m\u001b[0;34m\u001b[0m\u001b[0m\n\u001b[0m\u001b[1;32m    122\u001b[0m \u001b[0;34m\u001b[0m\u001b[0m\n\u001b[1;32m    123\u001b[0m     \u001b[0;32mclass\u001b[0m \u001b[0mConfig\u001b[0m\u001b[0;34m:\u001b[0m\u001b[0;34m\u001b[0m\u001b[0;34m\u001b[0m\u001b[0m\n",
            "\u001b[0;32m/usr/local/lib/python3.10/dist-packages/pydantic/v1/main.py\u001b[0m in \u001b[0;36m__init__\u001b[0;34m(__pydantic_self__, **data)\u001b[0m\n\u001b[1;32m    339\u001b[0m         \u001b[0mvalues\u001b[0m\u001b[0;34m,\u001b[0m \u001b[0mfields_set\u001b[0m\u001b[0;34m,\u001b[0m \u001b[0mvalidation_error\u001b[0m \u001b[0;34m=\u001b[0m \u001b[0mvalidate_model\u001b[0m\u001b[0;34m(\u001b[0m\u001b[0m__pydantic_self__\u001b[0m\u001b[0;34m.\u001b[0m\u001b[0m__class__\u001b[0m\u001b[0;34m,\u001b[0m \u001b[0mdata\u001b[0m\u001b[0;34m)\u001b[0m\u001b[0;34m\u001b[0m\u001b[0;34m\u001b[0m\u001b[0m\n\u001b[1;32m    340\u001b[0m         \u001b[0;32mif\u001b[0m \u001b[0mvalidation_error\u001b[0m\u001b[0;34m:\u001b[0m\u001b[0;34m\u001b[0m\u001b[0;34m\u001b[0m\u001b[0m\n\u001b[0;32m--> 341\u001b[0;31m             \u001b[0;32mraise\u001b[0m \u001b[0mvalidation_error\u001b[0m\u001b[0;34m\u001b[0m\u001b[0;34m\u001b[0m\u001b[0m\n\u001b[0m\u001b[1;32m    342\u001b[0m         \u001b[0;32mtry\u001b[0m\u001b[0;34m:\u001b[0m\u001b[0;34m\u001b[0m\u001b[0;34m\u001b[0m\u001b[0m\n\u001b[1;32m    343\u001b[0m             \u001b[0mobject_setattr\u001b[0m\u001b[0;34m(\u001b[0m\u001b[0m__pydantic_self__\u001b[0m\u001b[0;34m,\u001b[0m \u001b[0;34m'__dict__'\u001b[0m\u001b[0;34m,\u001b[0m \u001b[0mvalues\u001b[0m\u001b[0;34m)\u001b[0m\u001b[0;34m\u001b[0m\u001b[0;34m\u001b[0m\u001b[0m\n",
            "\u001b[0;31mValidationError\u001b[0m: 1 validation error for VertexAI\n__root__\n  Unable to find your project. Please provide a project ID by:\n- Passing a constructor argument\n- Using vertexai.init()\n- Setting project using 'gcloud config set project my-project'\n- Setting a GCP environment variable\n- To create a Google Cloud project, please follow guidance at https://developers.google.com/workspace/guides/create-project (type=value_error)"
          ]
        }
      ],
      "source": [
        "from langchain.agents import AgentExecutor, create_openai_functions_agent\n",
        "from langchain_google_vertexai import VertexAI\n",
        "from langchain_core.prompts import ChatPromptTemplate, MessagesPlaceholder\n",
        "\n",
        "\n",
        "prompt = ChatPromptTemplate.from_messages(\n",
        "    [\n",
        "        (\"system\", \"You are a very powerful assistant, but don't know current events\"),\n",
        "        (\"user\", \"{input}\"),\n",
        "        MessagesPlaceholder(variable_name=\"agent_scratchpad\")\n",
        "    ]\n",
        ")\n",
        "\n",
        "llm_tools = [\n",
        "    StructuredTool.from_function(\n",
        "        func=obb.equity.price.quote,\n",
        "        description=obb.equity.price.quote.__doc__.split(\"\\n\")[0]\n",
        "    )\n",
        "]\n",
        "\n",
        "llm = VertexAI(model_name=\"gemini-pro\")\n",
        "\n",
        "agent = create_openai_functions_agent(llm=llm, tools=llm_tools, prompt=prompt)\n",
        "agent_executor = AgentExecutor(agent=agent, tools=llm_tools, verbose=True)\n",
        "\n",
        "agent_executor.invoke({\"input\": \"What is the latest stock price of AAPL?\"})"
      ]
    },
    {
      "cell_type": "code",
      "source": [],
      "metadata": {
        "id": "jnrGKBZuL7tc"
      },
      "execution_count": null,
      "outputs": []
    }
  ],
  "metadata": {
    "kernelspec": {
      "display_name": "Python 3 (ipykernel)",
      "language": "python",
      "name": "python3"
    },
    "language_info": {
      "codemirror_mode": {
        "name": "ipython",
        "version": 3
      },
      "file_extension": ".py",
      "mimetype": "text/x-python",
      "name": "python",
      "nbconvert_exporter": "python",
      "pygments_lexer": "ipython3",
      "version": "3.11.6"
    },
    "colab": {
      "provenance": [],
      "include_colab_link": true
    }
  },
  "nbformat": 4,
  "nbformat_minor": 0
}